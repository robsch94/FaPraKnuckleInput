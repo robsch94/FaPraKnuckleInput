{
 "cells": [
  {
   "cell_type": "code",
   "execution_count": 1,
   "metadata": {},
   "outputs": [],
   "source": [
    "## Preprocessing for LSTM: Blobdetection and "
   ]
  },
  {
   "cell_type": "code",
   "execution_count": 2,
   "metadata": {},
   "outputs": [],
   "source": [
    "%matplotlib inline\n",
    "\n",
    "from scipy.odr import *\n",
    "from scipy.stats import *\n",
    "import numpy as np\n",
    "import pandas as pd\n",
    "import os\n",
    "import time\n",
    "import matplotlib.pyplot as plt\n",
    "import ast\n",
    "from multiprocessing import Pool, cpu_count\n",
    "\n",
    "import scipy\n",
    "\n",
    "from IPython import display\n",
    "from matplotlib.patches import Rectangle\n",
    "\n",
    "from sklearn.metrics import mean_squared_error\n",
    "import json\n",
    "\n",
    "import scipy.stats as st\n",
    "from sklearn.metrics import r2_score\n",
    "\n",
    "\n",
    "from matplotlib import cm\n",
    "from mpl_toolkits.mplot3d import axes3d\n",
    "import matplotlib.pyplot as plt\n",
    "\n",
    "import copy\n",
    "\n",
    "from sklearn.model_selection import LeaveOneOut, LeavePOut\n",
    "\n",
    "from multiprocessing import Pool\n",
    "import cv2"
   ]
  },
  {
   "cell_type": "code",
   "execution_count": 3,
   "metadata": {},
   "outputs": [],
   "source": [
    "import math\n",
    "\n",
    "class Vector2:\n",
    "\n",
    "    x = 0\n",
    "    y = 0\n",
    "\n",
    "    def __init__(self, x, y):\n",
    "        self.x = x\n",
    "        self.y = y\n",
    "\n",
    "    def __add__(self, other):\n",
    "        return Vector2(self.x + other.x, self.y + other.y)\n",
    "\n",
    "    def __radd__(self, other):\n",
    "        return Vector2(other.x + self.x, other.y + self.y)\n",
    "\n",
    "    def __sub__(self, other):\n",
    "        return Vector2(self.x - other.x, self.y - other.y)\n",
    "\n",
    "    def __mul__(self, other):\n",
    "        return Vector2(self.x * other, self.y * other)\n",
    "\n",
    "    def __rmul__(self, other):\n",
    "        return Vector2(other * self.x, other * self.y)\n",
    "\n",
    "    def __truediv__(self, other):\n",
    "        return Vector2(self.x / other, self.y / other)\n",
    "\n",
    "    def __str__(self):\n",
    "        return \"(\" + str(self.x) + \",\" + str(self.y) + \")\"\n",
    "\n",
    "    def __eq__(self, other):\n",
    "        if isinstance(other, self.__class__):\n",
    "            return self.x == other.x and self.y == other.y\n",
    "        return False\n",
    "    \n",
    "    def __lt__(self, other):\n",
    "        if self.y > other.y:\n",
    "            return False\n",
    "        elif self.y < other.y:\n",
    "            return True\n",
    "        return self.x < other.x\n",
    "    \n",
    "    def __le__(self, other):\n",
    "        if self.y > other.y:\n",
    "            return False\n",
    "        elif self.y < other.y:\n",
    "            return True\n",
    "        return self.x <= other.x\n",
    "    \n",
    "    def __gt__(self, other):\n",
    "        if self.y < other.y:\n",
    "            return False\n",
    "        elif self.y > other.y:\n",
    "            return True\n",
    "        return self.x > other.x\n",
    "    \n",
    "    def __ge__(self, other):\n",
    "        if self.y < other.y:\n",
    "            return False\n",
    "        elif self.y > other.y:\n",
    "            return True\n",
    "        return self.x >= other.x\n",
    "        \n",
    "    def __hash__(self):\n",
    "        return hash((self.x, self.y))\n",
    "\n",
    "    def magnitude(self):\n",
    "        return math.sqrt(self.x * self.x + self.y * self.y)\n",
    "\n",
    "    @staticmethod\n",
    "    def zero():\n",
    "        return Vector2(0, 0)\n",
    "\n",
    "    @staticmethod\n",
    "    def normalize(vector):\n",
    "        return vector / vector.magnitude()\n",
    "\n",
    "    @staticmethod\n",
    "    def dot(a, b):\n",
    "        return a.x * b.x + a.y * b.y\n",
    "    \n",
    "    @staticmethod\n",
    "    def cross(a, b):\n",
    "        return (a.x * b.y) - (a.y * b.x)\n",
    "\n",
    "    @staticmethod\n",
    "    def distance(a, b):\n",
    "        return Vector2(a.x - b.x, a.y - b.y).magnitude()\n",
    "\n",
    "    @staticmethod\n",
    "    def angle(a, b):\n",
    "        if Vector2.cross(a, b) < 0:\n",
    "            return -1.0 * np.arccos(Vector2.dot(a, b) / (a.magnitude() * b.magnitude()))\n",
    "        return np.arccos(Vector2.dot(a, b) / (a.magnitude() * b.magnitude()))"
   ]
  },
  {
   "cell_type": "code",
   "execution_count": 4,
   "metadata": {},
   "outputs": [],
   "source": [
    "df_filtered = pd.read_pickle(\"PklData/dfFiltered_LSTM.pkl\")"
   ]
  },
  {
   "cell_type": "code",
   "execution_count": 5,
   "metadata": {},
   "outputs": [
    {
     "data": {
      "text/html": [
       "<div>\n",
       "<style scoped>\n",
       "    .dataframe tbody tr th:only-of-type {\n",
       "        vertical-align: middle;\n",
       "    }\n",
       "\n",
       "    .dataframe tbody tr th {\n",
       "        vertical-align: top;\n",
       "    }\n",
       "\n",
       "    .dataframe thead th {\n",
       "        text-align: right;\n",
       "    }\n",
       "</style>\n",
       "<table border=\"1\" class=\"dataframe\">\n",
       "  <thead>\n",
       "    <tr style=\"text-align: right;\">\n",
       "      <th></th>\n",
       "      <th>userID</th>\n",
       "      <th>Timestamp</th>\n",
       "      <th>Current_Task</th>\n",
       "      <th>Task_amount</th>\n",
       "      <th>TaskID</th>\n",
       "      <th>VersionID</th>\n",
       "      <th>RepetitionID</th>\n",
       "      <th>Actual_Data</th>\n",
       "      <th>Is_Pause</th>\n",
       "      <th>Image</th>\n",
       "      <th>IsMax</th>\n",
       "      <th>MaxRepetition</th>\n",
       "    </tr>\n",
       "  </thead>\n",
       "  <tbody>\n",
       "    <tr>\n",
       "      <th>291980</th>\n",
       "      <td>1</td>\n",
       "      <td>1,54515E+12</td>\n",
       "      <td>33</td>\n",
       "      <td>680</td>\n",
       "      <td>0</td>\n",
       "      <td>2</td>\n",
       "      <td>0</td>\n",
       "      <td>True</td>\n",
       "      <td>False</td>\n",
       "      <td>[0, 2, 0, 0, 0, 0, 1, 2, 2, 3, 2, 1, 1, 1, 0, ...</td>\n",
       "      <td>True</td>\n",
       "      <td>0</td>\n",
       "    </tr>\n",
       "    <tr>\n",
       "      <th>291981</th>\n",
       "      <td>1</td>\n",
       "      <td>1,54515E+12</td>\n",
       "      <td>33</td>\n",
       "      <td>680</td>\n",
       "      <td>0</td>\n",
       "      <td>2</td>\n",
       "      <td>0</td>\n",
       "      <td>True</td>\n",
       "      <td>False</td>\n",
       "      <td>[0, 2, 0, 0, 0, 0, 1, 2, 2, 3, 2, 1, 1, 1, 0, ...</td>\n",
       "      <td>True</td>\n",
       "      <td>0</td>\n",
       "    </tr>\n",
       "    <tr>\n",
       "      <th>291982</th>\n",
       "      <td>1</td>\n",
       "      <td>1,54515E+12</td>\n",
       "      <td>33</td>\n",
       "      <td>680</td>\n",
       "      <td>0</td>\n",
       "      <td>2</td>\n",
       "      <td>0</td>\n",
       "      <td>True</td>\n",
       "      <td>False</td>\n",
       "      <td>[0, 2, 0, 0, 0, 0, 1, 2, 2, 3, 2, 1, 1, 1, 0, ...</td>\n",
       "      <td>True</td>\n",
       "      <td>0</td>\n",
       "    </tr>\n",
       "    <tr>\n",
       "      <th>291983</th>\n",
       "      <td>1</td>\n",
       "      <td>1,54515E+12</td>\n",
       "      <td>33</td>\n",
       "      <td>680</td>\n",
       "      <td>0</td>\n",
       "      <td>2</td>\n",
       "      <td>0</td>\n",
       "      <td>True</td>\n",
       "      <td>False</td>\n",
       "      <td>[0, 2, 0, 0, 0, 0, 1, 2, 2, 3, 2, 1, 1, 1, 0, ...</td>\n",
       "      <td>True</td>\n",
       "      <td>0</td>\n",
       "    </tr>\n",
       "    <tr>\n",
       "      <th>291984</th>\n",
       "      <td>1</td>\n",
       "      <td>1,54515E+12</td>\n",
       "      <td>33</td>\n",
       "      <td>680</td>\n",
       "      <td>0</td>\n",
       "      <td>2</td>\n",
       "      <td>0</td>\n",
       "      <td>True</td>\n",
       "      <td>False</td>\n",
       "      <td>[0, 2, 0, 0, 0, 0, 1, 2, 2, 3, 2, 1, 1, 1, 0, ...</td>\n",
       "      <td>True</td>\n",
       "      <td>0</td>\n",
       "    </tr>\n",
       "  </tbody>\n",
       "</table>\n",
       "</div>"
      ],
      "text/plain": [
       "        userID    Timestamp  Current_Task  Task_amount  TaskID  VersionID  \\\n",
       "291980       1  1,54515E+12            33          680       0          2   \n",
       "291981       1  1,54515E+12            33          680       0          2   \n",
       "291982       1  1,54515E+12            33          680       0          2   \n",
       "291983       1  1,54515E+12            33          680       0          2   \n",
       "291984       1  1,54515E+12            33          680       0          2   \n",
       "\n",
       "        RepetitionID  Actual_Data  Is_Pause  \\\n",
       "291980             0         True     False   \n",
       "291981             0         True     False   \n",
       "291982             0         True     False   \n",
       "291983             0         True     False   \n",
       "291984             0         True     False   \n",
       "\n",
       "                                                    Image  IsMax  \\\n",
       "291980  [0, 2, 0, 0, 0, 0, 1, 2, 2, 3, 2, 1, 1, 1, 0, ...   True   \n",
       "291981  [0, 2, 0, 0, 0, 0, 1, 2, 2, 3, 2, 1, 1, 1, 0, ...   True   \n",
       "291982  [0, 2, 0, 0, 0, 0, 1, 2, 2, 3, 2, 1, 1, 1, 0, ...   True   \n",
       "291983  [0, 2, 0, 0, 0, 0, 1, 2, 2, 3, 2, 1, 1, 1, 0, ...   True   \n",
       "291984  [0, 2, 0, 0, 0, 0, 1, 2, 2, 3, 2, 1, 1, 1, 0, ...   True   \n",
       "\n",
       "        MaxRepetition  \n",
       "291980              0  \n",
       "291981              0  \n",
       "291982              0  \n",
       "291983              0  \n",
       "291984              0  "
      ]
     },
     "execution_count": 5,
     "metadata": {},
     "output_type": "execute_result"
    }
   ],
   "source": [
    "df_filtered.head()"
   ]
  },
  {
   "cell_type": "code",
   "execution_count": 6,
   "metadata": {},
   "outputs": [],
   "source": [
    "df_filtered.Image = df_filtered.Image.apply(lambda x: x.reshape(27, 15))\n",
    "df_filtered.Image = df_filtered.Image.apply(lambda x: x.clip(min=0, max=255))\n",
    "df_filtered.Image = df_filtered.Image.apply(lambda x: x.astype(np.uint8))\n",
    "df_filtered[\"ImageSum\"] = df_filtered.Image.apply(lambda x: np.sum(x))"
   ]
  },
  {
   "cell_type": "code",
   "execution_count": 7,
   "metadata": {},
   "outputs": [],
   "source": [
    "#LSTMs new Blob detection\n",
    "def detect_blobs(image):\n",
    "    #image = image.reshape(27, 15)\n",
    "    large = np.ones((29,17), dtype=np.uint8)\n",
    "    large[1:28,1:16] = image\n",
    "    temp, thresh = cv2.threshold(cv2.bitwise_not(large), 200, 255, cv2.THRESH_BINARY)\n",
    "    contours, hierarchy = cv2.findContours(thresh, cv2.RETR_TREE, cv2.CHAIN_APPROX_SIMPLE)\n",
    "    contours = [a for a in contours if cv2.contourArea(a) > 8 and cv2.contourArea(a) < 255]\n",
    "    lstBlob  = []\n",
    "    lstMin = []\n",
    "    lstMax = []\n",
    "    count = 0\n",
    "    return len(contours) > 0"
   ]
  },
  {
   "cell_type": "code",
   "execution_count": 8,
   "metadata": {},
   "outputs": [
    {
     "name": "stdout",
     "output_type": "stream",
     "text": [
      "CPU times: user 5.86 s, sys: 265 ms, total: 6.12 s\n",
      "Wall time: 10.1 s\n"
     ]
    }
   ],
   "source": [
    "%%time\n",
    "pool = Pool(cpu_count() - 1)\n",
    "temp_blobs = pool.map(detect_blobs, df_filtered.Image)\n",
    "pool.close()"
   ]
  },
  {
   "cell_type": "code",
   "execution_count": 9,
   "metadata": {},
   "outputs": [],
   "source": [
    "df_filtered[\"ContainsBlobs\"] = temp_blobs"
   ]
  },
  {
   "cell_type": "code",
   "execution_count": 10,
   "metadata": {},
   "outputs": [],
   "source": [
    "#Label if knuckle or finger\n",
    "def f(row):\n",
    "    if row['TaskID'] < 17:\n",
    "        #val = \"Knuckle\"\n",
    "        val = 0\n",
    "    elif row['TaskID'] >= 17:\n",
    "        #val = \"Finger\"\n",
    "        val = 1\n",
    "    return val\n",
    "df_filtered['InputMethod'] = df_filtered.apply(f, axis=1)"
   ]
  },
  {
   "cell_type": "code",
   "execution_count": 11,
   "metadata": {},
   "outputs": [],
   "source": [
    "# Problem: some timestamps are strings (XXXXE+XXXX) which is not accurate enough, switching to index instead\n",
    "\"\"\"def cast_to_int(x):\n",
    "    if type(x) == int:\n",
    "        return x\n",
    "    x = str(x).replace(\",\", \".\")\n",
    "    return int(float(x))\n",
    "\n",
    "df_filtered.Timestamp = df_filtered.Timestamp.map(cast_to_int)\"\"\"\n",
    "df_filtered.index = range(len(df_filtered))"
   ]
  },
  {
   "cell_type": "code",
   "execution_count": 12,
   "metadata": {},
   "outputs": [
    {
     "name": "stdout",
     "output_type": "stream",
     "text": [
      "1\n",
      "2\n",
      "3\n",
      "4\n",
      "5\n",
      "6\n",
      "7\n",
      "8\n",
      "9\n",
      "10\n",
      "11\n",
      "12\n",
      "13\n",
      "14\n",
      "15\n",
      "16\n",
      "17\n",
      "CPU times: user 3min 10s, sys: 92.4 ms, total: 3min 10s\n",
      "Wall time: 3min 10s\n"
     ]
    }
   ],
   "source": [
    "%%time\n",
    "UserIDs = []\n",
    "TaskIDs = []\n",
    "VersionIDs = []\n",
    "Blobs = []\n",
    "for userID in df_filtered.userID.unique():\n",
    "    print(userID)\n",
    "    for TaskID in df_filtered[df_filtered.userID == userID].TaskID.unique():\n",
    "        for VersionID in df_filtered[(df_filtered.userID == userID) & (df_filtered.TaskID == TaskID)].VersionID.unique():\n",
    "            first_blob = -1\n",
    "            last_blob = -1\n",
    "            for index, row in df_filtered[(df_filtered.userID == userID) & (df_filtered.TaskID == TaskID) & (df_filtered.VersionID == VersionID)].iterrows():\n",
    "                if row.ContainsBlobs:\n",
    "                    last_blob = index\n",
    "                    if first_blob == -1:\n",
    "                        first_blob = index\n",
    "            if first_blob >= 0 and last_blob >= 0:\n",
    "                UserIDs.append(userID)\n",
    "                TaskIDs.append(TaskID)\n",
    "                VersionIDs.append(VersionID)\n",
    "                Blobs.append(df_filtered[(df_filtered.userID == userID) & (df_filtered.TaskID == TaskID) & (df_filtered.VersionID == VersionID) & (df_filtered.index >= first_blob) & (df_filtered.index <= last_blob)].Image.tolist())"
   ]
  },
  {
   "cell_type": "code",
   "execution_count": 13,
   "metadata": {},
   "outputs": [],
   "source": [
    "UserIDs = np.array(UserIDs, dtype=np.int64)\n",
    "TaskIDs = np.array(TaskIDs, dtype=np.int64)\n",
    "VersionIDs = np.array(VersionIDs, dtype=np.int64)"
   ]
  },
  {
   "cell_type": "code",
   "execution_count": 14,
   "metadata": {},
   "outputs": [
    {
     "data": {
      "text/html": [
       "<div>\n",
       "<style scoped>\n",
       "    .dataframe tbody tr th:only-of-type {\n",
       "        vertical-align: middle;\n",
       "    }\n",
       "\n",
       "    .dataframe tbody tr th {\n",
       "        vertical-align: top;\n",
       "    }\n",
       "\n",
       "    .dataframe thead th {\n",
       "        text-align: right;\n",
       "    }\n",
       "</style>\n",
       "<table border=\"1\" class=\"dataframe\">\n",
       "  <thead>\n",
       "    <tr style=\"text-align: right;\">\n",
       "      <th></th>\n",
       "      <th>userID</th>\n",
       "      <th>TaskID</th>\n",
       "      <th>VersionID</th>\n",
       "      <th>Blobs</th>\n",
       "    </tr>\n",
       "  </thead>\n",
       "  <tbody>\n",
       "    <tr>\n",
       "      <th>0</th>\n",
       "      <td>1</td>\n",
       "      <td>0</td>\n",
       "      <td>3</td>\n",
       "      <td>[[[0, 0, 0, 0, 0, 0, 0, 0, 0, 0, 0, 0, 0, 0, 0...</td>\n",
       "    </tr>\n",
       "    <tr>\n",
       "      <th>1</th>\n",
       "      <td>1</td>\n",
       "      <td>0</td>\n",
       "      <td>5</td>\n",
       "      <td>[[[0, 0, 0, 0, 0, 0, 0, 0, 0, 0, 0, 0, 0, 0, 0...</td>\n",
       "    </tr>\n",
       "    <tr>\n",
       "      <th>2</th>\n",
       "      <td>1</td>\n",
       "      <td>0</td>\n",
       "      <td>6</td>\n",
       "      <td>[[[0, 0, 0, 0, 0, 0, 0, 0, 0, 0, 1, 0, 0, 239,...</td>\n",
       "    </tr>\n",
       "    <tr>\n",
       "      <th>3</th>\n",
       "      <td>1</td>\n",
       "      <td>0</td>\n",
       "      <td>7</td>\n",
       "      <td>[[[0, 0, 0, 0, 0, 0, 0, 0, 0, 0, 0, 0, 0, 0, 0...</td>\n",
       "    </tr>\n",
       "    <tr>\n",
       "      <th>4</th>\n",
       "      <td>1</td>\n",
       "      <td>0</td>\n",
       "      <td>8</td>\n",
       "      <td>[[[0, 0, 0, 0, 0, 0, 1, 1, 1, 0, 0, 0, 0, 1, 0...</td>\n",
       "    </tr>\n",
       "  </tbody>\n",
       "</table>\n",
       "</div>"
      ],
      "text/plain": [
       "   userID  TaskID  VersionID  \\\n",
       "0       1       0          3   \n",
       "1       1       0          5   \n",
       "2       1       0          6   \n",
       "3       1       0          7   \n",
       "4       1       0          8   \n",
       "\n",
       "                                               Blobs  \n",
       "0  [[[0, 0, 0, 0, 0, 0, 0, 0, 0, 0, 0, 0, 0, 0, 0...  \n",
       "1  [[[0, 0, 0, 0, 0, 0, 0, 0, 0, 0, 0, 0, 0, 0, 0...  \n",
       "2  [[[0, 0, 0, 0, 0, 0, 0, 0, 0, 0, 1, 0, 0, 239,...  \n",
       "3  [[[0, 0, 0, 0, 0, 0, 0, 0, 0, 0, 0, 0, 0, 0, 0...  \n",
       "4  [[[0, 0, 0, 0, 0, 0, 1, 1, 1, 0, 0, 0, 0, 1, 0...  "
      ]
     },
     "execution_count": 14,
     "metadata": {},
     "output_type": "execute_result"
    }
   ],
   "source": [
    "df_lstm_all = pd.DataFrame()\n",
    "df_lstm_all[\"userID\"] = UserIDs\n",
    "df_lstm_all[\"TaskID\"] = TaskIDs\n",
    "df_lstm_all[\"VersionID\"] = VersionIDs\n",
    "df_lstm_all[\"Blobs\"] = Blobs\n",
    "df_lstm_all.Blobs = df_lstm_all.Blobs.map(np.array)\n",
    "df_lstm_all.head()"
   ]
  },
  {
   "cell_type": "code",
   "execution_count": 15,
   "metadata": {},
   "outputs": [],
   "source": [
    "lengths = []\n",
    "for index, row in df_lstm_all.iterrows():\n",
    "    lengths.append(row.Blobs.shape[0])\n",
    "df_lstm_all[\"BlobCount\"] = lengths\n",
    "df_lstm_all[\"GestureOnly\"] = df_lstm_all.TaskID % 17"
   ]
  },
  {
   "cell_type": "code",
   "execution_count": 16,
   "metadata": {},
   "outputs": [
    {
     "data": {
      "text/plain": [
       "count    9934.000000\n",
       "mean       18.926918\n",
       "std        26.494851\n",
       "min         1.000000\n",
       "25%         8.000000\n",
       "50%        14.000000\n",
       "75%        20.000000\n",
       "max       891.000000\n",
       "Name: BlobCount, dtype: float64"
      ]
     },
     "execution_count": 16,
     "metadata": {},
     "output_type": "execute_result"
    }
   ],
   "source": [
    "df_lstm_all.BlobCount.describe()"
   ]
  },
  {
   "cell_type": "code",
   "execution_count": 17,
   "metadata": {},
   "outputs": [
    {
     "data": {
      "text/html": [
       "<div>\n",
       "<style scoped>\n",
       "    .dataframe tbody tr th:only-of-type {\n",
       "        vertical-align: middle;\n",
       "    }\n",
       "\n",
       "    .dataframe tbody tr th {\n",
       "        vertical-align: top;\n",
       "    }\n",
       "\n",
       "    .dataframe thead th {\n",
       "        text-align: right;\n",
       "    }\n",
       "</style>\n",
       "<table border=\"1\" class=\"dataframe\">\n",
       "  <thead>\n",
       "    <tr style=\"text-align: right;\">\n",
       "      <th></th>\n",
       "      <th>mean</th>\n",
       "      <th>std</th>\n",
       "    </tr>\n",
       "    <tr>\n",
       "      <th>GestureOnly</th>\n",
       "      <th></th>\n",
       "      <th></th>\n",
       "    </tr>\n",
       "  </thead>\n",
       "  <tbody>\n",
       "    <tr>\n",
       "      <th>0</th>\n",
       "      <td>13.446565</td>\n",
       "      <td>15.754055</td>\n",
       "    </tr>\n",
       "    <tr>\n",
       "      <th>1</th>\n",
       "      <td>16.426710</td>\n",
       "      <td>21.938078</td>\n",
       "    </tr>\n",
       "    <tr>\n",
       "      <th>2</th>\n",
       "      <td>13.178131</td>\n",
       "      <td>29.035771</td>\n",
       "    </tr>\n",
       "    <tr>\n",
       "      <th>3</th>\n",
       "      <td>13.306159</td>\n",
       "      <td>22.166064</td>\n",
       "    </tr>\n",
       "    <tr>\n",
       "      <th>4</th>\n",
       "      <td>11.740942</td>\n",
       "      <td>16.196724</td>\n",
       "    </tr>\n",
       "    <tr>\n",
       "      <th>5</th>\n",
       "      <td>11.513135</td>\n",
       "      <td>16.532724</td>\n",
       "    </tr>\n",
       "    <tr>\n",
       "      <th>6</th>\n",
       "      <td>20.996721</td>\n",
       "      <td>43.446549</td>\n",
       "    </tr>\n",
       "    <tr>\n",
       "      <th>7</th>\n",
       "      <td>17.080569</td>\n",
       "      <td>30.532792</td>\n",
       "    </tr>\n",
       "    <tr>\n",
       "      <th>8</th>\n",
       "      <td>23.121827</td>\n",
       "      <td>21.585982</td>\n",
       "    </tr>\n",
       "    <tr>\n",
       "      <th>9</th>\n",
       "      <td>17.719931</td>\n",
       "      <td>20.974263</td>\n",
       "    </tr>\n",
       "    <tr>\n",
       "      <th>10</th>\n",
       "      <td>19.586806</td>\n",
       "      <td>35.553503</td>\n",
       "    </tr>\n",
       "    <tr>\n",
       "      <th>11</th>\n",
       "      <td>15.384755</td>\n",
       "      <td>26.700372</td>\n",
       "    </tr>\n",
       "    <tr>\n",
       "      <th>12</th>\n",
       "      <td>20.130360</td>\n",
       "      <td>24.200554</td>\n",
       "    </tr>\n",
       "    <tr>\n",
       "      <th>13</th>\n",
       "      <td>16.448454</td>\n",
       "      <td>14.975709</td>\n",
       "    </tr>\n",
       "    <tr>\n",
       "      <th>14</th>\n",
       "      <td>19.880471</td>\n",
       "      <td>21.460050</td>\n",
       "    </tr>\n",
       "    <tr>\n",
       "      <th>15</th>\n",
       "      <td>21.038983</td>\n",
       "      <td>14.159299</td>\n",
       "    </tr>\n",
       "    <tr>\n",
       "      <th>16</th>\n",
       "      <td>45.510574</td>\n",
       "      <td>30.992201</td>\n",
       "    </tr>\n",
       "  </tbody>\n",
       "</table>\n",
       "</div>"
      ],
      "text/plain": [
       "                  mean        std\n",
       "GestureOnly                      \n",
       "0            13.446565  15.754055\n",
       "1            16.426710  21.938078\n",
       "2            13.178131  29.035771\n",
       "3            13.306159  22.166064\n",
       "4            11.740942  16.196724\n",
       "5            11.513135  16.532724\n",
       "6            20.996721  43.446549\n",
       "7            17.080569  30.532792\n",
       "8            23.121827  21.585982\n",
       "9            17.719931  20.974263\n",
       "10           19.586806  35.553503\n",
       "11           15.384755  26.700372\n",
       "12           20.130360  24.200554\n",
       "13           16.448454  14.975709\n",
       "14           19.880471  21.460050\n",
       "15           21.038983  14.159299\n",
       "16           45.510574  30.992201"
      ]
     },
     "execution_count": 17,
     "metadata": {},
     "output_type": "execute_result"
    }
   ],
   "source": [
    "df_lstm_all.groupby(df_lstm_all.GestureOnly)[\"BlobCount\"].agg([\"mean\", \"std\"])"
   ]
  },
  {
   "cell_type": "code",
   "execution_count": 18,
   "metadata": {},
   "outputs": [
    {
     "name": "stdout",
     "output_type": "stream",
     "text": [
      "before: 9934\n",
      "after: 8088\n",
      "ratio: 18.58264546003624\n"
     ]
    }
   ],
   "source": [
    "print(\"before: %s\" % len(df_lstm_all))\n",
    "df_lstm = df_lstm_all[(df_lstm_all.BlobCount <= 50) & (df_lstm_all.BlobCount >= 5)]\n",
    "print(\"after: %s\" % len(df_lstm))\n",
    "print(\"ratio: %s\" % ((len(df_lstm_all) - len(df_lstm)) / len(df_lstm_all) * 100))"
   ]
  },
  {
   "cell_type": "code",
   "execution_count": 19,
   "metadata": {},
   "outputs": [
    {
     "data": {
      "text/plain": [
       "count    8088.000000\n",
       "mean       16.216741\n",
       "std         8.848148\n",
       "min         5.000000\n",
       "25%        10.000000\n",
       "50%        14.000000\n",
       "75%        20.000000\n",
       "max        50.000000\n",
       "Name: BlobCount, dtype: float64"
      ]
     },
     "execution_count": 19,
     "metadata": {},
     "output_type": "execute_result"
    }
   ],
   "source": [
    "df_lstm.BlobCount.describe()"
   ]
  },
  {
   "cell_type": "code",
   "execution_count": 20,
   "metadata": {},
   "outputs": [],
   "source": [
    "lengths = []\n",
    "for index, row in df_lstm.iterrows():\n",
    "    lengths.append(row.Blobs.shape[0])"
   ]
  },
  {
   "cell_type": "code",
   "execution_count": 21,
   "metadata": {},
   "outputs": [
    {
     "name": "stderr",
     "output_type": "stream",
     "text": [
      "/usr/lib/python3.7/site-packages/ipykernel_launcher.py:1: SettingWithCopyWarning: \n",
      "A value is trying to be set on a copy of a slice from a DataFrame.\n",
      "Try using .loc[row_indexer,col_indexer] = value instead\n",
      "\n",
      "See the caveats in the documentation: http://pandas.pydata.org/pandas-docs/stable/indexing.html#indexing-view-versus-copy\n",
      "  \"\"\"Entry point for launching an IPython kernel.\n"
     ]
    }
   ],
   "source": [
    "df_lstm[\"BlobCount\"] = lengths"
   ]
  },
  {
   "cell_type": "code",
   "execution_count": 22,
   "metadata": {},
   "outputs": [],
   "source": [
    "df_lstm.to_pickle('PklData/df_lstm2.pkl')"
   ]
  },
  {
   "cell_type": "code",
   "execution_count": 23,
   "metadata": {},
   "outputs": [
    {
     "data": {
      "text/plain": [
       "count    8088.000000\n",
       "mean       16.216741\n",
       "std         8.848148\n",
       "min         5.000000\n",
       "25%        10.000000\n",
       "50%        14.000000\n",
       "75%        20.000000\n",
       "max        50.000000\n",
       "Name: BlobCount, dtype: float64"
      ]
     },
     "execution_count": 23,
     "metadata": {},
     "output_type": "execute_result"
    }
   ],
   "source": [
    "df_lstm.BlobCount.describe()"
   ]
  },
  {
   "cell_type": "code",
   "execution_count": 24,
   "metadata": {},
   "outputs": [],
   "source": [
    "def lerp(a, b, c=0.5):\n",
    "    return c * b + (1.0 - c) * a\n",
    "\n",
    "#Svens new Blob detection\n",
    "def detect_blobs_return(image, task):\n",
    "    #image = e.Image\n",
    "    large = np.ones((29,17), dtype=np.uint8)\n",
    "    large[1:28,1:16] = np.copy(image)\n",
    "    temp, thresh = cv2.threshold(cv2.bitwise_not(large), 205, 255, cv2.THRESH_BINARY)\n",
    "    contours, hierarchy = cv2.findContours(thresh, cv2.RETR_TREE, cv2.CHAIN_APPROX_SIMPLE)\n",
    "    contours = [a for a in contours if cv2.contourArea(a) > 8 and cv2.contourArea(a) < 255]\n",
    "    lstBlob  = []\n",
    "    lstCenter = []\n",
    "    lstMin = []\n",
    "    lstMax = []\n",
    "    count = 0\n",
    "    contours.sort(key=lambda a: cv2.contourArea(a))\n",
    "    if len(contours) > 0:\n",
    "        # if two finger or knuckle\n",
    "        cont_count = 2 if task in [6, 7, 23, 24] and len(contours) > 1 else 1\n",
    "        for i in range(1, cont_count + 1):\n",
    "            max_contour = contours[-1 * i]\n",
    "            xmax, ymax = np.max(max_contour.reshape(len(max_contour),2), axis=0)\n",
    "            xmin, ymin = np.min(max_contour.reshape(len(max_contour),2), axis=0)\n",
    "            M = cv2.moments(max_contour)\n",
    "            cX = int(M[\"m10\"] / M[\"m00\"]) - 1\n",
    "            cY = int(M[\"m01\"] / M[\"m00\"]) - 1\n",
    "            #croped_im = np.zeros((27,15))\n",
    "            blob = large[max(ymin - 1, 0):min(ymax + 1, large.shape[0]),max(xmin - 1, 0):min(xmax + 1, large.shape[1])]\n",
    "            #croped_im[0:blob.shape[0],0:blob.shape[1]] = blob\n",
    "            #return (1, [croped_im])\n",
    "            lstBlob.append(blob)\n",
    "            lstCenter.append((cY, cX))\n",
    "            lstMin.append(xmax-xmin)\n",
    "            lstMax.append(ymax-ymin)\n",
    "            count = count + 1\n",
    "        return (count, lstBlob, lstCenter)\n",
    "    else:\n",
    "        return (0, [np.zeros((29, 19))], 0, 0)"
   ]
  },
  {
   "cell_type": "code",
   "execution_count": 25,
   "metadata": {},
   "outputs": [],
   "source": [
    "def create_blob_tuples(im_a, im_b, task_id):\n",
    "    blob_det_a = detect_blobs_return(im_a, task_id)\n",
    "    blob_det_b = detect_blobs_return(im_b, task_id)\n",
    "    blob_tuples = []\n",
    "    if blob_det_a[0] == blob_det_b[0] == 2:\n",
    "        M = cv2.moments(blob_det_a[1][0])\n",
    "        cX_a_0 = int(M[\"m01\"] / M[\"m00\"])\n",
    "        cY_a_0 = int(M[\"m10\"] / M[\"m00\"])\n",
    "        M = cv2.moments(blob_det_a[1][1])\n",
    "        cX_a_1 = int(M[\"m01\"] / M[\"m00\"])\n",
    "        cY_a_1 = int(M[\"m10\"] / M[\"m00\"])\n",
    "        M = cv2.moments(blob_det_b[1][0])\n",
    "        cX_b_0 = int(M[\"m01\"] / M[\"m00\"])\n",
    "        cY_b_0 = int(M[\"m10\"] / M[\"m00\"])\n",
    "        M = cv2.moments(blob_det_b[1][1])\n",
    "        cX_b_1 = int(M[\"m01\"] / M[\"m00\"])\n",
    "        cY_b_1 = int(M[\"m10\"] / M[\"m00\"])\n",
    "        dist_1 = Vector2.magnitude(Vector2(cX_a_0 - cX_b_0, cY_a_0 - cY_b_0))\n",
    "        dist_2 = Vector2.magnitude(Vector2(cX_a_0 - cX_b_1, cY_a_0 - cY_b_1))\n",
    "        if(dist_1 <= dist_2):\n",
    "            blob_tuples.append((blob_det_a[1][0], blob_det_b[1][0], blob_det_a[2][0], blob_det_b[2][0]))\n",
    "            blob_tuples.append((blob_det_a[1][1], blob_det_b[1][1], blob_det_a[2][1], blob_det_b[2][1]))\n",
    "        else:\n",
    "            blob_tuples.append((blob_det_a[1][0], blob_det_b[1][1], blob_det_a[2][0], blob_det_b[2][1]))\n",
    "            blob_tuples.append((blob_det_a[1][1], blob_det_b[1][0], blob_det_a[2][1], blob_det_b[2][0]))\n",
    "    elif blob_det_a[0] == 1 and blob_det_b[0] == 2:\n",
    "        M = cv2.moments(blob_det_a[1][0])\n",
    "        cX_a_0 = int(M[\"m01\"] / M[\"m00\"])\n",
    "        cY_a_0 = int(M[\"m10\"] / M[\"m00\"])\n",
    "        M = cv2.moments(blob_det_b[1][0])\n",
    "        cX_b_0 = int(M[\"m01\"] / M[\"m00\"])\n",
    "        cY_b_0 = int(M[\"m10\"] / M[\"m00\"])\n",
    "        M = cv2.moments(blob_det_b[1][1])\n",
    "        cX_b_1 = int(M[\"m01\"] / M[\"m00\"])\n",
    "        cY_b_1 = int(M[\"m10\"] / M[\"m00\"])\n",
    "        dist_1 = Vector2.magnitude(Vector2(cX_a_0 - cX_b_0, cY_a_0 - cY_b_0))\n",
    "        dist_2 = Vector2.magnitude(Vector2(cX_a_0 - cX_b_1, cY_a_0 - cY_b_1))\n",
    "        if(dist_1 <= dist_2):\n",
    "            blob_tuples.append((blob_det_a[1][0], blob_det_b[1][0], blob_det_a[2][0], blob_det_b[2][0]))\n",
    "            blob_tuples.append((blob_det_b[1][1], blob_det_b[1][1], blob_det_b[2][1], blob_det_b[2][1]))\n",
    "        else:\n",
    "            blob_tuples.append((blob_det_a[1][0], blob_det_b[1][1], blob_det_a[2][0], blob_det_b[2][1]))\n",
    "            blob_tuples.append((blob_det_b[1][0], blob_det_b[1][0], blob_det_b[2][0], blob_det_b[2][0]))\n",
    "    elif blob_det_a[0] == 2 and blob_det_b[0] == 1:\n",
    "        M = cv2.moments(blob_det_a[1][0])\n",
    "        cX_a_0 = int(M[\"m01\"] / M[\"m00\"])\n",
    "        cY_a_0 = int(M[\"m10\"] / M[\"m00\"])\n",
    "        M = cv2.moments(blob_det_a[1][1])\n",
    "        cX_a_1 = int(M[\"m01\"] / M[\"m00\"])\n",
    "        cY_a_1 = int(M[\"m10\"] / M[\"m00\"])\n",
    "        M = cv2.moments(blob_det_b[1][0])\n",
    "        cX_b_0 = int(M[\"m01\"] / M[\"m00\"])\n",
    "        cY_b_0 = int(M[\"m10\"] / M[\"m00\"])\n",
    "        dist_1 = Vector2.magnitude(Vector2(cX_a_0 - cX_b_0, cY_a_0 - cY_b_0))\n",
    "        dist_2 = Vector2.magnitude(Vector2(cX_a_1 - cX_b_0, cY_a_1 - cY_b_0))\n",
    "        if(dist_1 <= dist_2):\n",
    "            blob_tuples.append((blob_det_a[1][0], blob_det_b[1][0], blob_det_a[2][0], blob_det_b[2][0]))\n",
    "            blob_tuples.append((blob_det_a[1][1], blob_det_a[1][1], blob_det_a[2][1], blob_det_a[2][1]))\n",
    "        else:\n",
    "            blob_tuples.append((blob_det_a[1][1], blob_det_b[1][0], blob_det_a[2][1], blob_det_b[2][0]))\n",
    "            blob_tuples.append((blob_det_a[1][0], blob_det_a[1][0], blob_det_a[2][0], blob_det_a[2][0]))\n",
    "    else:\n",
    "        blob_tuples.append((blob_det_a[1][0], blob_det_b[1][0], blob_det_a[2][0], blob_det_b[2][0]))\n",
    "        \n",
    "    return blob_tuples"
   ]
  },
  {
   "cell_type": "code",
   "execution_count": 26,
   "metadata": {},
   "outputs": [],
   "source": [
    "def interpolate_images(im_a, im_b, task_id, factor=0.5):\n",
    "    \n",
    "    new_img = np.zeros((27, 15))\n",
    "    blob_tuples = create_blob_tuples(im_a, im_b, task_id)\n",
    "    \n",
    "    for blob_a, blob_b, pos_a, pos_b in blob_tuples:\n",
    "        #pad blobs to same size with zeros\n",
    "        pad_a_0 = blob_b.shape[0] - blob_a.shape[0]\n",
    "        if pad_a_0 > 0:\n",
    "            blob_a = np.append(blob_a, np.zeros((pad_a_0, blob_a.shape[1])), axis=0)\n",
    "        pad_a_1 = blob_b.shape[1] - blob_a.shape[1]\n",
    "        if pad_a_1 > 0:\n",
    "            blob_a = np.append(blob_a, np.zeros((blob_a.shape[0], pad_a_1)), axis=1)\n",
    "        pad_b_0 = blob_a.shape[0] - blob_b.shape[0]\n",
    "        if pad_b_0 > 0:\n",
    "            blob_b = np.append(blob_b, np.zeros((pad_b_0, blob_b.shape[1])), axis=0)\n",
    "        pad_b_1 = blob_a.shape[1] - blob_b.shape[1]\n",
    "        if pad_b_1 > 0:\n",
    "            blob_b = np.append(blob_b, np.zeros((blob_b.shape[0], pad_b_1)), axis=1)\n",
    "        im_lerp = lerp(blob_a, blob_b, factor)\n",
    "        M = cv2.moments(im_lerp)\n",
    "        cY = int(M[\"m10\"] / M[\"m00\"])\n",
    "        cX = int(M[\"m01\"] / M[\"m00\"])\n",
    "        blob_pos_x = int(lerp(pos_a[0], pos_b[0], factor))\n",
    "        blob_pos_y = int(lerp(pos_a[1], pos_b[1], factor))\n",
    "        new_img[blob_pos_x - cX:blob_pos_x - cX + im_lerp.shape[0], blob_pos_y - cY:blob_pos_y - cY + im_lerp.shape[1]] = im_lerp\n",
    "    return new_img\n",
    "    \n",
    "im_a = df_lstm[df_lstm.TaskID == 6].iloc[0].Blobs[7]\n",
    "im_b = df_lstm[df_lstm.TaskID == 6].iloc[0].Blobs[7]\n",
    "im_c = interpolate_images(im_a, im_b, 6)"
   ]
  },
  {
   "cell_type": "code",
   "execution_count": 27,
   "metadata": {},
   "outputs": [
    {
     "data": {
      "text/plain": [
       "(27, 15)"
      ]
     },
     "execution_count": 27,
     "metadata": {},
     "output_type": "execute_result"
    }
   ],
   "source": [
    "im_c.shape"
   ]
  },
  {
   "cell_type": "code",
   "execution_count": 34,
   "metadata": {},
   "outputs": [
    {
     "data": {
      "text/plain": [
       "<Figure size 432x288 with 0 Axes>"
      ]
     },
     "metadata": {},
     "output_type": "display_data"
    },
    {
     "data": {
      "image/png": "[encoded data removed]",
      "text/plain": [
       "<Figure size 432x432 with 1 Axes>"
      ]
     },
     "metadata": {
      "needs_background": "light"
     },
     "output_type": "display_data"
    },
    {
     "data": {
      "text/plain": [
       "<Figure size 432x288 with 0 Axes>"
      ]
     },
     "metadata": {},
     "output_type": "display_data"
    },
    {
     "data": {
      "image/png": "[encoded data removed]",
      "text/plain": [
       "<Figure size 432x432 with 1 Axes>"
      ]
     },
     "metadata": {
      "needs_background": "light"
     },
     "output_type": "display_data"
    },
    {
     "data": {
      "text/plain": [
       "<Figure size 432x288 with 0 Axes>"
      ]
     },
     "metadata": {},
     "output_type": "display_data"
    },
    {
     "data": {
      "image/png": "[encoded data removed]",
      "text/plain": [
       "<Figure size 432x432 with 1 Axes>"
      ]
     },
     "metadata": {
      "needs_background": "light"
     },
     "output_type": "display_data"
    }
   ],
   "source": [
    "imgs = [im_a, im_b, im_c]\n",
    "for i in range(len(imgs)):\n",
    "    data = imgs[i]\n",
    "    plt.clf()\n",
    "    plt.figure(figsize=(6, 6))\n",
    "    ax = plt.gca()\n",
    "    plt.title(\"input_%s\" % i)\n",
    "    plt.imshow(data, cmap='gray', vmin=0, vmax=255)\n",
    "    # Loop over data dimensions and create text annotations.\n",
    "    for i in range(0, data.shape[0]):\n",
    "        for j in range(0, data.shape[1]):\n",
    "            text = ax.text(j, i, int(data[i, j]),\n",
    "                           ha=\"center\", va=\"center\", color=\"cyan\", fontsize=6)\n",
    "    plt.savefig(\"input_\" + str(i) + \".png\", bbox_inches='tight')\n",
    "    plt.show()"
   ]
  },
  {
   "cell_type": "code",
   "execution_count": 29,
   "metadata": {},
   "outputs": [],
   "source": [
    "def normalize_blobs(blobs, new_len=50):\n",
    "    new_count = new_len - blobs.shape[0]\n",
    "    if new_count == 0:\n",
    "        return blobs\n",
    "    elif new_count > 0:\n",
    "        temp = np.array([np.zeros((27, 15))] * new_count)\n",
    "        return np.append(blobs, temp, axis=0)\n",
    "    else:\n",
    "        return blobs[0:new_len]"
   ]
  },
  {
   "cell_type": "code",
   "execution_count": 30,
   "metadata": {},
   "outputs": [
    {
     "data": {
      "text/plain": [
       "count    8088.0\n",
       "mean       50.0\n",
       "std         0.0\n",
       "min        50.0\n",
       "25%        50.0\n",
       "50%        50.0\n",
       "75%        50.0\n",
       "max        50.0\n",
       "Name: BlobCount, dtype: float64"
      ]
     },
     "execution_count": 30,
     "metadata": {},
     "output_type": "execute_result"
    }
   ],
   "source": [
    "df_lstm_norm = df_lstm.copy(deep=True)\n",
    "df_lstm_norm.Blobs = df_lstm_norm.Blobs.map(normalize_blobs)\n",
    "lengths = []\n",
    "for index, row in df_lstm_norm.iterrows():\n",
    "    lengths.append(row.Blobs.shape[0])\n",
    "df_lstm_norm[\"BlobCount\"] = lengths\n",
    "df_lstm_norm.BlobCount.describe()"
   ]
  },
  {
   "cell_type": "code",
   "execution_count": 31,
   "metadata": {},
   "outputs": [],
   "source": [
    "df_lstm_norm.to_pickle(\"PklData/df_lstm_norm50.pkl\")"
   ]
  },
  {
   "cell_type": "code",
   "execution_count": 32,
   "metadata": {},
   "outputs": [
    {
     "data": {
      "text/html": [
       "<div>\n",
       "<style scoped>\n",
       "    .dataframe tbody tr th:only-of-type {\n",
       "        vertical-align: middle;\n",
       "    }\n",
       "\n",
       "    .dataframe tbody tr th {\n",
       "        vertical-align: top;\n",
       "    }\n",
       "\n",
       "    .dataframe thead th {\n",
       "        text-align: right;\n",
       "    }\n",
       "</style>\n",
       "<table border=\"1\" class=\"dataframe\">\n",
       "  <thead>\n",
       "    <tr style=\"text-align: right;\">\n",
       "      <th></th>\n",
       "      <th>userID</th>\n",
       "      <th>TaskID</th>\n",
       "      <th>VersionID</th>\n",
       "      <th>Blobs</th>\n",
       "      <th>BlobCount</th>\n",
       "      <th>GestureOnly</th>\n",
       "    </tr>\n",
       "  </thead>\n",
       "  <tbody>\n",
       "    <tr>\n",
       "      <th>0</th>\n",
       "      <td>1</td>\n",
       "      <td>0</td>\n",
       "      <td>3</td>\n",
       "      <td>[[[0.0, 0.0, 0.0, 0.0, 0.0, 0.0, 0.0, 0.0, 0.0...</td>\n",
       "      <td>50</td>\n",
       "      <td>0</td>\n",
       "    </tr>\n",
       "    <tr>\n",
       "      <th>2</th>\n",
       "      <td>1</td>\n",
       "      <td>0</td>\n",
       "      <td>6</td>\n",
       "      <td>[[[0.0, 0.0, 0.0, 0.0, 0.0, 0.0, 0.0, 0.0, 0.0...</td>\n",
       "      <td>50</td>\n",
       "      <td>0</td>\n",
       "    </tr>\n",
       "    <tr>\n",
       "      <th>3</th>\n",
       "      <td>1</td>\n",
       "      <td>0</td>\n",
       "      <td>7</td>\n",
       "      <td>[[[0.0, 0.0, 0.0, 0.0, 0.0, 0.0, 0.0, 0.0, 0.0...</td>\n",
       "      <td>50</td>\n",
       "      <td>0</td>\n",
       "    </tr>\n",
       "    <tr>\n",
       "      <th>4</th>\n",
       "      <td>1</td>\n",
       "      <td>0</td>\n",
       "      <td>8</td>\n",
       "      <td>[[[0.0, 0.0, 0.0, 0.0, 0.0, 0.0, 1.0, 1.0, 1.0...</td>\n",
       "      <td>50</td>\n",
       "      <td>0</td>\n",
       "    </tr>\n",
       "    <tr>\n",
       "      <th>5</th>\n",
       "      <td>1</td>\n",
       "      <td>0</td>\n",
       "      <td>9</td>\n",
       "      <td>[[[0.0, 0.0, 0.0, 0.0, 0.0, 1.0, 1.0, 0.0, 153...</td>\n",
       "      <td>50</td>\n",
       "      <td>0</td>\n",
       "    </tr>\n",
       "  </tbody>\n",
       "</table>\n",
       "</div>"
      ],
      "text/plain": [
       "   userID  TaskID  VersionID  \\\n",
       "0       1       0          3   \n",
       "2       1       0          6   \n",
       "3       1       0          7   \n",
       "4       1       0          8   \n",
       "5       1       0          9   \n",
       "\n",
       "                                               Blobs  BlobCount  GestureOnly  \n",
       "0  [[[0.0, 0.0, 0.0, 0.0, 0.0, 0.0, 0.0, 0.0, 0.0...         50            0  \n",
       "2  [[[0.0, 0.0, 0.0, 0.0, 0.0, 0.0, 0.0, 0.0, 0.0...         50            0  \n",
       "3  [[[0.0, 0.0, 0.0, 0.0, 0.0, 0.0, 0.0, 0.0, 0.0...         50            0  \n",
       "4  [[[0.0, 0.0, 0.0, 0.0, 0.0, 0.0, 1.0, 1.0, 1.0...         50            0  \n",
       "5  [[[0.0, 0.0, 0.0, 0.0, 0.0, 1.0, 1.0, 0.0, 153...         50            0  "
      ]
     },
     "execution_count": 32,
     "metadata": {},
     "output_type": "execute_result"
    }
   ],
   "source": [
    "df_lstm_norm.head()"
   ]
  },
  {
   "cell_type": "code",
   "execution_count": null,
   "metadata": {},
   "outputs": [],
   "source": []
  }
 ],
 "metadata": {
  "kernelspec": {
   "display_name": "Python 3",
   "language": "python",
   "name": "python3"
  },
  "language_info": {
   "codemirror_mode": {
    "name": "ipython",
    "version": 3
   },
   "file_extension": ".py",
   "mimetype": "text/x-python",
   "name": "python",
   "nbconvert_exporter": "python",
   "pygments_lexer": "ipython3",
   "version": "3.7.2"
  }
 },
 "nbformat": 4,
 "nbformat_minor": 2
}
