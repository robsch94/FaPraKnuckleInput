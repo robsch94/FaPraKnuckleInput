{
 "cells": [
  {
   "cell_type": "code",
   "execution_count": 1,
   "metadata": {},
   "outputs": [
    {
     "name": "stderr",
     "output_type": "stream",
     "text": [
      "Using TensorFlow backend.\n"
     ]
    }
   ],
   "source": [
    "from keras.models import Sequential, load_model\n",
    "from keras.layers import *\n",
    "from keras import optimizers\n",
    "from keras import utils\n",
    "from keras.callbacks import TensorBoard, ModelCheckpoint\n",
    "\n",
    "import numpy as np\n",
    "import matplotlib.pyplot as plt\n",
    "import pandas as pd\n",
    "import math\n",
    "\n",
    "import tensorflow as tf\n",
    "\n",
    "# Importing matplotlib to plot images.\n",
    "import matplotlib.pyplot as plt\n",
    "import numpy as np\n",
    "%matplotlib inline\n",
    "\n",
    "# Importing SK-learn to calculate precision and recall\n",
    "import sklearn\n",
    "from sklearn import metrics\n",
    "from sklearn.model_selection import train_test_split, cross_val_score, LeaveOneGroupOut\n",
    "from sklearn.utils import shuffle \n",
    "\n",
    "# Used for graph export\n",
    "from tensorflow.python.framework import graph_util\n",
    "from tensorflow.python.framework import graph_io\n",
    "from keras import backend as K\n",
    "\n",
    "import pickle as pkl\n",
    "import h5py\n",
    "\n",
    "from pathlib import Path\n",
    "import os.path\n",
    "import sys\n",
    "import datetime\n",
    "import time"
   ]
  },
  {
   "cell_type": "code",
   "execution_count": 2,
   "metadata": {},
   "outputs": [],
   "source": [
    "class LoggingTensorBoard(TensorBoard):    \n",
    "\n",
    "    def __init__(self, log_dir, settings_str_to_log, **kwargs):\n",
    "        super(LoggingTensorBoard, self).__init__(log_dir, **kwargs)\n",
    "\n",
    "        self.settings_str = settings_str_to_log\n",
    "\n",
    "    def on_train_begin(self, logs=None):\n",
    "        TensorBoard.on_train_begin(self, logs=logs)\n",
    "\n",
    "        tensor =  tf.convert_to_tensor(self.settings_str)\n",
    "        summary = tf.summary.text (\"Run_Settings\", tensor)\n",
    "\n",
    "        with  tf.Session() as sess:\n",
    "            s = sess.run(summary)\n",
    "            self.writer.add_summary(s)"
   ]
  },
  {
   "cell_type": "code",
   "execution_count": 3,
   "metadata": {},
   "outputs": [],
   "source": [
    "import telegram\n",
    "from keras.callbacks import Callback\n",
    "from callbacks import TelegramCallback\n",
    "from TelegramData import TelegramData\n",
    "\n",
    "# create callback\n",
    "config = {\n",
    "    'token': TelegramData.TelegramToken,       # paste your bot token\n",
    "    'telegram_id': TelegramData.TelegramId, # paste your telegram_id\n",
    "}\n",
    "\n",
    "tg_callback = TelegramCallback(config)"
   ]
  },
  {
   "cell_type": "code",
   "execution_count": 17,
   "metadata": {},
   "outputs": [],
   "source": [
    "train_ids = [3, 4, 5, 6, 7, 8]\n",
    "test_ids = [1, 2]"
   ]
  },
  {
   "cell_type": "code",
   "execution_count": 30,
   "metadata": {},
   "outputs": [],
   "source": [
    "# the data, split between train and test sets\n",
    "dfAll = pd.read_pickle(\"PklData/df_gestures.pkl\")\n",
    "df_train = dfAll[(dfAll.userID != 1) | (dfAll.userID != 2)]\n",
    "df_test = dfAll[(dfAll.userID == 1) | (dfAll.userID == 2)]\n",
    "#df_train = dfAll[dfAll.userID.isin(train_ids)]\n",
    "#df_test = dfAll[dfAll.userID.isin(test_ids)]\n",
    "\n",
    "df_test = df_test.reset_index()\n",
    "df_train = df_train.reset_index()\n",
    "\n",
    "df_train2 = df_train[['Gesture', 'TaskID']].copy()\n",
    "df_test2 = df_test[['Gesture', 'TaskID']].copy()"
   ]
  },
  {
   "cell_type": "code",
   "execution_count": 45,
   "metadata": {},
   "outputs": [
    {
     "data": {
      "text/plain": [
       "array([4, 1, 7, 5, 8, 3, 6, 2])"
      ]
     },
     "execution_count": 45,
     "metadata": {},
     "output_type": "execute_result"
    }
   ],
   "source": [
    "df_train.userID.unique()"
   ]
  },
  {
   "cell_type": "code",
   "execution_count": 44,
   "metadata": {},
   "outputs": [
    {
     "data": {
      "text/plain": [
       "array([1, 2])"
      ]
     },
     "execution_count": 44,
     "metadata": {},
     "output_type": "execute_result"
    }
   ],
   "source": [
    "df_test.userID.unique()"
   ]
  },
  {
   "cell_type": "code",
   "execution_count": 31,
   "metadata": {},
   "outputs": [
    {
     "name": "stdout",
     "output_type": "stream",
     "text": [
      "less: 0\n",
      "more: 0\n"
     ]
    }
   ],
   "source": [
    "less_errors = 0\n",
    "more_errors = 0\n",
    "for UserId in dfAll.userID.unique():\n",
    "    for TaskId in dfAll[dfAll.userID == UserId].TaskID.unique():\n",
    "        for VersionId in dfAll[(dfAll.userID == UserId) & (dfAll.TaskID == TaskId)].VersionID.unique():\n",
    "            temp_len = len(dfAll[(dfAll.userID == UserId) & (dfAll.TaskID == TaskId) & (dfAll.VersionID == VersionId)].RepetitionID.unique())\n",
    "            if temp_len < 1:\n",
    "                less_errors += 1\n",
    "            elif temp_len > 1:\n",
    "                more_errors += 1\n",
    "print(\"less: %s\" % less_errors)\n",
    "print(\"more: %s\" % more_errors)"
   ]
  },
  {
   "cell_type": "code",
   "execution_count": 32,
   "metadata": {},
   "outputs": [],
   "source": [
    "x_train = np.vstack(df_train2.Gesture)\n",
    "x_test = np.vstack(df_test2.Gesture)\n",
    "y_train = df_train2.TaskID.values\n",
    "y_test = df_test2.TaskID.values\n",
    "\n",
    "x_train = x_train.reshape(-1, 27, 15, 1)\n",
    "x_test = x_test.reshape(-1, 27, 15, 1)"
   ]
  },
  {
   "cell_type": "code",
   "execution_count": 33,
   "metadata": {},
   "outputs": [],
   "source": [
    "# convert class vectors to binary class matrices (one-hot notation)\n",
    "num_classes = 34\n",
    "y_train_one_hot = utils.to_categorical(df_train2.TaskID, num_classes)\n",
    "y_test_one_hot = utils.to_categorical(df_test2.TaskID, num_classes)"
   ]
  },
  {
   "cell_type": "markdown",
   "metadata": {},
   "source": [
    "# Plotting"
   ]
  },
  {
   "cell_type": "code",
   "execution_count": 34,
   "metadata": {},
   "outputs": [
    {
     "data": {
      "text/html": [
       "<div>\n",
       "<style scoped>\n",
       "    .dataframe tbody tr th:only-of-type {\n",
       "        vertical-align: middle;\n",
       "    }\n",
       "\n",
       "    .dataframe tbody tr th {\n",
       "        vertical-align: top;\n",
       "    }\n",
       "\n",
       "    .dataframe thead th {\n",
       "        text-align: right;\n",
       "    }\n",
       "</style>\n",
       "<table border=\"1\" class=\"dataframe\">\n",
       "  <thead>\n",
       "    <tr style=\"text-align: right;\">\n",
       "      <th></th>\n",
       "      <th>userID</th>\n",
       "      <th>TaskID</th>\n",
       "      <th>VersionID</th>\n",
       "      <th>RepetitionID</th>\n",
       "      <th>Gesture</th>\n",
       "    </tr>\n",
       "  </thead>\n",
       "  <tbody>\n",
       "    <tr>\n",
       "      <th>0</th>\n",
       "      <td>4</td>\n",
       "      <td>19</td>\n",
       "      <td>2</td>\n",
       "      <td>0</td>\n",
       "      <td>[[0.0, 0.0, 0.0, 0.0, 0.0, 0.0, 0.0, 0.0, 0.0,...</td>\n",
       "    </tr>\n",
       "    <tr>\n",
       "      <th>1</th>\n",
       "      <td>4</td>\n",
       "      <td>19</td>\n",
       "      <td>3</td>\n",
       "      <td>0</td>\n",
       "      <td>[[0.0, 0.0, 0.0, 0.0, 0.0, 0.0, 0.0, 0.0, 0.0,...</td>\n",
       "    </tr>\n",
       "    <tr>\n",
       "      <th>2</th>\n",
       "      <td>4</td>\n",
       "      <td>19</td>\n",
       "      <td>4</td>\n",
       "      <td>0</td>\n",
       "      <td>[[0.0, 0.0, 0.0, 0.0, 0.0, 0.0, 0.0, 0.0, 0.0,...</td>\n",
       "    </tr>\n",
       "    <tr>\n",
       "      <th>3</th>\n",
       "      <td>4</td>\n",
       "      <td>19</td>\n",
       "      <td>5</td>\n",
       "      <td>0</td>\n",
       "      <td>[[0.0, 0.0, 0.0, 0.0, 0.0, 0.0, 0.0, 0.0, 0.0,...</td>\n",
       "    </tr>\n",
       "    <tr>\n",
       "      <th>4</th>\n",
       "      <td>4</td>\n",
       "      <td>19</td>\n",
       "      <td>6</td>\n",
       "      <td>0</td>\n",
       "      <td>[[0.0, 0.0, 0.0, 0.0, 0.0, 8.0, 0.0, 16.0, 0.0...</td>\n",
       "    </tr>\n",
       "  </tbody>\n",
       "</table>\n",
       "</div>"
      ],
      "text/plain": [
       "   userID  TaskID  VersionID  RepetitionID  \\\n",
       "0       4      19          2             0   \n",
       "1       4      19          3             0   \n",
       "2       4      19          4             0   \n",
       "3       4      19          5             0   \n",
       "4       4      19          6             0   \n",
       "\n",
       "                                             Gesture  \n",
       "0  [[0.0, 0.0, 0.0, 0.0, 0.0, 0.0, 0.0, 0.0, 0.0,...  \n",
       "1  [[0.0, 0.0, 0.0, 0.0, 0.0, 0.0, 0.0, 0.0, 0.0,...  \n",
       "2  [[0.0, 0.0, 0.0, 0.0, 0.0, 0.0, 0.0, 0.0, 0.0,...  \n",
       "3  [[0.0, 0.0, 0.0, 0.0, 0.0, 0.0, 0.0, 0.0, 0.0,...  \n",
       "4  [[0.0, 0.0, 0.0, 0.0, 0.0, 8.0, 0.0, 16.0, 0.0...  "
      ]
     },
     "execution_count": 34,
     "metadata": {},
     "output_type": "execute_result"
    }
   ],
   "source": [
    "dfAll.head()"
   ]
  },
  {
   "cell_type": "code",
   "execution_count": 35,
   "metadata": {},
   "outputs": [
    {
     "data": {
      "image/png": "[encoded data removed]",
      "text/plain": [
       "<Figure size 432x288 with 1 Axes>"
      ]
     },
     "metadata": {
      "needs_background": "light"
     },
     "output_type": "display_data"
    }
   ],
   "source": [
    "UserId = 6\n",
    "TaskId = 8\n",
    "\n",
    "data_point = dfAll[(dfAll.userID == UserId) & (dfAll.TaskID == TaskId)].iloc[0]\n",
    "\n",
    "plt.imshow(data_point.Gesture)\n",
    "plt.show()"
   ]
  },
  {
   "cell_type": "code",
   "execution_count": 36,
   "metadata": {},
   "outputs": [
    {
     "data": {
      "text/plain": [
       "Text(0.5, 1.0, 'Label for image 350 is: 1')"
      ]
     },
     "execution_count": 36,
     "metadata": {},
     "output_type": "execute_result"
    },
    {
     "data": {
      "image/png": "[encoded data removed]",
      "text/plain": [
       "<Figure size 432x288 with 1 Axes>"
      ]
     },
     "metadata": {
      "needs_background": "light"
     },
     "output_type": "display_data"
    }
   ],
   "source": [
    "i = 350\n",
    "plt.imshow(x_train[i].reshape(27, 15)) #np.sqrt(784) = 28\n",
    "plt.title(\"Label for image %i is: %s\" % (i, y_train[i]))"
   ]
  },
  {
   "cell_type": "code",
   "execution_count": 37,
   "metadata": {},
   "outputs": [],
   "source": [
    "# If GPU is not available: \n",
    "# GPU_USE = '/cpu:0'\n",
    "# config = tf.ConfigProto(device_count = {\"GPU\": 0})\n",
    "\n",
    "\n",
    "# If GPU is available: \n",
    "config = tf.ConfigProto()\n",
    "config.log_device_placement = True\n",
    "config.allow_soft_placement = True\n",
    "config.gpu_options.allocator_type = 'BFC'\n",
    "\n",
    "# Limit the maximum memory used\n",
    "#config.gpu_options.per_process_gpu_memory_fraction = 0.1\n",
    "\n",
    "# set session config\n",
    "tf.keras.backend.set_session(tf.Session(config=config))"
   ]
  },
  {
   "cell_type": "code",
   "execution_count": 38,
   "metadata": {},
   "outputs": [
    {
     "name": "stdout",
     "output_type": "stream",
     "text": [
      "_________________________________________________________________\n",
      "Layer (type)                 Output Shape              Param #   \n",
      "=================================================================\n",
      "conv2d_9 (Conv2D)            (None, 27, 15, 84)        840       \n",
      "_________________________________________________________________\n",
      "conv2d_10 (Conv2D)           (None, 27, 15, 84)        63588     \n",
      "_________________________________________________________________\n",
      "max_pooling2d_5 (MaxPooling2 (None, 13, 7, 84)         0         \n",
      "_________________________________________________________________\n",
      "dropout_5 (Dropout)          (None, 13, 7, 84)         0         \n",
      "_________________________________________________________________\n",
      "conv2d_11 (Conv2D)           (None, 13, 7, 42)         31794     \n",
      "_________________________________________________________________\n",
      "conv2d_12 (Conv2D)           (None, 13, 7, 42)         15918     \n",
      "_________________________________________________________________\n",
      "max_pooling2d_6 (MaxPooling2 (None, 6, 3, 42)          0         \n",
      "_________________________________________________________________\n",
      "dropout_6 (Dropout)          (None, 6, 3, 42)          0         \n",
      "_________________________________________________________________\n",
      "flatten_3 (Flatten)          (None, 756)               0         \n",
      "_________________________________________________________________\n",
      "dense_7 (Dense)              (None, 400)               302800    \n",
      "_________________________________________________________________\n",
      "dense_8 (Dense)              (None, 100)               40100     \n",
      "_________________________________________________________________\n",
      "dense_9 (Dense)              (None, 34)                3434      \n",
      "=================================================================\n",
      "Total params: 458,474\n",
      "Trainable params: 458,474\n",
      "Non-trainable params: 0\n",
      "_________________________________________________________________\n",
      "Train on 4419 samples, validate on 1100 samples\n",
      "Epoch 1/100\n",
      "4419/4419 [==============================] - 2s 387us/step - loss: 3.8828 - acc: 0.1197 - val_loss: 2.6470 - val_acc: 0.2473\n",
      "Epoch 2/100\n",
      "4419/4419 [==============================] - 1s 325us/step - loss: 2.6192 - acc: 0.2521 - val_loss: 1.6656 - val_acc: 0.4364\n",
      "Epoch 3/100\n",
      "4419/4419 [==============================] - 1s 328us/step - loss: 2.0141 - acc: 0.3569 - val_loss: 1.3555 - val_acc: 0.4727\n",
      "Epoch 4/100\n",
      "4419/4419 [==============================] - 2s 350us/step - loss: 1.7143 - acc: 0.4209 - val_loss: 1.2235 - val_acc: 0.4945\n",
      "Epoch 5/100\n",
      "4419/4419 [==============================] - 1s 301us/step - loss: 1.4906 - acc: 0.4852 - val_loss: 1.0884 - val_acc: 0.5691\n",
      "Epoch 6/100\n",
      "4419/4419 [==============================] - 1s 304us/step - loss: 1.3477 - acc: 0.5239 - val_loss: 1.0218 - val_acc: 0.6118\n",
      "Epoch 7/100\n",
      "4419/4419 [==============================] - 1s 325us/step - loss: 1.1910 - acc: 0.5933 - val_loss: 0.8584 - val_acc: 0.7118\n",
      "Epoch 8/100\n",
      "4419/4419 [==============================] - 1s 295us/step - loss: 1.0449 - acc: 0.6499 - val_loss: 0.6605 - val_acc: 0.7909\n",
      "Epoch 9/100\n",
      "4419/4419 [==============================] - 1s 299us/step - loss: 0.8795 - acc: 0.7017 - val_loss: 0.5554 - val_acc: 0.8164\n",
      "Epoch 10/100\n",
      "4419/4419 [==============================] - 1s 294us/step - loss: 0.7816 - acc: 0.7445 - val_loss: 0.5158 - val_acc: 0.8309\n",
      "Epoch 11/100\n",
      "4419/4419 [==============================] - 1s 312us/step - loss: 0.6860 - acc: 0.7714 - val_loss: 0.4156 - val_acc: 0.8591\n",
      "Epoch 12/100\n",
      "4419/4419 [==============================] - 1s 303us/step - loss: 0.6517 - acc: 0.7839 - val_loss: 0.5522 - val_acc: 0.8464\n",
      "Epoch 13/100\n",
      "4419/4419 [==============================] - 1s 301us/step - loss: 0.5735 - acc: 0.8072 - val_loss: 0.3903 - val_acc: 0.8564\n",
      "Epoch 14/100\n",
      "4419/4419 [==============================] - 1s 286us/step - loss: 0.5108 - acc: 0.8289 - val_loss: 0.3285 - val_acc: 0.8900\n",
      "Epoch 15/100\n",
      "4419/4419 [==============================] - 1s 286us/step - loss: 0.4629 - acc: 0.8457 - val_loss: 0.2978 - val_acc: 0.9027\n",
      "Epoch 16/100\n",
      "4419/4419 [==============================] - 1s 310us/step - loss: 0.4002 - acc: 0.8565 - val_loss: 0.2192 - val_acc: 0.9255\n",
      "Epoch 17/100\n",
      "4419/4419 [==============================] - 2s 343us/step - loss: 0.4173 - acc: 0.8570 - val_loss: 0.2981 - val_acc: 0.9009\n",
      "Epoch 18/100\n",
      "4419/4419 [==============================] - 1s 334us/step - loss: 0.4175 - acc: 0.8660 - val_loss: 0.2188 - val_acc: 0.9273\n",
      "Epoch 19/100\n",
      "4419/4419 [==============================] - 1s 321us/step - loss: 0.3700 - acc: 0.8785 - val_loss: 0.2306 - val_acc: 0.9273\n",
      "Epoch 20/100\n",
      "4419/4419 [==============================] - 1s 323us/step - loss: 0.3549 - acc: 0.8792 - val_loss: 0.1716 - val_acc: 0.9482\n",
      "Epoch 21/100\n",
      "4419/4419 [==============================] - 1s 326us/step - loss: 0.2832 - acc: 0.9081 - val_loss: 0.1977 - val_acc: 0.9445\n",
      "Epoch 22/100\n",
      "4419/4419 [==============================] - 1s 327us/step - loss: 0.2669 - acc: 0.9136 - val_loss: 0.1658 - val_acc: 0.9427\n",
      "Epoch 23/100\n",
      "4419/4419 [==============================] - 2s 363us/step - loss: 0.2739 - acc: 0.9079 - val_loss: 0.1479 - val_acc: 0.9445\n",
      "Epoch 24/100\n",
      "4419/4419 [==============================] - 2s 376us/step - loss: 0.2877 - acc: 0.9043 - val_loss: 0.1432 - val_acc: 0.9527\n",
      "Epoch 25/100\n",
      "4419/4419 [==============================] - 2s 342us/step - loss: 0.2538 - acc: 0.9147 - val_loss: 0.1198 - val_acc: 0.9655\n",
      "Epoch 26/100\n",
      "4419/4419 [==============================] - 1s 336us/step - loss: 0.2730 - acc: 0.9136 - val_loss: 0.2882 - val_acc: 0.9055\n",
      "Epoch 27/100\n",
      "4419/4419 [==============================] - 1s 335us/step - loss: 0.2726 - acc: 0.9126 - val_loss: 0.1357 - val_acc: 0.9682\n",
      "Epoch 28/100\n",
      "4419/4419 [==============================] - 2s 340us/step - loss: 0.2470 - acc: 0.9190 - val_loss: 0.1595 - val_acc: 0.9373\n",
      "Epoch 29/100\n",
      "4419/4419 [==============================] - 1s 339us/step - loss: 0.2039 - acc: 0.9335 - val_loss: 0.1591 - val_acc: 0.9636\n",
      "Epoch 30/100\n",
      "4419/4419 [==============================] - 2s 343us/step - loss: 0.1911 - acc: 0.9425 - val_loss: 0.1993 - val_acc: 0.9564\n",
      "Epoch 31/100\n",
      "4419/4419 [==============================] - 2s 341us/step - loss: 0.2073 - acc: 0.9353 - val_loss: 0.1433 - val_acc: 0.9618\n",
      "Epoch 32/100\n",
      "4419/4419 [==============================] - 2s 340us/step - loss: 0.2039 - acc: 0.9346 - val_loss: 0.1300 - val_acc: 0.9582\n",
      "Epoch 33/100\n",
      "4419/4419 [==============================] - 2s 343us/step - loss: 0.1951 - acc: 0.9382 - val_loss: 0.0740 - val_acc: 0.9791\n",
      "Epoch 34/100\n",
      "4419/4419 [==============================] - 2s 341us/step - loss: 0.1496 - acc: 0.9516 - val_loss: 0.0612 - val_acc: 0.9736\n",
      "Epoch 35/100\n",
      "4419/4419 [==============================] - 2s 347us/step - loss: 0.1501 - acc: 0.9534 - val_loss: 0.1094 - val_acc: 0.9636\n",
      "Epoch 36/100\n",
      "4419/4419 [==============================] - 2s 344us/step - loss: 0.1935 - acc: 0.9391 - val_loss: 0.0712 - val_acc: 0.9764\n",
      "Epoch 37/100\n",
      "4419/4419 [==============================] - 2s 345us/step - loss: 0.2019 - acc: 0.9362 - val_loss: 0.1100 - val_acc: 0.9573\n",
      "Epoch 38/100\n",
      "4419/4419 [==============================] - 2s 347us/step - loss: 0.1849 - acc: 0.9430 - val_loss: 0.0600 - val_acc: 0.9845\n",
      "Epoch 39/100\n",
      "4419/4419 [==============================] - 2s 347us/step - loss: 0.1462 - acc: 0.9559 - val_loss: 0.0703 - val_acc: 0.9818\n",
      "Epoch 40/100\n",
      "4419/4419 [==============================] - 2s 352us/step - loss: 0.1440 - acc: 0.9563 - val_loss: 0.0555 - val_acc: 0.9809\n",
      "Epoch 41/100\n",
      "4419/4419 [==============================] - 2s 345us/step - loss: 0.1607 - acc: 0.9502 - val_loss: 0.0857 - val_acc: 0.9664\n",
      "Epoch 42/100\n",
      "4419/4419 [==============================] - 2s 349us/step - loss: 0.1468 - acc: 0.9525 - val_loss: 0.0712 - val_acc: 0.9727\n",
      "Epoch 43/100\n",
      "4419/4419 [==============================] - 2s 350us/step - loss: 0.1222 - acc: 0.9654 - val_loss: 0.0599 - val_acc: 0.9782\n",
      "Epoch 44/100\n",
      "4419/4419 [==============================] - 2s 345us/step - loss: 0.1992 - acc: 0.9464 - val_loss: 0.2160 - val_acc: 0.9400\n",
      "Epoch 45/100\n",
      "4419/4419 [==============================] - 2s 354us/step - loss: 0.1604 - acc: 0.9504 - val_loss: 0.0679 - val_acc: 0.9782\n",
      "Epoch 46/100\n",
      "4419/4419 [==============================] - 2s 348us/step - loss: 0.1480 - acc: 0.9547 - val_loss: 0.0924 - val_acc: 0.9727\n",
      "Epoch 47/100\n",
      "4419/4419 [==============================] - 2s 347us/step - loss: 0.2330 - acc: 0.9303 - val_loss: 0.0562 - val_acc: 0.9791\n",
      "Epoch 48/100\n",
      "4419/4419 [==============================] - 2s 364us/step - loss: 0.1363 - acc: 0.9618 - val_loss: 0.0479 - val_acc: 0.9891\n",
      "Epoch 49/100\n",
      "4419/4419 [==============================] - 1s 309us/step - loss: 0.1299 - acc: 0.9606 - val_loss: 0.0614 - val_acc: 0.9800\n",
      "Epoch 50/100\n",
      "4419/4419 [==============================] - 1s 300us/step - loss: 0.1452 - acc: 0.9581 - val_loss: 0.0383 - val_acc: 0.9845\n",
      "Epoch 51/100\n",
      "4419/4419 [==============================] - 1s 327us/step - loss: 0.1146 - acc: 0.9642 - val_loss: 0.0613 - val_acc: 0.9809\n",
      "Epoch 52/100\n",
      "4419/4419 [==============================] - 1s 308us/step - loss: 0.1218 - acc: 0.9631 - val_loss: 0.0378 - val_acc: 0.9864\n",
      "Epoch 53/100\n",
      "4419/4419 [==============================] - 1s 305us/step - loss: 0.0973 - acc: 0.9719 - val_loss: 0.0238 - val_acc: 0.9945\n",
      "Epoch 54/100\n",
      "4419/4419 [==============================] - 1s 285us/step - loss: 0.0782 - acc: 0.9765 - val_loss: 0.0391 - val_acc: 0.9936\n",
      "Epoch 55/100\n",
      "4419/4419 [==============================] - 1s 285us/step - loss: 0.0675 - acc: 0.9801 - val_loss: 0.0270 - val_acc: 0.9927\n",
      "Epoch 56/100\n",
      "4419/4419 [==============================] - 1s 284us/step - loss: 0.0781 - acc: 0.9760 - val_loss: 0.0866 - val_acc: 0.9782\n",
      "Epoch 57/100\n",
      "4419/4419 [==============================] - 1s 286us/step - loss: 0.1188 - acc: 0.9654 - val_loss: 0.1534 - val_acc: 0.9655\n",
      "Epoch 58/100\n",
      "4419/4419 [==============================] - 1s 286us/step - loss: 0.2132 - acc: 0.9470 - val_loss: 0.2094 - val_acc: 0.9336\n",
      "Epoch 59/100\n",
      "4419/4419 [==============================] - 1s 285us/step - loss: 0.2020 - acc: 0.9360 - val_loss: 0.0474 - val_acc: 0.9891\n",
      "Epoch 60/100\n",
      "4419/4419 [==============================] - 1s 286us/step - loss: 0.1083 - acc: 0.9661 - val_loss: 0.0402 - val_acc: 0.9836\n",
      "Epoch 61/100\n",
      "4419/4419 [==============================] - 1s 286us/step - loss: 0.0930 - acc: 0.9744 - val_loss: 0.0284 - val_acc: 0.9918\n",
      "Epoch 62/100\n",
      "4419/4419 [==============================] - 1s 284us/step - loss: 0.1083 - acc: 0.9690 - val_loss: 0.0336 - val_acc: 0.9882\n",
      "Epoch 63/100\n",
      "4419/4419 [==============================] - 1s 287us/step - loss: 0.0747 - acc: 0.9817 - val_loss: 0.0619 - val_acc: 0.9791\n",
      "Epoch 64/100\n",
      "4419/4419 [==============================] - 1s 286us/step - loss: 0.1185 - acc: 0.9672 - val_loss: 0.4789 - val_acc: 0.8818\n",
      "Epoch 65/100\n",
      "4419/4419 [==============================] - 1s 285us/step - loss: 0.2119 - acc: 0.9427 - val_loss: 0.0570 - val_acc: 0.9845\n",
      "Epoch 66/100\n",
      "4419/4419 [==============================] - 1s 286us/step - loss: 0.0947 - acc: 0.9710 - val_loss: 0.0567 - val_acc: 0.9827\n",
      "Epoch 67/100\n",
      "4419/4419 [==============================] - 1s 286us/step - loss: 0.0982 - acc: 0.9724 - val_loss: 0.0209 - val_acc: 0.9927\n",
      "Epoch 68/100\n",
      "4419/4419 [==============================] - 1s 284us/step - loss: 0.0736 - acc: 0.9790 - val_loss: 0.0114 - val_acc: 0.9973\n",
      "Epoch 69/100\n",
      "4419/4419 [==============================] - 1s 284us/step - loss: 0.0666 - acc: 0.9783 - val_loss: 0.0106 - val_acc: 0.9973\n",
      "Epoch 70/100\n",
      "4419/4419 [==============================] - 1s 287us/step - loss: 0.0616 - acc: 0.9837 - val_loss: 0.0113 - val_acc: 0.9973\n",
      "Epoch 71/100\n",
      "4419/4419 [==============================] - 1s 286us/step - loss: 0.0692 - acc: 0.9844 - val_loss: 0.0256 - val_acc: 0.9927\n",
      "Epoch 72/100\n",
      "4419/4419 [==============================] - 1s 285us/step - loss: 0.0790 - acc: 0.9794 - val_loss: 0.0090 - val_acc: 0.9955\n",
      "Epoch 73/100\n",
      "4419/4419 [==============================] - 1s 286us/step - loss: 0.0727 - acc: 0.9774 - val_loss: 0.0309 - val_acc: 0.9864\n",
      "Epoch 74/100\n",
      "4419/4419 [==============================] - 1s 287us/step - loss: 0.0843 - acc: 0.9762 - val_loss: 0.0242 - val_acc: 0.9909\n",
      "Epoch 75/100\n",
      "4419/4419 [==============================] - 1s 302us/step - loss: 0.1221 - acc: 0.9663 - val_loss: 0.0683 - val_acc: 0.9700\n",
      "Epoch 76/100\n",
      "4419/4419 [==============================] - 1s 303us/step - loss: 0.1311 - acc: 0.9633 - val_loss: 0.0296 - val_acc: 0.9927\n",
      "Epoch 77/100\n",
      "4419/4419 [==============================] - 1s 290us/step - loss: 0.1483 - acc: 0.9581 - val_loss: 0.0654 - val_acc: 0.9845\n",
      "Epoch 78/100\n",
      "4419/4419 [==============================] - 2s 350us/step - loss: 0.1176 - acc: 0.9679 - val_loss: 0.0819 - val_acc: 0.9818\n",
      "Epoch 79/100\n",
      "4419/4419 [==============================] - 1s 318us/step - loss: 0.1124 - acc: 0.9706 - val_loss: 0.0487 - val_acc: 0.9864\n",
      "Epoch 80/100\n",
      "4419/4419 [==============================] - 1s 317us/step - loss: 0.0660 - acc: 0.9771 - val_loss: 0.0256 - val_acc: 0.9873\n",
      "Epoch 81/100\n",
      "4419/4419 [==============================] - 1s 319us/step - loss: 0.0720 - acc: 0.9785 - val_loss: 0.0275 - val_acc: 0.9909\n",
      "Epoch 82/100\n",
      "4419/4419 [==============================] - 2s 351us/step - loss: 0.0519 - acc: 0.9842 - val_loss: 0.0132 - val_acc: 0.9955\n",
      "Epoch 83/100\n",
      "4419/4419 [==============================] - 2s 349us/step - loss: 0.0633 - acc: 0.9814 - val_loss: 0.0268 - val_acc: 0.9909\n",
      "Epoch 84/100\n",
      "4419/4419 [==============================] - 1s 327us/step - loss: 0.0773 - acc: 0.9796 - val_loss: 0.0407 - val_acc: 0.9891\n",
      "Epoch 85/100\n",
      "4419/4419 [==============================] - 1s 312us/step - loss: 0.0581 - acc: 0.9837 - val_loss: 0.0176 - val_acc: 0.9936\n",
      "Epoch 86/100\n",
      "4419/4419 [==============================] - 1s 294us/step - loss: 0.0559 - acc: 0.9839 - val_loss: 0.0215 - val_acc: 0.9964\n",
      "Epoch 87/100\n",
      "4419/4419 [==============================] - 2s 348us/step - loss: 0.0582 - acc: 0.9835 - val_loss: 0.0391 - val_acc: 0.9891\n",
      "Epoch 88/100\n",
      "4419/4419 [==============================] - 1s 332us/step - loss: 0.1119 - acc: 0.9670 - val_loss: 0.0138 - val_acc: 0.9964\n",
      "Epoch 89/100\n",
      "4419/4419 [==============================] - 1s 325us/step - loss: 0.0691 - acc: 0.9830 - val_loss: 0.0085 - val_acc: 0.9991\n",
      "Epoch 90/100\n",
      "4419/4419 [==============================] - 2s 351us/step - loss: 0.0842 - acc: 0.9778 - val_loss: 0.0176 - val_acc: 0.9936\n",
      "Epoch 91/100\n",
      "4419/4419 [==============================] - 1s 286us/step - loss: 0.0732 - acc: 0.9769 - val_loss: 0.0214 - val_acc: 0.9936\n",
      "Epoch 92/100\n",
      "4419/4419 [==============================] - 1s 286us/step - loss: 0.0879 - acc: 0.9783 - val_loss: 0.0200 - val_acc: 0.9927\n",
      "Epoch 93/100\n",
      "4419/4419 [==============================] - 1s 284us/step - loss: 0.0721 - acc: 0.9783 - val_loss: 0.0129 - val_acc: 0.9955\n",
      "Epoch 94/100\n",
      "4419/4419 [==============================] - 1s 287us/step - loss: 0.0492 - acc: 0.9873 - val_loss: 0.0266 - val_acc: 0.9927\n",
      "Epoch 95/100\n",
      "4419/4419 [==============================] - 1s 285us/step - loss: 0.0631 - acc: 0.9817 - val_loss: 0.0116 - val_acc: 0.9973\n",
      "Epoch 96/100\n",
      "4419/4419 [==============================] - 1s 286us/step - loss: 0.0597 - acc: 0.9826 - val_loss: 0.0075 - val_acc: 0.9982\n",
      "Epoch 97/100\n",
      "4419/4419 [==============================] - 1s 312us/step - loss: 0.0730 - acc: 0.9808 - val_loss: 0.0359 - val_acc: 0.9918\n",
      "Epoch 98/100\n",
      "4419/4419 [==============================] - 1s 309us/step - loss: 0.0991 - acc: 0.9731 - val_loss: 0.0321 - val_acc: 0.9909\n",
      "Epoch 99/100\n",
      "4419/4419 [==============================] - 1s 309us/step - loss: 0.0717 - acc: 0.9778 - val_loss: 0.0146 - val_acc: 0.9973\n",
      "Epoch 100/100\n",
      "4419/4419 [==============================] - 1s 298us/step - loss: 0.0842 - acc: 0.9796 - val_loss: 0.0288 - val_acc: 0.9909\n"
     ]
    }
   ],
   "source": [
    "tf.get_default_graph()\n",
    "########## HYPER PARAMETERS\n",
    "batch_size = 50\n",
    "epochs = 100\n",
    "optimizer = optimizers.Adam()\n",
    "#optimizer = tf.keras.optimizers.RMSprop(lr=0.001, rho=0.9, epsilon=1e-08, decay=0.1)\n",
    "#init=tf.global_variables_initializer()\n",
    "\n",
    "########## HYPER PARAMETERS\n",
    "########## MODEL ARCHITECTURE\n",
    "model = Sequential()\n",
    "\n",
    "\n",
    "model.add(Conv2D(84, kernel_size=(3, 3), activation='relu', padding='same', input_shape=(27,15,1)))\n",
    "model.add(Conv2D(84, kernel_size=(3, 3), activation='relu', padding='same'))\n",
    "model.add(MaxPooling2D(pool_size=(2,2), strides=None, padding='valid', data_format='channels_last'))\n",
    "model.add(Dropout(0.15))\n",
    "model.add(Conv2D(42, kernel_size=(3, 3), activation='relu', padding='same'))\n",
    "model.add(Conv2D(42, kernel_size=(3, 3), activation='relu', padding='same'))\n",
    "model.add(MaxPooling2D(pool_size=(2,2), strides=None, padding='valid', data_format='channels_last'))\n",
    "model.add(Dropout(0.15))\n",
    "model.add(Flatten())\n",
    "model.add(Dense(400, activation=('relu'), use_bias=True))\n",
    "model.add(Dense(100, activation=('relu'), use_bias=True))\n",
    "model.add(Dense(num_classes, activation='softmax'))\n",
    "########## MODEL ARCHITECTURE\n",
    "####TENSORBOARD\n",
    "config = \"\"\n",
    "for layer in model.layers:\n",
    "    config += str(layer.output).split('\\\"')[1].split(\"/\")[0] + str(layer.output_shape) + \"\\n\\n\"\n",
    "#### END TENSORBOARD\n",
    "\n",
    "\n",
    "# Print summary\n",
    "model.summary()\n",
    "readable_timestamp = datetime.datetime.fromtimestamp(time.time()).strftime('%Y%m%d_%H%M%S')\n",
    "tensorflowfolder = \"/srv/share/tensorboardfiles/KnuckleFinger_Robin_\" + readable_timestamp\n",
    "\n",
    "logger = LoggingTensorBoard(settings_str_to_log = config, log_dir=tensorflowfolder, histogram_freq=0, write_graph=True, write_images=True, update_freq = 'epoch')\n",
    "storer = ModelCheckpoint(\"./ModelSnapshots/KnuckleFingerGestures_Robin_\" + readable_timestamp + \".h5\", monitor='val_loss', verbose=0, save_best_only=False, save_weights_only=False, mode='auto', period=1)\n",
    "\n",
    "# compile model for training\n",
    "model.compile(loss='categorical_crossentropy',\n",
    "              optimizer=optimizer,\n",
    "              metrics=['accuracy'])\n",
    "\n",
    "history = model.fit(x_train, y_train_one_hot,\n",
    "                    batch_size=batch_size,\n",
    "                    epochs=epochs,\n",
    "                    verbose=1,\n",
    "                    validation_data=(x_test, y_test_one_hot),\n",
    "                    callbacks=[logger, storer, tg_callback])\n",
    "                    "
   ]
  },
  {
   "cell_type": "code",
   "execution_count": 39,
   "metadata": {},
   "outputs": [
    {
     "name": "stdout",
     "output_type": "stream",
     "text": [
      "\n",
      " Confusion matrix: \n",
      "[[32  0  0  0  0  0  0  0  0  0  0  0  0  0  0  0  0  0  0  0  0  0  0  0  0  0  0  0  0  0  0  0  0  0]\n",
      " [ 0 33  0  0  0  0  0  0  0  0  0  0  0  0  0  0  0  0  0  0  0  0  0  0  0  0  0  0  0  0  0  0  0  0]\n",
      " [ 0  0 31  0  0  0  0  0  0  0  0  0  0  0  0  0  0  0  0  0  0  0  0  0  0  0  0  0  0  0  0  0  0  0]\n",
      " [ 0  0  1 29  0  0  0  0  0  0  0  0  0  0  0  0  0  0  0  1  1  0  0  0  0  0  0  0  0  0  0  0  0  0]\n",
      " [ 0  0  0  0 31  1  0  0  0  0  0  0  0  0  0  0  0  0  0  0  0  0  0  0  0  0  0  0  0  0  0  0  0  0]\n",
      " [ 0  0  0  0  0 30  0  0  0  0  0  0  0  0  0  0  0  0  0  0  0  0  0  0  0  0  0  0  0  0  0  0  0  0]\n",
      " [ 0  0  0  0  0  0 34  0  0  0  0  0  0  0  0  0  0  0  0  0  0  0  0  1  0  0  0  0  0  0  0  0  0  0]\n",
      " [ 0  0  0  0  0  0  0 31  0  0  0  0  0  0  0  0  0  0  0  0  0  0  0  0  0  0  0  0  0  0  0  0  0  0]\n",
      " [ 0  0  0  0  0  0  0  0 31  0  0  0  0  0  0  0  0  0  0  0  0  0  0  0  0  0  0  0  0  0  0  0  0  0]\n",
      " [ 0  0  0  0  0  0  0  0  0 37  0  0  0  0  0  0  0  0  0  0  0  0  0  0  0  0  0  0  0  0  0  0  0  0]\n",
      " [ 0  0  0  0  0  0  0  0  0  0 30  0  0  0  0  0  0  0  0  0  0  0  0  0  0  0  0  0  0  0  0  0  0  0]\n",
      " [ 0  0  0  0  0  0  0  0  0  0  0 33  0  0  0  0  0  0  0  0  0  0  0  0  0  0  0  0  0  0  0  0  0  0]\n",
      " [ 0  0  0  0  0  0  0  0  0  0  0  0 29  0  0  0  0  0  0  0  0  0  0  0  0  0  0  0  0  0  0  0  0  0]\n",
      " [ 0  0  0  0  0  0  0  0  0  0  0  0  0 29  0  0  0  0  0  0  0  0  0  0  0  0  0  0  0  0  1  0  0  0]\n",
      " [ 0  0  0  0  0  0  0  0  0  0  0  0  0  0 32  0  0  0  0  0  0  0  0  0  0  0  0  0  0  0  0  0  0  0]\n",
      " [ 0  0  0  0  0  0  0  0  0  0  0  0  0  0  0 34  0  0  0  0  0  0  0  0  0  0  0  0  0  0  0  0  0  0]\n",
      " [ 0  0  0  0  0  0  0  0  0  0  0  0  0  0  0  0 32  0  0  0  0  0  0  0  0  0  0  0  0  0  0  0  0  0]\n",
      " [ 0  0  0  0  0  0  0  0  0  0  0  0  0  0  0  0  0 32  0  0  0  0  0  0  0  0  0  0  0  0  0  0  0  0]\n",
      " [ 0  0  0  0  0  0  0  0  0  0  0  0  0  0  0  0  0  0 31  0  0  0  0  0  0  0  0  0  0  0  0  0  0  0]\n",
      " [ 0  0  0  0  0  0  0  0  0  0  0  0  0  0  0  0  0  0  0 33  0  0  0  0  0  0  0  0  0  0  0  0  0  0]\n",
      " [ 0  0  0  0  0  0  0  0  0  0  0  0  0  0  0  0  0  0  0  2 26  0  0  0  0  0  0  0  0  0  0  0  0  0]\n",
      " [ 0  0  0  0  0  0  0  0  0  0  0  0  0  0  0  0  0  0  0  0  0 32  0  0  0  0  0  0  0  0  0  0  0  0]\n",
      " [ 0  0  0  0  0  0  0  0  0  0  0  0  0  0  0  0  0  0  0  0  0  0 29  0  0  0  0  0  0  0  0  0  0  0]\n",
      " [ 0  0  0  0  0  0  0  0  0  0  0  0  0  0  0  0  0  0  0  0  0  0  0 35  0  0  0  0  0  0  0  0  0  0]\n",
      " [ 0  0  0  0  0  0  0  0  0  0  0  0  0  0  0  0  0  0  0  0  0  0  0  0 34  0  0  0  0  0  0  0  0  0]\n",
      " [ 0  0  0  0  0  0  0  0  0  0  0  0  0  0  0  0  0  0  0  0  0  0  0  0  0 35  0  0  0  0  0  0  0  0]\n",
      " [ 0  0  0  0  0  0  0  0  0  0  0  0  0  0  0  0  0  0  0  0  0  0  0  0  0  0 32  0  0  0  0  0  0  0]\n",
      " [ 0  0  0  0  0  0  0  0  0  0  0  0  0  0  0  0  0  0  0  0  0  0  0  0  0  0  0 35  0  0  0  0  0  0]\n",
      " [ 0  0  0  0  0  0  0  0  0  0  0  0  0  0  0  0  0  0  0  0  0  0  0  0  0  0  0  0 32  0  0  0  0  0]\n",
      " [ 0  0  0  0  0  0  0  0  0  0  0  0  0  0  0  0  0  0  0  0  0  0  0  0  0  0  0  0  0 31  0  0  0  0]\n",
      " [ 0  0  0  0  0  0  0  0  0  0  0  0  0  0  0  0  0  0  0  0  0  0  0  0  0  0  0  0  0  0 37  0  0  0]\n",
      " [ 0  0  0  0  0  0  0  0  0  0  0  0  0  0  0  0  0  0  0  0  0  0  0  0  0  0  0  0  0  0  0 36  0  0]\n",
      " [ 0  0  0  0  0  0  0  0  0  0  0  0  0  0  0  0  0  0  0  0  0  0  0  0  0  0  0  0  0  0  0  0 31  0]\n",
      " [ 0  0  0  0  0  0  0  0  0  0  0  0  0  0  0  0  0  2  0  0  0  0  0  0  0  0  0  0  0  0  0  0  0 31]]\n"
     ]
    }
   ],
   "source": [
    "# use model for inference to get test accuracy\n",
    "y_test_pred = model.predict(x_test)\n",
    "y_test_pred = np.argmax(y_test_pred, axis=1)\n",
    "\n",
    "#print ('\\n Summary of the precision, recall, F1 score for each class:')\n",
    "#print (sklearn.metrics.classification_report(y_test, y_test_pred))\n",
    "\n",
    "print ('\\n Confusion matrix: ')\n",
    "np.set_printoptions(threshold=np.nan, linewidth=160)\n",
    "print (sklearn.metrics.confusion_matrix(y_test, y_test_pred))"
   ]
  },
  {
   "cell_type": "code",
   "execution_count": 40,
   "metadata": {},
   "outputs": [
    {
     "data": {
      "text/plain": [
       "<matplotlib.legend.Legend at 0x7f72ce25e9b0>"
      ]
     },
     "execution_count": 40,
     "metadata": {},
     "output_type": "execute_result"
    },
    {
     "data": {
      "image/png": "[encoded data removed]",
      "text/plain": [
       "<Figure size 432x288 with 1 Axes>"
      ]
     },
     "metadata": {
      "needs_background": "light"
     },
     "output_type": "display_data"
    }
   ],
   "source": [
    "import matplotlib.pyplot as plt\n",
    "plt.plot(history.history['val_acc'], label=\"Test Accuracy\")\n",
    "plt.plot(history.history['acc'], label=\"Training Accuracy\")\n",
    "plt.legend()"
   ]
  },
  {
   "cell_type": "code",
   "execution_count": 41,
   "metadata": {},
   "outputs": [],
   "source": [
    "# save model\n",
    "model.save(\"Gestures.h5\")"
   ]
  },
  {
   "cell_type": "code",
   "execution_count": null,
   "metadata": {},
   "outputs": [],
   "source": []
  }
 ],
 "metadata": {
  "kernelspec": {
   "display_name": "Python 3",
   "language": "python",
   "name": "python3"
  },
  "language_info": {
   "codemirror_mode": {
    "name": "ipython",
    "version": 3
   },
   "file_extension": ".py",
   "mimetype": "text/x-python",
   "name": "python",
   "nbconvert_exporter": "python",
   "pygments_lexer": "ipython3",
   "version": "3.7.1"
  }
 },
 "nbformat": 4,
 "nbformat_minor": 2
}
