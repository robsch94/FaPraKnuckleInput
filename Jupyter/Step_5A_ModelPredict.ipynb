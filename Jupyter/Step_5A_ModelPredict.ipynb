{
 "cells": [
  {
   "cell_type": "code",
   "execution_count": 1,
   "metadata": {},
   "outputs": [
    {
     "name": "stderr",
     "output_type": "stream",
     "text": [
      "Using TensorFlow backend.\n"
     ]
    }
   ],
   "source": [
    "import os\n",
    "os.environ[\"CUDA_VISIBLE_DEVICES\"]=\"1\"\n",
    "\n",
    "from keras.models import Sequential, load_model\n",
    "from keras.layers import *\n",
    "from keras import optimizers\n",
    "from keras import utils\n",
    "from keras.callbacks import TensorBoard, ModelCheckpoint, ReduceLROnPlateau\n",
    "import keras\n",
    "\n",
    "import numpy as np\n",
    "import matplotlib.pyplot as plt\n",
    "import pandas as pd\n",
    "import math\n",
    "\n",
    "import tensorflow as tf\n",
    "\n",
    "# Importing matplotlib to plot images.\n",
    "import matplotlib.pyplot as plt\n",
    "import numpy as np\n",
    "%matplotlib inline\n",
    "\n",
    "# Importing SK-learn to calculate precision and recall\n",
    "import sklearn\n",
    "from sklearn import metrics\n",
    "from sklearn.model_selection import train_test_split, cross_val_score, LeaveOneGroupOut\n",
    "from sklearn.utils import shuffle \n",
    "\n",
    "# Used for graph export\n",
    "from tensorflow.python.framework import graph_util\n",
    "from tensorflow.python.framework import graph_io\n",
    "from keras import backend as K\n",
    "\n",
    "import pickle as pkl\n",
    "import h5py\n",
    "\n",
    "from pathlib import Path\n",
    "import os.path\n",
    "import sys\n",
    "import datetime\n",
    "import time\n",
    "\n"
   ]
  },
  {
   "cell_type": "code",
   "execution_count": 2,
   "metadata": {},
   "outputs": [],
   "source": [
    "train_ids = [5, 6, 7, 8, 9, 10, 11, 12, 13, 14,15,16]\n",
    "test_ids = [1, 2, 3, 4,17]"
   ]
  },
  {
   "cell_type": "code",
   "execution_count": 3,
   "metadata": {},
   "outputs": [],
   "source": [
    "dfOG = pd.read_pickle(\"PklData/AllData.pkl\")"
   ]
  },
  {
   "cell_type": "code",
   "execution_count": 4,
   "metadata": {},
   "outputs": [],
   "source": [
    "# the data, split between train and test sets\n",
    "dfAll = pd.read_pickle(\"PklData/df_blobs.pkl\")\n",
    "df_train = dfAll[dfAll.userID.isin(train_ids)]\n",
    "df_test = dfAll[dfAll.userID.isin(test_ids) & (dfAll.Version == \"Normal\")]\n",
    "\n",
    "#df_test = df_test.reset_index()\n",
    "#df_train = df_train.reset_index()\n",
    "\n",
    "df_train2 = df_train[['Blobs', 'InputMethod']].copy()\n",
    "df_test2 = df_test[['Blobs', 'InputMethod']].copy()"
   ]
  },
  {
   "cell_type": "code",
   "execution_count": 5,
   "metadata": {},
   "outputs": [
    {
     "data": {
      "text/html": [
       "<div>\n",
       "<style scoped>\n",
       "    .dataframe tbody tr th:only-of-type {\n",
       "        vertical-align: middle;\n",
       "    }\n",
       "\n",
       "    .dataframe tbody tr th {\n",
       "        vertical-align: top;\n",
       "    }\n",
       "\n",
       "    .dataframe thead th {\n",
       "        text-align: right;\n",
       "    }\n",
       "</style>\n",
       "<table border=\"1\" class=\"dataframe\">\n",
       "  <thead>\n",
       "    <tr style=\"text-align: right;\">\n",
       "      <th></th>\n",
       "      <th>userID</th>\n",
       "      <th>TaskID</th>\n",
       "      <th>Version</th>\n",
       "      <th>Blobs</th>\n",
       "      <th>InputMethod</th>\n",
       "    </tr>\n",
       "  </thead>\n",
       "  <tbody>\n",
       "    <tr>\n",
       "      <th>292034</th>\n",
       "      <td>1</td>\n",
       "      <td>0</td>\n",
       "      <td>Normal</td>\n",
       "      <td>[[1.0, 0.0, 5.0, 9.0, 0.0, 0.0, 0.0, 0.0, 0.0,...</td>\n",
       "      <td>0</td>\n",
       "    </tr>\n",
       "    <tr>\n",
       "      <th>292037</th>\n",
       "      <td>1</td>\n",
       "      <td>0</td>\n",
       "      <td>Normal</td>\n",
       "      <td>[[1.0, 1.0, 1.0, 4.0, 1.0, 0.0, 0.0, 0.0, 0.0,...</td>\n",
       "      <td>0</td>\n",
       "    </tr>\n",
       "    <tr>\n",
       "      <th>292038</th>\n",
       "      <td>1</td>\n",
       "      <td>0</td>\n",
       "      <td>Normal</td>\n",
       "      <td>[[1.0, 1.0, 4.0, 4.0, 2.0, 0.0, 0.0, 0.0, 0.0,...</td>\n",
       "      <td>0</td>\n",
       "    </tr>\n",
       "    <tr>\n",
       "      <th>292801</th>\n",
       "      <td>1</td>\n",
       "      <td>0</td>\n",
       "      <td>Normal</td>\n",
       "      <td>[[0.0, 1.0, 1.0, 0.0, 0.0, 0.0, 0.0, 0.0, 0.0,...</td>\n",
       "      <td>0</td>\n",
       "    </tr>\n",
       "    <tr>\n",
       "      <th>292803</th>\n",
       "      <td>1</td>\n",
       "      <td>0</td>\n",
       "      <td>Normal</td>\n",
       "      <td>[[1.0, 2.0, 7.0, 7.0, 3.0, 0.0, 0.0, 0.0, 0.0,...</td>\n",
       "      <td>0</td>\n",
       "    </tr>\n",
       "  </tbody>\n",
       "</table>\n",
       "</div>"
      ],
      "text/plain": [
       "        userID  TaskID Version  \\\n",
       "292034       1       0  Normal   \n",
       "292037       1       0  Normal   \n",
       "292038       1       0  Normal   \n",
       "292801       1       0  Normal   \n",
       "292803       1       0  Normal   \n",
       "\n",
       "                                                    Blobs  InputMethod  \n",
       "292034  [[1.0, 0.0, 5.0, 9.0, 0.0, 0.0, 0.0, 0.0, 0.0,...            0  \n",
       "292037  [[1.0, 1.0, 1.0, 4.0, 1.0, 0.0, 0.0, 0.0, 0.0,...            0  \n",
       "292038  [[1.0, 1.0, 4.0, 4.0, 2.0, 0.0, 0.0, 0.0, 0.0,...            0  \n",
       "292801  [[0.0, 1.0, 1.0, 0.0, 0.0, 0.0, 0.0, 0.0, 0.0,...            0  \n",
       "292803  [[1.0, 2.0, 7.0, 7.0, 3.0, 0.0, 0.0, 0.0, 0.0,...            0  "
      ]
     },
     "execution_count": 5,
     "metadata": {},
     "output_type": "execute_result"
    }
   ],
   "source": [
    "dfAll.head()"
   ]
  },
  {
   "cell_type": "code",
   "execution_count": 6,
   "metadata": {},
   "outputs": [],
   "source": [
    "x_train = np.vstack(df_train2.Blobs)\n",
    "x_test = np.vstack(df_test2.Blobs)\n",
    "y_train = df_train2.InputMethod.values\n",
    "y_test = df_test2.InputMethod.values\n",
    "\n",
    "x_train = x_train.reshape(-1, 27, 15, 1)\n",
    "x_test = x_test.reshape(-1, 27, 15, 1)"
   ]
  },
  {
   "cell_type": "code",
   "execution_count": 7,
   "metadata": {},
   "outputs": [],
   "source": [
    "# convert class vectors to binary class matrices (one-hot notation)\n",
    "num_classes = 2\n",
    "y_train_one_hot = utils.to_categorical(df_train2.InputMethod, num_classes)\n",
    "y_test_one_hot = utils.to_categorical(df_test2.InputMethod, num_classes)"
   ]
  },
  {
   "cell_type": "code",
   "execution_count": 8,
   "metadata": {},
   "outputs": [],
   "source": [
    "# If GPU is not available: \n",
    "# GPU_USE = '/cpu:0'\n",
    "#config = tf.ConfigProto(device_count = {\"GPU\": 1})\n",
    "\n",
    "\n",
    "# If GPU is available: \n",
    "config = tf.ConfigProto()\n",
    "config.log_device_placement = True\n",
    "config.allow_soft_placement = True\n",
    "config.gpu_options.allow_growth=True\n",
    "config.gpu_options.allocator_type = 'BFC'\n",
    "\n",
    "# Limit the maximum memory used\n",
    "config.gpu_options.per_process_gpu_memory_fraction = 0.1\n",
    "\n",
    "# set session config\n",
    "tf.keras.backend.set_session(tf.Session(config=config))"
   ]
  },
  {
   "cell_type": "code",
   "execution_count": 9,
   "metadata": {},
   "outputs": [],
   "source": [
    "model = load_model(\"Models/21_01_19.h5\", compile=False)"
   ]
  },
  {
   "cell_type": "code",
   "execution_count": 10,
   "metadata": {},
   "outputs": [
    {
     "name": "stdout",
     "output_type": "stream",
     "text": [
      "_________________________________________________________________\n",
      "Layer (type)                 Output Shape              Param #   \n",
      "=================================================================\n",
      "conv2d_1 (Conv2D)            (None, 27, 15, 64)        640       \n",
      "_________________________________________________________________\n",
      "conv2d_2 (Conv2D)            (None, 27, 15, 64)        36928     \n",
      "_________________________________________________________________\n",
      "batch_normalization_1 (Batch (None, 27, 15, 64)        256       \n",
      "_________________________________________________________________\n",
      "max_pooling2d_1 (MaxPooling2 (None, 14, 8, 64)         0         \n",
      "_________________________________________________________________\n",
      "dropout_1 (Dropout)          (None, 14, 8, 64)         0         \n",
      "_________________________________________________________________\n",
      "conv2d_3 (Conv2D)            (None, 14, 8, 32)         18464     \n",
      "_________________________________________________________________\n",
      "conv2d_4 (Conv2D)            (None, 14, 8, 32)         9248      \n",
      "_________________________________________________________________\n",
      "batch_normalization_2 (Batch (None, 14, 8, 32)         128       \n",
      "_________________________________________________________________\n",
      "max_pooling2d_2 (MaxPooling2 (None, 7, 4, 32)          0         \n",
      "_________________________________________________________________\n",
      "dropout_2 (Dropout)          (None, 7, 4, 32)          0         \n",
      "_________________________________________________________________\n",
      "flatten_1 (Flatten)          (None, 896)               0         \n",
      "_________________________________________________________________\n",
      "dense_1 (Dense)              (None, 256)               229632    \n",
      "_________________________________________________________________\n",
      "dropout_3 (Dropout)          (None, 256)               0         \n",
      "_________________________________________________________________\n",
      "dense_2 (Dense)              (None, 128)               32896     \n",
      "_________________________________________________________________\n",
      "dropout_4 (Dropout)          (None, 128)               0         \n",
      "_________________________________________________________________\n",
      "dense_3 (Dense)              (None, 2)                 258       \n",
      "=================================================================\n",
      "Total params: 328,450\n",
      "Trainable params: 328,258\n",
      "Non-trainable params: 192\n",
      "_________________________________________________________________\n"
     ]
    }
   ],
   "source": [
    "model.summary()"
   ]
  },
  {
   "cell_type": "code",
   "execution_count": 11,
   "metadata": {},
   "outputs": [
    {
     "name": "stdout",
     "output_type": "stream",
     "text": [
      "\n",
      " Summary of the precision, recall, F1 score for each class:\n",
      "              precision    recall  f1-score   support\n",
      "\n",
      "           0       0.98      0.95      0.97     11923\n",
      "           1       0.97      0.99      0.98     22908\n",
      "\n",
      "   micro avg       0.98      0.98      0.98     34831\n",
      "   macro avg       0.98      0.97      0.97     34831\n",
      "weighted avg       0.98      0.98      0.98     34831\n",
      "\n",
      "\n",
      " Confusion matrix: \n",
      "[[11310   613]\n",
      " [  199 22709]]\n"
     ]
    }
   ],
   "source": [
    "y_test_pred = model.predict(x_test, batch_size=500)\n",
    "y_test_pred = np.argmax(y_test_pred, axis=1)\n",
    "#model.predict(x_test)\n",
    "\n",
    "print ('\\n Summary of the precision, recall, F1 score for each class:')\n",
    "print (sklearn.metrics.classification_report(y_test, y_test_pred))\n",
    "\n",
    "print ('\\n Confusion matrix: ')\n",
    "print (sklearn.metrics.confusion_matrix(y_test, y_test_pred))"
   ]
  },
  {
   "cell_type": "code",
   "execution_count": null,
   "metadata": {},
   "outputs": [],
   "source": []
  },
  {
   "cell_type": "code",
   "execution_count": null,
   "metadata": {},
   "outputs": [],
   "source": []
  },
  {
   "cell_type": "code",
   "execution_count": null,
   "metadata": {},
   "outputs": [],
   "source": [
    "#test\n",
    "delta = val_prediction - y_test_one_hot\n",
    "indices_test = []\n",
    "for i in range(len(val_prediction)):\n",
    "    if np.count_nonzero(delta[i]) > 0:\n",
    "        indices_test += [i]"
   ]
  },
  {
   "cell_type": "code",
   "execution_count": null,
   "metadata": {},
   "outputs": [],
   "source": [
    "#train\n",
    "delta = train_prediction - y_train_one_hot\n",
    "indices = []\n",
    "for i in range(len(train_prediction)):\n",
    "    if np.count_nonzero(delta[i]) > 0:\n",
    "        indices += [i]"
   ]
  },
  {
   "cell_type": "code",
   "execution_count": null,
   "metadata": {},
   "outputs": [],
   "source": []
  },
  {
   "cell_type": "code",
   "execution_count": null,
   "metadata": {
    "scrolled": true
   },
   "outputs": [],
   "source": [
    "\n"
   ]
  },
  {
   "cell_type": "code",
   "execution_count": null,
   "metadata": {},
   "outputs": [],
   "source": []
  },
  {
   "cell_type": "code",
   "execution_count": null,
   "metadata": {},
   "outputs": [],
   "source": []
  },
  {
   "cell_type": "code",
   "execution_count": null,
   "metadata": {},
   "outputs": [],
   "source": [
    "df_train.userID.unique()"
   ]
  },
  {
   "cell_type": "code",
   "execution_count": null,
   "metadata": {},
   "outputs": [],
   "source": []
  },
  {
   "cell_type": "code",
   "execution_count": null,
   "metadata": {
    "scrolled": true
   },
   "outputs": [],
   "source": []
  },
  {
   "cell_type": "code",
   "execution_count": null,
   "metadata": {},
   "outputs": [],
   "source": [
    "dfY = df_test[df_test.index.isin(indices_test)]"
   ]
  },
  {
   "cell_type": "code",
   "execution_count": null,
   "metadata": {},
   "outputs": [],
   "source": [
    "dfY.groupby(['TaskID']).count()"
   ]
  },
  {
   "cell_type": "code",
   "execution_count": null,
   "metadata": {},
   "outputs": [],
   "source": [
    "dfX = df_train[df_train.index.isin(indices)]"
   ]
  },
  {
   "cell_type": "code",
   "execution_count": null,
   "metadata": {},
   "outputs": [],
   "source": [
    "dfX.groupby(['TaskID']).count()"
   ]
  },
  {
   "cell_type": "code",
   "execution_count": null,
   "metadata": {},
   "outputs": [],
   "source": [
    "dfZ = pd.concat([dfX, dfY])"
   ]
  },
  {
   "cell_type": "code",
   "execution_count": null,
   "metadata": {},
   "outputs": [],
   "source": [
    "dfZ.groupby(['TaskID']).count()"
   ]
  },
  {
   "cell_type": "code",
   "execution_count": null,
   "metadata": {},
   "outputs": [],
   "source": []
  },
  {
   "cell_type": "code",
   "execution_count": null,
   "metadata": {},
   "outputs": [],
   "source": [
    "len(indices_test)"
   ]
  },
  {
   "cell_type": "code",
   "execution_count": null,
   "metadata": {},
   "outputs": [],
   "source": [
    "def plotimages(p):\n",
    "    #fig = plt.figure()\n",
    "    plt.clf()\n",
    "    plt.figure(figsize=(12, 12))\n",
    "    ax = plt.gca()\n",
    "    data = dfAll.Blobs.iloc[p]\n",
    "    plt.subplot(221)\n",
    "    print(p)\n",
    "    plt.imshow(data, cmap='gray', vmin=0, vmax=255)\n",
    "    \n",
    "    OGindex = dfAll.index[p]\n",
    "    data = dfOG.loc[OGindex].Image.reshape(27,15)\n",
    "    plt.subplot(222)\n",
    "    plt.imshow(data, cmap='gray', vmin=0, vmax=255)\n",
    "    plt.show()"
   ]
  },
  {
   "cell_type": "code",
   "execution_count": null,
   "metadata": {
    "scrolled": true
   },
   "outputs": [],
   "source": [
    "#Display wrongly labeled Blobs and original image\n",
    "#for point in indices:\n",
    "point = indices[1]\n",
    "plotimages(point)\n",
    "\n",
    "\n"
   ]
  },
  {
   "cell_type": "code",
   "execution_count": null,
   "metadata": {},
   "outputs": [],
   "source": []
  },
  {
   "cell_type": "code",
   "execution_count": null,
   "metadata": {},
   "outputs": [],
   "source": []
  },
  {
   "cell_type": "code",
   "execution_count": null,
   "metadata": {},
   "outputs": [],
   "source": []
  },
  {
   "cell_type": "code",
   "execution_count": null,
   "metadata": {},
   "outputs": [],
   "source": []
  },
  {
   "cell_type": "code",
   "execution_count": null,
   "metadata": {},
   "outputs": [],
   "source": [
    "##### CREATE NEW IMAGES\n",
    "imagelist = []\n",
    "for data_point in indices:\n",
    "    #print(data_point)\n",
    "    #plt.subplot(figsize=(6,6))\n",
    "    fig = plt.figure(figsize=(6, 6))\n",
    "    ax = fig.gca()\n",
    "    data = df_test.Blobs.iloc[data_point]\n",
    "    user = df_test.userID.iloc[data_point]\n",
    "    task = df_test.TaskID.iloc[data_point]\n",
    "    label = \"Knuckle\" if val_prediction[data_point][0] == 1 else \"Finger\"  \n",
    "    ax.set_title(\"Input: \" + str(df_test.InputMethod.iloc[data_point])  + \" -Val: \" + label + \" -Task: \" + str(df_test.TaskID.iloc[data_point]) + \" -user: \" +  str(df_test.userID.iloc[data_point]))\n",
    "    ax.imshow(data[0:11, 0:9], cmap=\"gray\", vmin=0, vmax=255)\n",
    "    #fig.imsave(\"PredictionImages/{}.png\".format(data_point))\n",
    "    #plt.imsave(\"PredictionImages/\" + str(data_point)+\".pdf\", data, cmap='gray', vmin=0, vmax=255)\n",
    "    fig.savefig(\"PredictionImages/user%i_task%i_data%i.png\" %(user, task, data_point) , bbox_inches = 'tight')\n",
    "    fig.clf()"
   ]
  },
  {
   "cell_type": "code",
   "execution_count": null,
   "metadata": {},
   "outputs": [],
   "source": [
    "imagelist = []\n",
    "for data_point in indices:\n",
    "    #print(data_point)\n",
    "    #plt.subplot(figsize=(6,6))\n",
    "    fig = plt.figure(figsize=(6, 6))\n",
    "    ax = fig.gca()\n",
    "    data = df_train.Blobs.iloc[data_point]\n",
    "    user = df_train.userID.iloc[data_point]\n",
    "    task = df_train.TaskID.iloc[data_point]\n",
    "    label = \"Knuckle\" if train_prediction[data_point][0] == 1 else \"Finger\"  \n",
    "    ax.set_title(\"Input: \" + str(df_train.InputMethod.iloc[data_point])  + \" -Val: \" + label + \" -Task: \" + str(df_train.TaskID.iloc[data_point]) + \" -user: \" +  str(df_train.userID.iloc[data_point]))\n",
    "    ax.imshow(data[0:11, 0:9], cmap=\"gray\", vmin=0, vmax=255)\n",
    "    #fig.imsave(\"PredictionImages/{}.png\".format(data_point))\n",
    "    #plt.imsave(\"PredictionImages/\" + str(data_point)+\".pdf\", data, cmap='gray', vmin=0, vmax=255)\n",
    "    fig.savefig(\"PredictionImages/user%i_task%i_data%i.png\" %(user, task, data_point) , bbox_inches = 'tight')\n",
    "    fig.clf()\n"
   ]
  },
  {
   "cell_type": "code",
   "execution_count": null,
   "metadata": {},
   "outputs": [],
   "source": [
    "imglist = []\n",
    "filepath = \"PredictionImages\"\n",
    "for file in os.listdir(filepath):\n",
    "    if not file.endswith('.png'):\n",
    "        continue   \n",
    "    imglist.append(file)\n"
   ]
  },
  {
   "cell_type": "code",
   "execution_count": null,
   "metadata": {},
   "outputs": [],
   "source": [
    "from fpdf import FPDF\n",
    "for user in sorted(df_train.userID.unique()):\n",
    "    pdf = FPDF()\n",
    "    print(\"User: \" + str(user))\n",
    "    for task in sorted(df_test.TaskID.unique()):\n",
    "        print(\"Task\" + str(task))\n",
    "        os.chdir(\"PredictionImages\")\n",
    "        x = 0\n",
    "        y = 0\n",
    "        \n",
    "        pdf.add_page()\n",
    "        for image in [i for i in imglist if \"user\"+str(user)+\"_\" in i and \"task\"+str(task)+\"_\" in i]:\n",
    "\n",
    "            pdf.image(image,x,y,50,74)\n",
    "            x = (x+50) %200\n",
    "            if x == 0:\n",
    "                y = (y+74) % 296\n",
    "            if x == 0 and y == 0:\n",
    "                pdf.add_page()\n",
    "        os.chdir(\"..\")\n",
    "    pdf.output(\"PredictionPDFs/user%d.pdf\" %(user), \"F\")"
   ]
  },
  {
   "cell_type": "code",
   "execution_count": null,
   "metadata": {},
   "outputs": [],
   "source": [
    "from fpdf import FPDF\n",
    "for user in sorted(df_test.userID.unique()):\n",
    "    pdf = FPDF()\n",
    "    print(\"User: \" + str(user))\n",
    "    for task in sorted(df_test.TaskID.unique()):\n",
    "        print(\"Task\" + str(task))\n",
    "        os.chdir(\"PredictionImages\")\n",
    "        x = 0\n",
    "        y = 0\n",
    "        \n",
    "        pdf.add_page()\n",
    "        for image in [i for i in imglist if \"user\"+str(user)+\"_\" in i and \"task\"+str(task)+\"_\" in i]:\n",
    "\n",
    "            pdf.image(image,x,y,50,74)\n",
    "            x = (x+50) %200\n",
    "            if x == 0:\n",
    "                y = (y+74) % 296\n",
    "            if x == 0 and y == 0:\n",
    "                pdf.add_page()\n",
    "        os.chdir(\"..\")\n",
    "    pdf.output(\"PredictionPDFs/user%d.pdf\" %(user), \"F\")"
   ]
  },
  {
   "cell_type": "code",
   "execution_count": null,
   "metadata": {},
   "outputs": [],
   "source": []
  },
  {
   "cell_type": "code",
   "execution_count": null,
   "metadata": {},
   "outputs": [],
   "source": [
    "for user in sorted(df_train.userID.unique()):\n",
    "    print(\"User: \" + str(user))\n",
    "    for task in sorted(df_test.TaskID.unique()):\n",
    "        print(\"Task\" + str(task))\n",
    "        os.chdir(\"PredictionImages\")\n",
    "        x = 0\n",
    "        y = 0\n",
    "        \n",
    "        pdf.add_page()\n",
    "        for image in [i for i in imglist if \"user\"+str(user)+\"_\" in i and \"task\"+str(task)+\"_\" in i]:\n",
    "\n",
    "            pdf.image(image,x,y,50,74)\n",
    "            x = (x+50) %200\n",
    "            if x == 0:\n",
    "                y = (y+74) % 296\n",
    "            if x == 0 and y == 0:\n",
    "                pdf.add_page()\n",
    "        os.chdir(\"..\")\n",
    "    pdf.output(\"PredictionPDFs/user%d.pdf\" %(user), \"F\")"
   ]
  },
  {
   "cell_type": "code",
   "execution_count": null,
   "metadata": {},
   "outputs": [],
   "source": []
  }
 ],
 "metadata": {
  "kernelspec": {
   "display_name": "Python 3",
   "language": "python",
   "name": "python3"
  },
  "language_info": {
   "codemirror_mode": {
    "name": "ipython",
    "version": 3
   },
   "file_extension": ".py",
   "mimetype": "text/x-python",
   "name": "python",
   "nbconvert_exporter": "python",
   "pygments_lexer": "ipython3",
   "version": "3.6.7"
  }
 },
 "nbformat": 4,
 "nbformat_minor": 2
}
