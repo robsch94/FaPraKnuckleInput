{
 "cells": [
  {
   "cell_type": "code",
   "execution_count": 2,
   "metadata": {},
   "outputs": [
    {
     "name": "stderr",
     "output_type": "stream",
     "text": [
      "Using TensorFlow backend.\n"
     ]
    }
   ],
   "source": [
    "import os\n",
    "os.environ[\"CUDA_VISIBLE_DEVICES\"]=\"0\"\n",
    "\n",
    "from keras.models import Sequential, load_model\n",
    "from keras.layers import *\n",
    "from keras import optimizers\n",
    "from keras import utils\n",
    "from keras.callbacks import TensorBoard, ModelCheckpoint, ReduceLROnPlateau\n",
    "import keras\n",
    "\n",
    "import numpy as np\n",
    "import matplotlib.pyplot as plt\n",
    "import pandas as pd\n",
    "import math\n",
    "\n",
    "import tensorflow as tf\n",
    "\n",
    "# Importing matplotlib to plot images.\n",
    "import matplotlib.pyplot as plt\n",
    "import numpy as np\n",
    "%matplotlib inline\n",
    "\n",
    "# Importing SK-learn to calculate precision and recall\n",
    "import sklearn\n",
    "from sklearn import metrics\n",
    "from sklearn.model_selection import train_test_split, cross_val_score, LeaveOneGroupOut\n",
    "from sklearn.utils import shuffle \n",
    "\n",
    "# Used for graph export\n",
    "from tensorflow.python.framework import graph_util\n",
    "from tensorflow.python.framework import graph_io\n",
    "from keras import backend as K\n",
    "\n",
    "import pickle as pkl\n",
    "import h5py\n",
    "\n",
    "from pathlib import Path\n",
    "import os.path\n",
    "import sys\n",
    "import datetime\n",
    "import time\n",
    "\n"
   ]
  },
  {
   "cell_type": "code",
   "execution_count": 3,
   "metadata": {},
   "outputs": [],
   "source": [
    "import telegram\n",
    "from keras.callbacks import Callback\n",
    "from callbacks import TelegramCallback\n",
    "from callbacks.TelegramData import TelegramData\n",
    "\n",
    "\n",
    "# create callback\n",
    "config = {\n",
    "    'token': TelegramData.Token,   # paste your bot token\n",
    "    'telegram_id': TelegramData.ID,   \n",
    "    'model_name': \"JAN_CNN05_2\" # paste your telegram_id\n",
    "}\n",
    "\n",
    "tg_callback = TelegramCallback(config)"
   ]
  },
  {
   "cell_type": "code",
   "execution_count": 4,
   "metadata": {},
   "outputs": [],
   "source": [
    "class LoggingTensorBoard(TensorBoard):    \n",
    "\n",
    "    def __init__(self, log_dir, settings_str_to_log, **kwargs):\n",
    "        super(LoggingTensorBoard, self).__init__(log_dir, **kwargs)\n",
    "\n",
    "        self.settings_str = settings_str_to_log\n",
    "\n",
    "    def on_train_begin(self, logs=None):\n",
    "        TensorBoard.on_train_begin(self, logs=logs)\n",
    "\n",
    "        tensor =  tf.convert_to_tensor(self.settings_str)\n",
    "        summary = tf.summary.text (\"Run_Settings\", tensor)\n",
    "\n",
    "        with  tf.Session() as sess:\n",
    "            s = sess.run(summary)\n",
    "            self.writer.add_summary(s)"
   ]
  },
  {
   "cell_type": "code",
   "execution_count": 12,
   "metadata": {},
   "outputs": [
    {
     "name": "stdout",
     "output_type": "stream",
     "text": [
      "[13  8 11 15  7] [ 1  2  9  6  4 14 17 16 12  3 10 18  5]\n"
     ]
    }
   ],
   "source": [
    "# the data, split between train and test sets\n",
    "dfAll = pd.read_pickle(\"PklData/df_blobs.pkl\")\n",
    "\n",
    "lst = dfAll.userID.unique()\n",
    "np.random.seed(42)\n",
    "np.random.shuffle(lst)\n",
    "train_ids = lst[-5:]\n",
    "test_ids = lst[:-5]\n",
    "print(train_ids, test_ids)\n",
    "\n",
    "#df_train = dfAll[(dfAll.userID != 1) | (dfAll.userID != 2)]\n",
    "#df_test = dfAll[(dfAll.userID == 1) | (dfAll.userID == 2)]\n",
    "df_train = dfAll[dfAll.userID.isin(train_ids)]\n",
    "df_test = dfAll[dfAll.userID.isin(test_ids) & (dfAll.Version == \"Normal\")]\n",
    "\n",
    "#df_test = df_test.reset_index()\n",
    "#df_train = df_train.reset_index()\n",
    "\n",
    "df_train2 = df_train[['Blobs', 'InputMethod']].copy()\n",
    "df_test2 = df_test[['Blobs', 'InputMethod']].copy()"
   ]
  },
  {
   "cell_type": "code",
   "execution_count": 13,
   "metadata": {},
   "outputs": [],
   "source": [
    "x_train = np.vstack(df_train2.Blobs)\n",
    "x_test = np.vstack(df_test2.Blobs)\n",
    "y_train = df_train2.InputMethod.values\n",
    "y_test = df_test2.InputMethod.values\n",
    "\n",
    "x_train = x_train.reshape(-1, 27, 15, 1)\n",
    "x_test = x_test.reshape(-1, 27, 15, 1)"
   ]
  },
  {
   "cell_type": "code",
   "execution_count": 14,
   "metadata": {},
   "outputs": [],
   "source": [
    "# convert class vectors to binary class matrices (one-hot notation)\n",
    "num_classes = 2\n",
    "y_train_one_hot = utils.to_categorical(df_train2.InputMethod, num_classes)\n",
    "y_test_one_hot = utils.to_categorical(df_test2.InputMethod, num_classes)"
   ]
  },
  {
   "cell_type": "code",
   "execution_count": 15,
   "metadata": {},
   "outputs": [
    {
     "data": {
      "text/plain": [
       "Text(0.5, 1.0, 'Label for image 1 is: 0')"
      ]
     },
     "execution_count": 15,
     "metadata": {},
     "output_type": "execute_result"
    },
    {
     "data": {
      "image/png": "[encoded data removed]",
      "text/plain": [
       "<Figure size 432x288 with 1 Axes>"
      ]
     },
     "metadata": {
      "needs_background": "light"
     },
     "output_type": "display_data"
    }
   ],
   "source": [
    "i = 1\n",
    "plt.imshow(x_train[i].reshape(27, 15)) #np.sqrt(784) = 28\n",
    "plt.title(\"Label for image %i is: %s\" % (i, y_train[i]))"
   ]
  },
  {
   "cell_type": "code",
   "execution_count": 16,
   "metadata": {},
   "outputs": [],
   "source": [
    "# If GPU is not available: \n",
    "# GPU_USE = '/cpu:0'\n",
    "#config = tf.ConfigProto(device_count = {\"GPU\": 1})\n",
    "\n",
    "\n",
    "# If GPU is available: \n",
    "config = tf.ConfigProto()\n",
    "config.log_device_placement = True\n",
    "config.allow_soft_placement = True\n",
    "config.gpu_options.allocator_type = 'BFC'\n",
    "\n",
    "# Limit the maximum memory used\n",
    "config.gpu_options.per_process_gpu_memory_fraction = 0.2\n",
    "\n",
    "# set session config\n",
    "tf.keras.backend.set_session(tf.Session(config=config))"
   ]
  },
  {
   "cell_type": "code",
   "execution_count": 17,
   "metadata": {},
   "outputs": [],
   "source": [
    "from keras import regularizers"
   ]
  },
  {
   "cell_type": "code",
   "execution_count": null,
   "metadata": {
    "scrolled": true
   },
   "outputs": [
    {
     "name": "stdout",
     "output_type": "stream",
     "text": [
      "_________________________________________________________________\n",
      "Layer (type)                 Output Shape              Param #   \n",
      "=================================================================\n",
      "conv2d_5 (Conv2D)            (None, 27, 15, 128)       1280      \n",
      "_________________________________________________________________\n",
      "batch_normalization_5 (Batch (None, 27, 15, 128)       512       \n",
      "_________________________________________________________________\n",
      "conv2d_6 (Conv2D)            (None, 27, 15, 64)        73792     \n",
      "_________________________________________________________________\n",
      "batch_normalization_6 (Batch (None, 27, 15, 64)        256       \n",
      "_________________________________________________________________\n",
      "max_pooling2d_3 (MaxPooling2 (None, 14, 8, 64)         0         \n",
      "_________________________________________________________________\n",
      "dropout_5 (Dropout)          (None, 14, 8, 64)         0         \n",
      "_________________________________________________________________\n",
      "conv2d_7 (Conv2D)            (None, 14, 8, 64)         36928     \n",
      "_________________________________________________________________\n",
      "batch_normalization_7 (Batch (None, 14, 8, 64)         256       \n",
      "_________________________________________________________________\n",
      "conv2d_8 (Conv2D)            (None, 14, 8, 32)         18464     \n",
      "_________________________________________________________________\n",
      "batch_normalization_8 (Batch (None, 14, 8, 32)         128       \n",
      "_________________________________________________________________\n",
      "max_pooling2d_4 (MaxPooling2 (None, 7, 4, 32)          0         \n",
      "_________________________________________________________________\n",
      "dropout_6 (Dropout)          (None, 7, 4, 32)          0         \n",
      "_________________________________________________________________\n",
      "flatten_2 (Flatten)          (None, 896)               0         \n",
      "_________________________________________________________________\n",
      "dense_4 (Dense)              (None, 80)                71760     \n",
      "_________________________________________________________________\n",
      "dropout_7 (Dropout)          (None, 80)                0         \n",
      "_________________________________________________________________\n",
      "dense_5 (Dense)              (None, 40)                3240      \n",
      "_________________________________________________________________\n",
      "dropout_8 (Dropout)          (None, 40)                0         \n",
      "_________________________________________________________________\n",
      "dense_6 (Dense)              (None, 2)                 82        \n",
      "=================================================================\n",
      "Total params: 206,698\n",
      "Trainable params: 206,122\n",
      "Non-trainable params: 576\n",
      "_________________________________________________________________\n",
      "KnuckleFinger_Jan_v2_20190225_143820\n",
      "Train on 93484 samples, validate on 73737 samples\n",
      "Epoch 1/15000\n",
      "93484/93484 [==============================] - 28s 297us/step - loss: 5.1566 - acc: 0.8570 - val_loss: 0.7253 - val_acc: 0.9040\n",
      "Epoch 2/15000\n",
      "93484/93484 [==============================] - 26s 273us/step - loss: 0.6569 - acc: 0.9111 - val_loss: 0.6261 - val_acc: 0.9093\n",
      "Epoch 3/15000\n",
      "93484/93484 [==============================] - 26s 280us/step - loss: 0.6038 - acc: 0.9158 - val_loss: 1.4224 - val_acc: 0.7394\n",
      "Epoch 4/15000\n",
      "93484/93484 [==============================] - 25s 272us/step - loss: 0.5779 - acc: 0.9198 - val_loss: 1.2258 - val_acc: 0.7624\n",
      "Epoch 5/15000\n",
      "93484/93484 [==============================] - 25s 272us/step - loss: 0.5624 - acc: 0.9225 - val_loss: 0.6813 - val_acc: 0.8924\n",
      "Epoch 6/15000\n",
      "93484/93484 [==============================] - 26s 273us/step - loss: 0.5507 - acc: 0.9228 - val_loss: 0.7477 - val_acc: 0.8792\n",
      "Epoch 7/15000\n",
      "93484/93484 [==============================] - 26s 277us/step - loss: 0.5436 - acc: 0.9247 - val_loss: 0.6795 - val_acc: 0.8240\n",
      "Epoch 8/15000\n",
      "93484/93484 [==============================] - 26s 275us/step - loss: 0.5343 - acc: 0.9266 - val_loss: 0.5887 - val_acc: 0.8963\n",
      "Epoch 9/15000\n",
      "93484/93484 [==============================] - 26s 278us/step - loss: 0.5237 - acc: 0.9263 - val_loss: 0.5003 - val_acc: 0.9225\n",
      "Epoch 10/15000\n",
      "93484/93484 [==============================] - 26s 280us/step - loss: 0.5184 - acc: 0.9262 - val_loss: 0.5257 - val_acc: 0.9203\n",
      "Epoch 11/15000\n",
      "93484/93484 [==============================] - 26s 279us/step - loss: 0.5127 - acc: 0.9281 - val_loss: 0.7333 - val_acc: 0.8831\n",
      "Epoch 12/15000\n",
      "93484/93484 [==============================] - 26s 278us/step - loss: 0.5094 - acc: 0.9275 - val_loss: 0.5159 - val_acc: 0.9158\n",
      "Epoch 13/15000\n",
      "93484/93484 [==============================] - 26s 279us/step - loss: 0.5015 - acc: 0.9291 - val_loss: 0.8144 - val_acc: 0.8877\n",
      "Epoch 14/15000\n",
      "93484/93484 [==============================] - 27s 284us/step - loss: 0.5051 - acc: 0.9290 - val_loss: 0.8278 - val_acc: 0.8734\n",
      "Epoch 15/15000\n",
      "93484/93484 [==============================] - 26s 282us/step - loss: 0.4996 - acc: 0.9307 - val_loss: 0.5042 - val_acc: 0.9209\n",
      "Epoch 16/15000\n",
      "93484/93484 [==============================] - 28s 299us/step - loss: 0.5057 - acc: 0.9301 - val_loss: 0.9497 - val_acc: 0.8440\n",
      "Epoch 17/15000\n",
      "93484/93484 [==============================] - 27s 291us/step - loss: 0.4943 - acc: 0.9297 - val_loss: 0.8157 - val_acc: 0.8591\n",
      "Epoch 18/15000\n",
      "93484/93484 [==============================] - 28s 298us/step - loss: 0.4948 - acc: 0.9295 - val_loss: 0.5347 - val_acc: 0.9218\n",
      "Epoch 19/15000\n",
      "93484/93484 [==============================] - 27s 286us/step - loss: 0.4888 - acc: 0.9305 - val_loss: 0.5004 - val_acc: 0.9195\n",
      "Epoch 20/15000\n",
      "93484/93484 [==============================] - 27s 290us/step - loss: 0.4888 - acc: 0.9315 - val_loss: 0.5527 - val_acc: 0.9067\n",
      "Epoch 21/15000\n",
      "93484/93484 [==============================] - 27s 292us/step - loss: 0.4889 - acc: 0.9309 - val_loss: 0.5174 - val_acc: 0.9177\n",
      "Epoch 22/15000\n",
      "93484/93484 [==============================] - 27s 289us/step - loss: 0.4831 - acc: 0.9296 - val_loss: 0.5166 - val_acc: 0.9234\n",
      "Epoch 23/15000\n",
      "93484/93484 [==============================] - 27s 288us/step - loss: 0.4823 - acc: 0.9316 - val_loss: 0.5089 - val_acc: 0.9217\n",
      "Epoch 24/15000\n",
      "93484/93484 [==============================] - 28s 299us/step - loss: 0.4865 - acc: 0.9284 - val_loss: 0.5280 - val_acc: 0.9151\n",
      "Epoch 25/15000\n",
      "93300/93484 [============================>.] - ETA: 0s - loss: 0.4851 - acc: 0.9302"
     ]
    }
   ],
   "source": [
    "\n",
    "tf.get_default_graph()\n",
    "########## HYPER PARAMETERS\n",
    "\n",
    "batch_size = 100\n",
    "epochs = 15000\n",
    "optimizer = optimizers.Adam(lr=0.001)\n",
    "\n",
    "l1v = 0.007\n",
    "l2v = 0.014\n",
    "#optimizer = optimizers.RMSprop(lr=0.001, rho=0.9, epsilon=1e-08, decay=0.1)\n",
    "#init=tf.global_variables_initializer()\n",
    "\n",
    "########## HYPER PARAMETERS\n",
    "########## MODEL ARCHITECTURE\n",
    "model = Sequential()\n",
    "model.add(Conv2D(128, kernel_size=(3, 3), activation='relu', padding='same', input_shape=(27,15,1), \n",
    "                 kernel_regularizer=regularizers.l1_l2(l1v,l2v)))\n",
    "model.add(BatchNormalization(axis=-1))\n",
    "model.add(Conv2D(64, kernel_size=(3, 3), activation='relu', padding='same', \n",
    "                 kernel_regularizer=regularizers.l1_l2(l1v,l2v)))\n",
    "model.add(BatchNormalization(axis=-1))\n",
    "model.add(MaxPooling2D(pool_size=(2,2), strides=None, padding='same', data_format='channels_last'))\n",
    "model.add(Dropout(0.40))\n",
    "\n",
    "model.add(Conv2D(64, kernel_size=(3, 3), activation='relu', padding='same', kernel_regularizer=regularizers.l1_l2(l1v,l2v)))\n",
    "model.add(BatchNormalization(axis=-1))\n",
    "model.add(Conv2D(32, kernel_size=(3, 3), activation='relu', padding='same', kernel_regularizer=regularizers.l1_l2(l1v,l2v)))\n",
    "model.add(BatchNormalization(axis=-1))\n",
    "model.add(MaxPooling2D(pool_size=(2,2), strides=None, padding='same', data_format='channels_last'))\n",
    "model.add(Dropout(0.40))\n",
    "\n",
    "model.add(Flatten())\n",
    "model.add(Dense(80, activation='relu', kernel_regularizer=regularizers.l1_l2(l1v,l2v), use_bias=True))\n",
    "model.add(Dropout(0.55))\n",
    "model.add(Dense(40, activation='relu', kernel_regularizer=regularizers.l1_l2(l1v,l2v), use_bias=True))\n",
    "model.add(Dropout(0.55))\n",
    "model.add(Dense(num_classes, activation='softmax'))\n",
    "########## MODEL ARCHITECTURE\n",
    "####TENSORBOARD\n",
    "config = \"\"\n",
    "for layer in model.layers:\n",
    "    config += str(layer.output).split('\\\"')[1].split(\"/\")[0] + str(layer.output_shape) + \"\\n\\n\"\n",
    "#### END TENSORBOARD\n",
    "config += \"batchsize: \" + str(batch_size) + \"\\n\\n\" + \"epochs: \" + str(epochs) + \"\\n\\n\"\n",
    "\n",
    "# Print summary\n",
    "current_name = \"KnuckleFinger_Jan_v2_\"\n",
    "model.summary()\n",
    "readable_timestamp = datetime.datetime.fromtimestamp(time.time()).strftime('%Y%m%d_%H%M%S')\n",
    "tensorflowfolder = \"/srv/share/tensorboardfiles/\" + current_name + readable_timestamp\n",
    "\n",
    "\n",
    "print(current_name + readable_timestamp)\n",
    "logger = LoggingTensorBoard(settings_str_to_log = config, log_dir=tensorflowfolder, histogram_freq=0,\n",
    "                            write_graph=True, write_images=True, update_freq = 'epoch')\n",
    "storer = ModelCheckpoint(\"./ModelSnapshots/\"+ current_name + readable_timestamp + \".h5\", monitor='val_loss', verbose=0,\n",
    "                         save_best_only=True, save_weights_only=False, mode='auto', period=1)\n",
    "learning_rate_reduction = ReduceLROnPlateau(monitor='val_loss', \n",
    "                                            patience=100, \n",
    "                                            verbose=1, \n",
    "                                            factor=0.95, \n",
    "                                            min_lr=0.00001)\n",
    "# compile model for training\n",
    "model.compile(loss='categorical_crossentropy',\n",
    "              optimizer=optimizer,\n",
    "              metrics=['accuracy'])\n",
    "\n",
    "history = model.fit(x_train, y_train_one_hot,\n",
    "                    batch_size=batch_size,\n",
    "                    epochs=epochs,\n",
    "                    verbose=1,\n",
    "                    validation_data=(x_test, y_test_one_hot),\n",
    "                    callbacks=[logger, storer, learning_rate_reduction, tg_callback])\n"
   ]
  },
  {
   "cell_type": "code",
   "execution_count": null,
   "metadata": {},
   "outputs": [],
   "source": [
    "# use model for inference to get test accuracy\n",
    "y_test_pred = model.predict(x_test)\n",
    "y_test_pred = np.argmax(y_test_pred, axis=1)\n",
    "\n",
    "print ('\\n Summary of the precision, recall, F1 score for each class:')\n",
    "print (sklearn.metrics.classification_report(y_test, y_test_pred))\n",
    "\n",
    "print ('\\n Confusion matrix: ')\n",
    "print (sklearn.metrics.confusion_matrix(y_test, y_test_pred))"
   ]
  },
  {
   "cell_type": "code",
   "execution_count": null,
   "metadata": {},
   "outputs": [],
   "source": [
    "import matplotlib.pyplot as plt\n",
    "plt.plot(history.history['val_acc'], label=\"Test Accuracy\")\n",
    "plt.plot(history.history['acc'], label=\"Training Accuracy\")\n",
    "plt.legend()\n",
    "plt.ylim(0.5,1)\n",
    "plt.savefig(\"pres.jpg\")"
   ]
  },
  {
   "cell_type": "code",
   "execution_count": null,
   "metadata": {},
   "outputs": [],
   "source": [
    "print(\"end\")"
   ]
  },
  {
   "cell_type": "code",
   "execution_count": null,
   "metadata": {},
   "outputs": [],
   "source": [
    "# save model\n",
    "model.save(\"CNN_25_02_19.h5\")"
   ]
  },
  {
   "cell_type": "code",
   "execution_count": null,
   "metadata": {},
   "outputs": [],
   "source": [
    "model.predict(x_train, batch_size=500, verbose=0)"
   ]
  },
  {
   "cell_type": "code",
   "execution_count": null,
   "metadata": {},
   "outputs": [],
   "source": [
    "y_train_one_hot"
   ]
  },
  {
   "cell_type": "code",
   "execution_count": null,
   "metadata": {},
   "outputs": [],
   "source": [
    "train_prediction=np.round(model.predict(x_train))\n",
    "train_prediction=train_prediction.astype(int)"
   ]
  },
  {
   "cell_type": "code",
   "execution_count": null,
   "metadata": {},
   "outputs": [],
   "source": [
    "val_prediction=np.round(model.predict(x_test))\n",
    "val_prediction=val_prediction.astype(int)"
   ]
  },
  {
   "cell_type": "code",
   "execution_count": null,
   "metadata": {},
   "outputs": [],
   "source": [
    "delta = val_prediction - y_test_one_hot\n",
    "indices = []\n",
    "for i in range(len(val_prediction)):\n",
    "    if np.count_nonzero(delta[i]) > 0:\n",
    "        indices += [i]"
   ]
  },
  {
   "cell_type": "code",
   "execution_count": null,
   "metadata": {},
   "outputs": [],
   "source": [
    "len(indices)"
   ]
  },
  {
   "cell_type": "code",
   "execution_count": null,
   "metadata": {},
   "outputs": [],
   "source": [
    "imagelist = []\n",
    "for data_point in indices:\n",
    "    print(data_point)\n",
    "    plt.close()\n",
    "    plt.clf()\n",
    "    plt.cla()\n",
    "    #plt.subplot(figsize=(6,6))\n",
    "    plt.figure(figsize=(6, 6))\n",
    "    ax = plt.gca()\n",
    "    \n",
    "    \n",
    "    \n",
    "    data_point = indices[0]\n",
    "    data = df_train.Blobs.iloc[data_point]\n",
    "    label = \"Knuckle\" if train_prediction[data_point][0] == 1 else \"Finger\"  \n",
    "    ax.set_title(\"Input method: \" + str(df_train.InputMethod.iloc[data_point]) + \"\\n\" + \"Label as: \"  + label)\n",
    "    #plt.imsave(\"PredictionImages/\" + str(data_point)+\".pdf\", data, cmap='gray', vmin=0, vmax=255)\n",
    "    plt.imsave(\"PredictionImages/{}.png\".format(data_point), data, cmap=\"gray\", vmin=0, vmax=255)\n",
    "    #plt.close()\n"
   ]
  },
  {
   "cell_type": "code",
   "execution_count": null,
   "metadata": {},
   "outputs": [],
   "source": []
  },
  {
   "cell_type": "code",
   "execution_count": null,
   "metadata": {},
   "outputs": [],
   "source": [
    "from fpdf import FPDF"
   ]
  },
  {
   "cell_type": "code",
   "execution_count": null,
   "metadata": {},
   "outputs": [],
   "source": [
    "incorrects"
   ]
  },
  {
   "cell_type": "code",
   "execution_count": null,
   "metadata": {},
   "outputs": [],
   "source": []
  }
 ],
 "metadata": {
  "kernelspec": {
   "display_name": "Python 3",
   "language": "python",
   "name": "python3"
  },
  "language_info": {
   "codemirror_mode": {
    "name": "ipython",
    "version": 3
   },
   "file_extension": ".py",
   "mimetype": "text/x-python",
   "name": "python",
   "nbconvert_exporter": "python",
   "pygments_lexer": "ipython3",
   "version": "3.6.7"
  }
 },
 "nbformat": 4,
 "nbformat_minor": 2
}
