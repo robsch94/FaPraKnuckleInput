{
 "cells": [
  {
   "cell_type": "code",
   "execution_count": 1,
   "metadata": {},
   "outputs": [
    {
     "name": "stderr",
     "output_type": "stream",
     "text": [
      "Using TensorFlow backend.\n"
     ]
    }
   ],
   "source": [
    "from keras.models import Sequential, load_model\n",
    "from keras.layers import *\n",
    "from keras import optimizers\n",
    "from keras import utils\n",
    "from keras.callbacks import TensorBoard, ModelCheckpoint, ReduceLROnPlateau\n",
    "\n",
    "import numpy as np\n",
    "import matplotlib.pyplot as plt\n",
    "import pandas as pd\n",
    "import math\n",
    "\n",
    "import tensorflow as tf\n",
    "\n",
    "# Importing matplotlib to plot images.\n",
    "import matplotlib.pyplot as plt\n",
    "import numpy as np\n",
    "%matplotlib inline\n",
    "\n",
    "# Importing SK-learn to calculate precision and recall\n",
    "import sklearn\n",
    "from sklearn import metrics\n",
    "from sklearn.model_selection import train_test_split, cross_val_score, LeaveOneGroupOut\n",
    "from sklearn.utils import shuffle \n",
    "\n",
    "# Used for graph export\n",
    "from tensorflow.python.framework import graph_util\n",
    "from tensorflow.python.framework import graph_io\n",
    "from keras import backend as K\n",
    "\n",
    "import pickle as pkl\n",
    "import h5py\n",
    "\n",
    "from pathlib import Path\n",
    "import os.path\n",
    "import sys\n",
    "import datetime\n",
    "import time\n",
    "\n"
   ]
  },
  {
   "cell_type": "code",
   "execution_count": 2,
   "metadata": {},
   "outputs": [],
   "source": [
    "import telegram\n",
    "from keras.callbacks import Callback\n",
    "from callbacks import TelegramCallback\n",
    "#from callbacks.TelegramData import TelegramData\n",
    "\n",
    "\n",
    "# create callback\n",
    "config = {\n",
    "    'token': \"758990540:AAFrdfPpNGctKEvoMvMm3vFpj_VwY_BeOA4\",   # paste your bot token\n",
    "    'telegram_id': 158106307,                                   # paste your telegram_id\n",
    "}\n",
    "\n",
    "tg_callback = TelegramCallback(config)"
   ]
  },
  {
   "cell_type": "code",
   "execution_count": 3,
   "metadata": {},
   "outputs": [],
   "source": [
    "class LoggingTensorBoard(TensorBoard):    \n",
    "\n",
    "    def __init__(self, log_dir, settings_str_to_log, **kwargs):\n",
    "        super(LoggingTensorBoard, self).__init__(log_dir, **kwargs)\n",
    "\n",
    "        self.settings_str = settings_str_to_log\n",
    "\n",
    "    def on_train_begin(self, logs=None):\n",
    "        TensorBoard.on_train_begin(self, logs=logs)\n",
    "\n",
    "        tensor =  tf.convert_to_tensor(self.settings_str)\n",
    "        summary = tf.summary.text (\"Run_Settings\", tensor)\n",
    "\n",
    "        with  tf.Session() as sess:\n",
    "            s = sess.run(summary)\n",
    "            self.writer.add_summary(s)"
   ]
  },
  {
   "cell_type": "code",
   "execution_count": 4,
   "metadata": {},
   "outputs": [],
   "source": [
    "dfAll = pd.read_pickle(\"PklData/df_blobs.pkl\")"
   ]
  },
  {
   "cell_type": "code",
   "execution_count": null,
   "metadata": {},
   "outputs": [],
   "source": []
  },
  {
   "cell_type": "code",
   "execution_count": 5,
   "metadata": {},
   "outputs": [
    {
     "data": {
      "text/plain": [
       "array([ 3,  7,  5,  9, 14,  6, 10,  2,  4, 12,  1, 13,  8, 11])"
      ]
     },
     "execution_count": 5,
     "metadata": {},
     "output_type": "execute_result"
    }
   ],
   "source": [
    "dfAll.userID.unique()"
   ]
  },
  {
   "cell_type": "code",
   "execution_count": 35,
   "metadata": {},
   "outputs": [],
   "source": [
    "# the data, split between train and test sets\n",
    "\n",
    "def createDataSets(train_ids, test_ids):\n",
    "\n",
    "    df_train = dfAll[dfAll.userID.isin(train_ids)]\n",
    "    df_test = dfAll[dfAll.userID.isin(test_ids)]\n",
    "\n",
    "    df_test = df_test.reset_index()\n",
    "    df_train = df_train.reset_index()\n",
    "\n",
    "    df_train2 = df_train[['Blobs', 'InputMethod']].copy()\n",
    "    df_test2 = df_test[['Blobs', 'InputMethod']].copy()\n",
    "\n",
    "    x_train = np.vstack(df_train2.Blobs)\n",
    "    x_test = np.vstack(df_test2.Blobs)\n",
    "    y_train = df_train2.InputMethod.values\n",
    "    y_test = df_test2.InputMethod.values\n",
    "\n",
    "    x_train = x_train.reshape(-1, 27, 15, 1)\n",
    "    x_test = x_test.reshape(-1, 27, 15, 1)\n",
    "\n",
    "    num_classes = 2\n",
    "    y_train_one_hot = utils.to_categorical(df_train2.InputMethod, num_classes)\n",
    "    y_test_one_hot = utils.to_categorical(df_test2.InputMethod, num_classes)"
   ]
  },
  {
   "cell_type": "code",
   "execution_count": 36,
   "metadata": {},
   "outputs": [],
   "source": [
    "train_ids = [1,2,3, 7, 8, 9, 10,12,13,14]\n",
    "test_ids = [4,5,6,11]\n",
    "createDataSets(train_ids, test_ids)"
   ]
  },
  {
   "cell_type": "code",
   "execution_count": 8,
   "metadata": {},
   "outputs": [],
   "source": [
    "# If GPU is not available: \n",
    "# GPU_USE = '/cpu:0'\n",
    "# config = tf.ConfigProto(device_count = {\"GPU\": 0})\n",
    "\n",
    "\n",
    "# If GPU is available: \n",
    "config = tf.ConfigProto()\n",
    "config.log_device_placement = True\n",
    "config.allow_soft_placement = True\n",
    "config.gpu_options.allocator_type = 'BFC'\n",
    "\n",
    "# Limit the maximum memory used\n",
    "config.gpu_options.per_process_gpu_memory_fraction = 0.1\n",
    "\n",
    "# set session config\n",
    "tf.keras.backend.set_session(tf.Session(config=config))"
   ]
  },
  {
   "cell_type": "code",
   "execution_count": 48,
   "metadata": {},
   "outputs": [],
   "source": [
    "def cnn_model():\n",
    "    with(tf.device(\"/gpu:0\")):\n",
    "        optimizer = optimizers.Adam(lr=0.001)\n",
    "        #optimizer = optimizers.RMSprop(lr=0.001, rho=0.9, epsilon=1e-08, decay=0.1)\n",
    "        #init=tf.global_variables_initializer()\n",
    "\n",
    "        model = Sequential()\n",
    "        model.add(Conv2D(64, kernel_size=(3, 3), activation='relu', padding='same', input_shape=(27,15,1)))\n",
    "        model.add(Conv2D(64, kernel_size=(3, 3), activation='relu', padding='same'))\n",
    "        model.add(BatchNormalization(axis=-1))\n",
    "        model.add(MaxPooling2D(pool_size=(2,2), strides=None, padding='same', data_format='channels_last'))\n",
    "        model.add(Dropout(0.50))\n",
    "\n",
    "        model.add(Conv2D(32, kernel_size=(3, 3), activation='relu', padding='same'))\n",
    "        model.add(Conv2D(32, kernel_size=(3, 3), activation='relu', padding='same'))\n",
    "        model.add(BatchNormalization(axis=-1))\n",
    "        model.add(MaxPooling2D(pool_size=(2,2), strides=None, padding='same', data_format='channels_last'))\n",
    "        model.add(Dropout(0.50))\n",
    "\n",
    "        model.add(Flatten())\n",
    "        model.add(Dense(256, activation='relu', kernel_regularizer=regularizers.L1L2(0.02, 0.15), use_bias=True))\n",
    "        model.add(Dropout(0.50))\n",
    "        model.add(Dense(128, activation='relu', kernel_regularizer=regularizers.L1L2(0.02, 0.15), use_bias=True))\n",
    "        model.add(Dropout(0.50))\n",
    "        model.add(Dense(num_classes, activation='softmax'))\n",
    "\n",
    "        ####TENSORBOARD\n",
    "        config = \"\"\n",
    "        for layer in model.layers:\n",
    "            config += str(layer.output).split('\\\"')[1].split(\"/\")[0] + str(layer.output_shape) + \"\\n\\n\"\n",
    "        config += \"batchsize: \" + str(batch_size) + \"\\n\\n\" + \"epochs: \" + str(epochs) + \"\\n\\n\"\n",
    "        #### END TENSORBOARD\n",
    "\n",
    "        model.compile(loss='categorical_crossentropy', optimizer=optimizer, metrics=['accuracy'])\n",
    "    \n",
    "    return model"
   ]
  },
  {
   "cell_type": "code",
   "execution_count": 49,
   "metadata": {},
   "outputs": [],
   "source": [
    "tf.get_default_graph()\n",
    "\n",
    "readable_timestamp = datetime.datetime.fromtimestamp(time.time()).strftime('%Y%m%d_%H%M%S')\n",
    "tensorflowfolder = \"/srv/share/tensorboardfiles/KnuckleFinger_Jan_\" + readable_timestamp\n",
    "\n",
    "#set early stopping criteria\n",
    "pat = 5 #this is the number of epochs with no improvment after which the training will stop\n",
    "\n",
    "logger = LoggingTensorBoard(settings_str_to_log = config, log_dir=tensorflowfolder, histogram_freq=0, write_graph=True, write_images=True, update_freq = 'epoch')\n",
    "model_checkpoint = ModelCheckpoint(\"./ModelSnapshots/KnuckleFinger_Jan_CrossValidation\" + readable_timestamp + \".h5\", monitor='val_loss', verbose=0, save_best_only=True, save_weights_only=False, mode='auto', period=1)\n",
    "learning_rate_reduction = ReduceLROnPlateau(monitor='val_loss', \n",
    "                                            patience=10, \n",
    "                                            verbose=1, \n",
    "                                            factor=0.95, \n",
    "                                            min_lr=0.00001)\n",
    "\n",
    "def fit_and_evaluate(EPOCHS=500, BATCH_SIZE=500):\n",
    "    model = None\n",
    "    model = cnn_model()\n",
    "    model.summary()\n",
    "    history = model.fit(x_train, y_train_one_hot,\n",
    "                    batch_size=BATCH_SIZE,\n",
    "                    epochs=EPOCHS,\n",
    "                    verbose=1,\n",
    "                    validation_data=(x_test, y_test_one_hot),\n",
    "                    callbacks=[model_checkpoint, tg_callback, learning_rate_reduction])\n",
    "    \n",
    "    print(\"Val Score: \", model.evaluate(val_x, val_y))\n",
    "    return history"
   ]
  },
  {
   "cell_type": "code",
   "execution_count": null,
   "metadata": {},
   "outputs": [
    {
     "name": "stdout",
     "output_type": "stream",
     "text": [
      "Training on Fold:  1 \n",
      " test_ids:  [3] \n",
      " train_ids:  [7, 5, 9, 14, 6, 10, 2, 4, 12, 1, 13, 8, 11]\n",
      "_________________________________________________________________\n",
      "Layer (type)                 Output Shape              Param #   \n",
      "=================================================================\n",
      "conv2d_13 (Conv2D)           (None, 27, 15, 64)        640       \n",
      "_________________________________________________________________\n",
      "conv2d_14 (Conv2D)           (None, 27, 15, 64)        36928     \n",
      "_________________________________________________________________\n",
      "batch_normalization_7 (Batch (None, 27, 15, 64)        256       \n",
      "_________________________________________________________________\n",
      "max_pooling2d_7 (MaxPooling2 (None, 14, 8, 64)         0         \n",
      "_________________________________________________________________\n",
      "dropout_13 (Dropout)         (None, 14, 8, 64)         0         \n",
      "_________________________________________________________________\n",
      "conv2d_15 (Conv2D)           (None, 14, 8, 32)         18464     \n",
      "_________________________________________________________________\n",
      "conv2d_16 (Conv2D)           (None, 14, 8, 32)         9248      \n",
      "_________________________________________________________________\n",
      "batch_normalization_8 (Batch (None, 14, 8, 32)         128       \n",
      "_________________________________________________________________\n",
      "max_pooling2d_8 (MaxPooling2 (None, 7, 4, 32)          0         \n",
      "_________________________________________________________________\n",
      "dropout_14 (Dropout)         (None, 7, 4, 32)          0         \n",
      "_________________________________________________________________\n",
      "flatten_4 (Flatten)          (None, 896)               0         \n",
      "_________________________________________________________________\n",
      "dense_10 (Dense)             (None, 256)               229632    \n",
      "_________________________________________________________________\n",
      "dropout_15 (Dropout)         (None, 256)               0         \n",
      "_________________________________________________________________\n",
      "dense_11 (Dense)             (None, 128)               32896     \n",
      "_________________________________________________________________\n",
      "dropout_16 (Dropout)         (None, 128)               0         \n",
      "_________________________________________________________________\n",
      "dense_12 (Dense)             (None, 2)                 258       \n",
      "=================================================================\n",
      "Total params: 328,450\n",
      "Trainable params: 328,258\n",
      "Non-trainable params: 192\n",
      "_________________________________________________________________\n",
      "Train on 268996 samples, validate on 139952 samples\n",
      "Epoch 1/500\n",
      "268996/268996 [==============================] - 40s 147us/step - loss: 7.6287 - acc: 0.7865 - val_loss: 1.0026 - val_acc: 0.8780\n",
      "Epoch 2/500\n",
      "268996/268996 [==============================] - 38s 140us/step - loss: 1.0101 - acc: 0.8660 - val_loss: 0.9173 - val_acc: 0.9124\n",
      "Epoch 3/500\n",
      "268996/268996 [==============================] - 38s 140us/step - loss: 0.9801 - acc: 0.8806 - val_loss: 0.9065 - val_acc: 0.9217\n",
      "Epoch 4/500\n",
      "268996/268996 [==============================] - 38s 141us/step - loss: 0.9520 - acc: 0.8956 - val_loss: 0.8994 - val_acc: 0.9218\n",
      "Epoch 5/500\n",
      "268996/268996 [==============================] - 38s 142us/step - loss: 0.9444 - acc: 0.9008 - val_loss: 0.9074 - val_acc: 0.9228\n",
      "Epoch 6/500\n",
      "268996/268996 [==============================] - 38s 142us/step - loss: 0.9312 - acc: 0.9048 - val_loss: 0.9077 - val_acc: 0.9227\n",
      "Epoch 7/500\n",
      "268996/268996 [==============================] - 38s 142us/step - loss: 0.9116 - acc: 0.9102 - val_loss: 0.8630 - val_acc: 0.9283\n",
      "Epoch 8/500\n",
      "268996/268996 [==============================] - 38s 142us/step - loss: 0.8997 - acc: 0.9121 - val_loss: 0.8718 - val_acc: 0.9256\n",
      "Epoch 9/500\n",
      "268996/268996 [==============================] - 38s 142us/step - loss: 0.8928 - acc: 0.9142 - val_loss: 0.8628 - val_acc: 0.9269\n",
      "Epoch 10/500\n",
      "268996/268996 [==============================] - 38s 141us/step - loss: 0.8830 - acc: 0.9164 - val_loss: 0.8449 - val_acc: 0.9307\n",
      "Epoch 11/500\n",
      "268996/268996 [==============================] - 38s 141us/step - loss: 0.8776 - acc: 0.9174 - val_loss: 0.8528 - val_acc: 0.9311\n",
      "Epoch 12/500\n",
      "268996/268996 [==============================] - 38s 141us/step - loss: 0.8718 - acc: 0.9183 - val_loss: 0.8395 - val_acc: 0.9326\n",
      "Epoch 13/500\n",
      "177200/268996 [==================>...........] - ETA: 10s - loss: 0.8661 - acc: 0.9188"
     ]
    }
   ],
   "source": [
    "n_folds=len(dfAll.userID.unique())\n",
    "epochs=500\n",
    "batch_size=200\n",
    "\n",
    "#save the model history in a list after fitting so that we can plot later\n",
    "model_history = [] \n",
    "\n",
    "for i in range(n_folds):\n",
    "    test_ids = [np.array(dfAll.userID.unique()[i]).tolist()]\n",
    "    train_ids = np.delete(np.array(dfAll.userID.unique()), i).tolist()\n",
    "     \n",
    "    print(\"Training on Fold: \",i+1, \"\\n test_ids: \", test_ids, \"\\n train_ids: \", train_ids)\n",
    "    createDataSets(test_ids, train_ids)\n",
    "    #t_x, val_x, t_y, val_y = train_test_split(x_train, y_train, test_size=0.1, random_state = np.random.randint(1,1000, 1)[0])\n",
    "    ####END\n",
    "    model_history.append(fit_and_evaluate(epochs, batch_size))\n",
    "    print(\"=======\"*12, end=\"\\n\\n\\n\")"
   ]
  },
  {
   "cell_type": "code",
   "execution_count": 39,
   "metadata": {},
   "outputs": [
    {
     "data": {
      "text/plain": [
       "[3]"
      ]
     },
     "execution_count": 39,
     "metadata": {},
     "output_type": "execute_result"
    }
   ],
   "source": [
    "# use model for inference to get test accuracy\n",
    "y_test_pred = model.predict(x_test)\n",
    "y_test_pred = np.argmax(y_test_pred, axis=1)\n",
    "\n",
    "print ('\\n Summary of the precision, recall, F1 score for each class:')\n",
    "print (sklearn.metrics.classification_report(y_test, y_test_pred))\n",
    "\n",
    "print ('\\n Confusion matrix: ')\n",
    "print (sklearn.metrics.confusion_matrix(y_test, y_test_pred))"
   ]
  },
  {
   "cell_type": "code",
   "execution_count": null,
   "metadata": {},
   "outputs": [],
   "source": []
  }
 ],
 "metadata": {
  "kernelspec": {
   "display_name": "Python 3",
   "language": "python",
   "name": "python3"
  },
  "language_info": {
   "codemirror_mode": {
    "name": "ipython",
    "version": 3
   },
   "file_extension": ".py",
   "mimetype": "text/x-python",
   "name": "python",
   "nbconvert_exporter": "python",
   "pygments_lexer": "ipython3",
   "version": "3.6.7"
  }
 },
 "nbformat": 4,
 "nbformat_minor": 2
}
