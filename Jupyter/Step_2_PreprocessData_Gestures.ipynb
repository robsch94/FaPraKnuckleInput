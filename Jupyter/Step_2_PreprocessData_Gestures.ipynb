{
 "cells": [
  {
   "cell_type": "code",
   "execution_count": 1,
   "metadata": {},
   "outputs": [],
   "source": [
    "%matplotlib inline\n",
    "\n",
    "from scipy.odr import *\n",
    "from scipy.stats import *\n",
    "import numpy as np\n",
    "import pandas as pd\n",
    "import os\n",
    "import time\n",
    "import matplotlib.pyplot as plt\n",
    "import ast\n",
    "from multiprocessing import Pool\n",
    "\n",
    "import scipy\n",
    "\n",
    "from IPython import display\n",
    "from matplotlib.patches import Rectangle\n",
    "\n",
    "from sklearn.metrics import mean_squared_error\n",
    "import json\n",
    "\n",
    "import scipy.stats as st\n",
    "from sklearn.metrics import r2_score\n",
    "\n",
    "\n",
    "from matplotlib import cm\n",
    "from mpl_toolkits.mplot3d import axes3d\n",
    "import matplotlib.pyplot as plt\n",
    "\n",
    "import copy\n",
    "\n",
    "from sklearn.model_selection import LeaveOneOut, LeavePOut\n",
    "\n",
    "from multiprocessing import Pool, cpu_count\n",
    "import cv2"
   ]
  },
  {
   "cell_type": "code",
   "execution_count": 2,
   "metadata": {},
   "outputs": [
    {
     "data": {
      "text/html": [
       "<div>\n",
       "<style scoped>\n",
       "    .dataframe tbody tr th:only-of-type {\n",
       "        vertical-align: middle;\n",
       "    }\n",
       "\n",
       "    .dataframe tbody tr th {\n",
       "        vertical-align: top;\n",
       "    }\n",
       "\n",
       "    .dataframe thead th {\n",
       "        text-align: right;\n",
       "    }\n",
       "</style>\n",
       "<table border=\"1\" class=\"dataframe\">\n",
       "  <thead>\n",
       "    <tr style=\"text-align: right;\">\n",
       "      <th></th>\n",
       "      <th>userID</th>\n",
       "      <th>Timestamp</th>\n",
       "      <th>Current_Task</th>\n",
       "      <th>Task_amount</th>\n",
       "      <th>TaskID</th>\n",
       "      <th>VersionID</th>\n",
       "      <th>RepetitionID</th>\n",
       "      <th>Actual_Data</th>\n",
       "      <th>Is_Pause</th>\n",
       "      <th>Image</th>\n",
       "    </tr>\n",
       "  </thead>\n",
       "  <tbody>\n",
       "    <tr>\n",
       "      <th>0</th>\n",
       "      <td>3</td>\n",
       "      <td>1545216073822</td>\n",
       "      <td>0</td>\n",
       "      <td>34</td>\n",
       "      <td>0</td>\n",
       "      <td>0</td>\n",
       "      <td>0</td>\n",
       "      <td>False</td>\n",
       "      <td>False</td>\n",
       "      <td>[0, 1, 0, 0, 0, 0, 0, 0, 0, 2, 1, 0, 1, 0, 1, ...</td>\n",
       "    </tr>\n",
       "    <tr>\n",
       "      <th>1</th>\n",
       "      <td>3</td>\n",
       "      <td>1545216073826</td>\n",
       "      <td>0</td>\n",
       "      <td>34</td>\n",
       "      <td>0</td>\n",
       "      <td>0</td>\n",
       "      <td>0</td>\n",
       "      <td>False</td>\n",
       "      <td>False</td>\n",
       "      <td>[0, 1, 0, 0, 0, 0, 0, 0, 0, 2, 1, 0, 1, 0, 1, ...</td>\n",
       "    </tr>\n",
       "    <tr>\n",
       "      <th>2</th>\n",
       "      <td>3</td>\n",
       "      <td>1545216073867</td>\n",
       "      <td>0</td>\n",
       "      <td>34</td>\n",
       "      <td>0</td>\n",
       "      <td>0</td>\n",
       "      <td>0</td>\n",
       "      <td>False</td>\n",
       "      <td>False</td>\n",
       "      <td>[0, 1, 0, 0, 0, 0, 0, 0, 0, 2, 1, 0, 1, 0, 1, ...</td>\n",
       "    </tr>\n",
       "    <tr>\n",
       "      <th>3</th>\n",
       "      <td>3</td>\n",
       "      <td>1545216073911</td>\n",
       "      <td>0</td>\n",
       "      <td>34</td>\n",
       "      <td>0</td>\n",
       "      <td>0</td>\n",
       "      <td>0</td>\n",
       "      <td>False</td>\n",
       "      <td>False</td>\n",
       "      <td>[0, 1, 0, 0, 0, 0, 0, 0, 0, 2, 1, 0, 1, 0, 1, ...</td>\n",
       "    </tr>\n",
       "    <tr>\n",
       "      <th>4</th>\n",
       "      <td>3</td>\n",
       "      <td>1545216073945</td>\n",
       "      <td>0</td>\n",
       "      <td>34</td>\n",
       "      <td>0</td>\n",
       "      <td>0</td>\n",
       "      <td>0</td>\n",
       "      <td>False</td>\n",
       "      <td>False</td>\n",
       "      <td>[0, 1, 0, 0, 0, 0, 0, 0, 0, 2, 1, 0, 1, 0, 1, ...</td>\n",
       "    </tr>\n",
       "  </tbody>\n",
       "</table>\n",
       "</div>"
      ],
      "text/plain": [
       "   userID      Timestamp  Current_Task  Task_amount  TaskID  VersionID  \\\n",
       "0       3  1545216073822             0           34       0          0   \n",
       "1       3  1545216073826             0           34       0          0   \n",
       "2       3  1545216073867             0           34       0          0   \n",
       "3       3  1545216073911             0           34       0          0   \n",
       "4       3  1545216073945             0           34       0          0   \n",
       "\n",
       "   RepetitionID  Actual_Data  Is_Pause  \\\n",
       "0             0        False     False   \n",
       "1             0        False     False   \n",
       "2             0        False     False   \n",
       "3             0        False     False   \n",
       "4             0        False     False   \n",
       "\n",
       "                                               Image  \n",
       "0  [0, 1, 0, 0, 0, 0, 0, 0, 0, 2, 1, 0, 1, 0, 1, ...  \n",
       "1  [0, 1, 0, 0, 0, 0, 0, 0, 0, 2, 1, 0, 1, 0, 1, ...  \n",
       "2  [0, 1, 0, 0, 0, 0, 0, 0, 0, 2, 1, 0, 1, 0, 1, ...  \n",
       "3  [0, 1, 0, 0, 0, 0, 0, 0, 0, 2, 1, 0, 1, 0, 1, ...  \n",
       "4  [0, 1, 0, 0, 0, 0, 0, 0, 0, 2, 1, 0, 1, 0, 1, ...  "
      ]
     },
     "execution_count": 2,
     "metadata": {},
     "output_type": "execute_result"
    }
   ],
   "source": [
    "dfAll = pd.read_pickle(\"PklData/AllData.pkl\")\n",
    "dfAll.head()"
   ]
  },
  {
   "cell_type": "code",
   "execution_count": 3,
   "metadata": {},
   "outputs": [
    {
     "data": {
      "text/html": [
       "<div>\n",
       "<style scoped>\n",
       "    .dataframe tbody tr th:only-of-type {\n",
       "        vertical-align: middle;\n",
       "    }\n",
       "\n",
       "    .dataframe tbody tr th {\n",
       "        vertical-align: top;\n",
       "    }\n",
       "\n",
       "    .dataframe thead th {\n",
       "        text-align: right;\n",
       "    }\n",
       "</style>\n",
       "<table border=\"1\" class=\"dataframe\">\n",
       "  <thead>\n",
       "    <tr style=\"text-align: right;\">\n",
       "      <th></th>\n",
       "      <th>userID</th>\n",
       "      <th>Timestamp</th>\n",
       "      <th>Current_Task</th>\n",
       "      <th>Task_amount</th>\n",
       "      <th>TaskID</th>\n",
       "      <th>VersionID</th>\n",
       "      <th>RepetitionID</th>\n",
       "      <th>Actual_Data</th>\n",
       "      <th>Is_Pause</th>\n",
       "      <th>Image</th>\n",
       "    </tr>\n",
       "  </thead>\n",
       "  <tbody>\n",
       "    <tr>\n",
       "      <th>9921</th>\n",
       "      <td>3</td>\n",
       "      <td>1545216477388</td>\n",
       "      <td>1</td>\n",
       "      <td>680</td>\n",
       "      <td>10</td>\n",
       "      <td>2</td>\n",
       "      <td>0</td>\n",
       "      <td>True</td>\n",
       "      <td>False</td>\n",
       "      <td>[0, 1, 0, 0, 0, 0, 0, 0, 0, 1, 0, 0, 0, 0, 1, ...</td>\n",
       "    </tr>\n",
       "    <tr>\n",
       "      <th>9922</th>\n",
       "      <td>3</td>\n",
       "      <td>1545216477425</td>\n",
       "      <td>1</td>\n",
       "      <td>680</td>\n",
       "      <td>10</td>\n",
       "      <td>2</td>\n",
       "      <td>0</td>\n",
       "      <td>True</td>\n",
       "      <td>False</td>\n",
       "      <td>[0, 1, 0, 0, 0, 0, 0, 0, 0, 1, 0, 0, 0, 0, 1, ...</td>\n",
       "    </tr>\n",
       "    <tr>\n",
       "      <th>9923</th>\n",
       "      <td>3</td>\n",
       "      <td>1545216477464</td>\n",
       "      <td>1</td>\n",
       "      <td>680</td>\n",
       "      <td>10</td>\n",
       "      <td>2</td>\n",
       "      <td>0</td>\n",
       "      <td>True</td>\n",
       "      <td>False</td>\n",
       "      <td>[0, 1, 0, 0, 0, 0, 0, 0, 0, 1, 0, 0, 0, 0, 1, ...</td>\n",
       "    </tr>\n",
       "    <tr>\n",
       "      <th>9924</th>\n",
       "      <td>3</td>\n",
       "      <td>1545216477504</td>\n",
       "      <td>1</td>\n",
       "      <td>680</td>\n",
       "      <td>10</td>\n",
       "      <td>2</td>\n",
       "      <td>0</td>\n",
       "      <td>True</td>\n",
       "      <td>False</td>\n",
       "      <td>[0, 1, 0, 0, 0, 0, 0, 0, 0, 1, 0, 0, 0, 0, 1, ...</td>\n",
       "    </tr>\n",
       "    <tr>\n",
       "      <th>9925</th>\n",
       "      <td>3</td>\n",
       "      <td>1545216477545</td>\n",
       "      <td>1</td>\n",
       "      <td>680</td>\n",
       "      <td>10</td>\n",
       "      <td>2</td>\n",
       "      <td>0</td>\n",
       "      <td>True</td>\n",
       "      <td>False</td>\n",
       "      <td>[0, 1, 0, 0, 0, 0, 0, 0, 1, 2, 0, 0, 0, 0, 1, ...</td>\n",
       "    </tr>\n",
       "  </tbody>\n",
       "</table>\n",
       "</div>"
      ],
      "text/plain": [
       "      userID      Timestamp  Current_Task  Task_amount  TaskID  VersionID  \\\n",
       "9921       3  1545216477388             1          680      10          2   \n",
       "9922       3  1545216477425             1          680      10          2   \n",
       "9923       3  1545216477464             1          680      10          2   \n",
       "9924       3  1545216477504             1          680      10          2   \n",
       "9925       3  1545216477545             1          680      10          2   \n",
       "\n",
       "      RepetitionID  Actual_Data  Is_Pause  \\\n",
       "9921             0         True     False   \n",
       "9922             0         True     False   \n",
       "9923             0         True     False   \n",
       "9924             0         True     False   \n",
       "9925             0         True     False   \n",
       "\n",
       "                                                  Image  \n",
       "9921  [0, 1, 0, 0, 0, 0, 0, 0, 0, 1, 0, 0, 0, 0, 1, ...  \n",
       "9922  [0, 1, 0, 0, 0, 0, 0, 0, 0, 1, 0, 0, 0, 0, 1, ...  \n",
       "9923  [0, 1, 0, 0, 0, 0, 0, 0, 0, 1, 0, 0, 0, 0, 1, ...  \n",
       "9924  [0, 1, 0, 0, 0, 0, 0, 0, 0, 1, 0, 0, 0, 0, 1, ...  \n",
       "9925  [0, 1, 0, 0, 0, 0, 0, 0, 1, 2, 0, 0, 0, 0, 1, ...  "
      ]
     },
     "execution_count": 3,
     "metadata": {},
     "output_type": "execute_result"
    }
   ],
   "source": [
    "df_actual = dfAll[(dfAll.Actual_Data == True) & (dfAll.Is_Pause == False)]\n",
    "df_actual.head()"
   ]
  },
  {
   "cell_type": "code",
   "execution_count": 4,
   "metadata": {},
   "outputs": [
    {
     "name": "stdout",
     "output_type": "stream",
     "text": [
      "all: 453710, actual data: 381231\n"
     ]
    }
   ],
   "source": [
    "print(\"all: %s, actual data: %s\" % (len(dfAll), len(df_actual)))"
   ]
  },
  {
   "cell_type": "code",
   "execution_count": 5,
   "metadata": {},
   "outputs": [
    {
     "data": {
      "text/plain": [
       "'%%time\\n# this will be the faster repetition check\\ndef is_max(row):\\n    return row.RepetitionID == df_filtered[(df_filtered.userID == row.userID) & (df_filtered.TaskID == row.TaskID) & (df_filtered.VersionID == row.VersionID)].RepetitionID.max()\\n\\npool = Pool(8)\\ndf_filtered = df_actual.copy(deep=True)\\n\\nmax_vals = pool.map(is_max, [row for index, row in df_filtered.iterrows()])\\ndf_filtered[\"IsMax\"] = max_vals\\nprint(df_filtered.head())\\npool.close()'"
      ]
     },
     "execution_count": 5,
     "metadata": {},
     "output_type": "execute_result"
    }
   ],
   "source": [
    "\"\"\"%%time\n",
    "# this will be the faster repetition check\n",
    "def is_max(row):\n",
    "    return row.RepetitionID == df_filtered[(df_filtered.userID == row.userID) & (df_filtered.TaskID == row.TaskID) & (df_filtered.VersionID == row.VersionID)].RepetitionID.max()\n",
    "\n",
    "pool = Pool(8)\n",
    "df_filtered = df_actual.copy(deep=True)\n",
    "\n",
    "max_vals = pool.map(is_max, [row for index, row in df_filtered.iterrows()])\n",
    "df_filtered[\"IsMax\"] = max_vals\n",
    "print(df_filtered.head())\n",
    "pool.close()\"\"\""
   ]
  },
  {
   "cell_type": "code",
   "execution_count": 6,
   "metadata": {},
   "outputs": [
    {
     "name": "stdout",
     "output_type": "stream",
     "text": [
      "3\n",
      "7\n",
      "5\n",
      "6\n",
      "2\n",
      "4\n",
      "1\n",
      "8\n",
      "CPU times: user 11min 57s, sys: 9.3 s, total: 12min 7s\n",
      "Wall time: 12min 6s\n"
     ]
    }
   ],
   "source": [
    "%%time\n",
    "df_filtered = df_actual.copy(deep=True)\n",
    "for User in df_filtered.userID.unique():\n",
    "    print(User)\n",
    "    for Task in df_filtered.TaskID.unique():\n",
    "        for Version in df_filtered.VersionID.unique():\n",
    "            max_rep = df_filtered[(df_filtered.userID == User) & (df_filtered.TaskID == Task) & (df_filtered.VersionID == Version)].RepetitionID.max()\n",
    "            df_filtered = df_filtered.drop(df_filtered[(df_filtered.userID == User) & (df_filtered.TaskID == Task) & (df_filtered.VersionID == Version) & (df_filtered.RepetitionID != max_rep)].index)"
   ]
  },
  {
   "cell_type": "code",
   "execution_count": 7,
   "metadata": {},
   "outputs": [],
   "source": [
    "df_filtered.to_pickle(\"PklData/dfFiltered.pkl\")"
   ]
  },
  {
   "cell_type": "code",
   "execution_count": 8,
   "metadata": {},
   "outputs": [],
   "source": [
    "df_filtered = pd.read_pickle(\"PklData/dfFiltered.pkl\")"
   ]
  },
  {
   "cell_type": "code",
   "execution_count": 9,
   "metadata": {},
   "outputs": [
    {
     "name": "stdout",
     "output_type": "stream",
     "text": [
      "actual: 381231, filtered data: 275596\n"
     ]
    }
   ],
   "source": [
    "print(\"actual: %s, filtered data: %s\" % (len(df_actual), len(df_filtered)))"
   ]
  },
  {
   "cell_type": "code",
   "execution_count": 10,
   "metadata": {},
   "outputs": [],
   "source": [
    "def detect_blobs(index, row):\n",
    "    image = row.Image\n",
    "    image = image.reshape(27, 15)\n",
    "    temp, thresh = cv2.threshold(cv2.bitwise_not(image), 200, 255, cv2.THRESH_BINARY)\n",
    "    im2, contours, hierarchy = cv2.findContours(thresh, cv2.RETR_TREE, cv2.CHAIN_APPROX_SIMPLE)\n",
    "    contours = [a for a in contours if cv2.contourArea(a) > 5 and cv2.contourArea(a) < 255]\n",
    "    if len(contours) > 0:\n",
    "        if (row.TaskID not in [6, 7, 23, 24]):\n",
    "            # only one blob\n",
    "            contours.sort(key=lambda a: cv2.contourArea(a))\n",
    "            max_contour = contours[-1]\n",
    "            xmax, ymax = np.max(max_contour.reshape(len(max_contour),2), axis=0)\n",
    "            xmin, ymin = np.min(max_contour.reshape(len(max_contour),2), axis=0)\n",
    "            croped_im = np.zeros((27,15))\n",
    "            blob = image[max(ymin - 1, 0):min(ymax + 1, image.shape[0]),max(xmin - 1, 0):min(xmax + 1, image.shape[1])]\n",
    "            croped_im[0:blob.shape[0],0:blob.shape[1]] = blob\n",
    "            return (1, [croped_im])\n",
    "        else:\n",
    "            # two blobs\n",
    "            blobs = []\n",
    "            for i in range(1, 2):\n",
    "                contours.sort(key=lambda a: cv2.contourArea(a))\n",
    "                max_contour = contours[-1 * i]\n",
    "                xmax, ymax = np.max(max_contour.reshape(len(max_contour),2), axis=0)\n",
    "                xmin, ymin = np.min(max_contour.reshape(len(max_contour),2), axis=0)\n",
    "                croped_im = np.zeros((27,15))\n",
    "                blob = image[max(ymin - 1, 0):min(ymax + 1, image.shape[0]),max(xmin - 1, 0):min(xmax + 1, image.shape[1])]\n",
    "                croped_im[0:blob.shape[0],0:blob.shape[1]] = blob\n",
    "                blobs.append(blobs)\n",
    "            return (2, blobs)\n",
    "    else:\n",
    "        return (0, np.zeros((27,15)))"
   ]
  },
  {
   "cell_type": "code",
   "execution_count": 11,
   "metadata": {},
   "outputs": [
    {
     "name": "stdout",
     "output_type": "stream",
     "text": [
      "CPU times: user 1min 10s, sys: 4.96 s, total: 1min 15s\n",
      "Wall time: 1min 17s\n"
     ]
    }
   ],
   "source": [
    "%%time\n",
    "pool = Pool(cpu_count())\n",
    "df_croped = df_filtered.copy()\n",
    "temp_blobs = pool.starmap(detect_blobs, df_filtered.iterrows())\n",
    "df_croped[\"BlobCount\"] = [a[0] for a in temp_blobs]\n",
    "df_croped[\"Blobs\"] = [a[1] for a in temp_blobs]\n",
    "df_croped.head()"
   ]
  },
  {
   "cell_type": "code",
   "execution_count": 12,
   "metadata": {},
   "outputs": [
    {
     "name": "stdout",
     "output_type": "stream",
     "text": [
      "detected blobs: 71895\n"
     ]
    },
    {
     "data": {
      "text/html": [
       "<div>\n",
       "<style scoped>\n",
       "    .dataframe tbody tr th:only-of-type {\n",
       "        vertical-align: middle;\n",
       "    }\n",
       "\n",
       "    .dataframe tbody tr th {\n",
       "        vertical-align: top;\n",
       "    }\n",
       "\n",
       "    .dataframe thead th {\n",
       "        text-align: right;\n",
       "    }\n",
       "</style>\n",
       "<table border=\"1\" class=\"dataframe\">\n",
       "  <thead>\n",
       "    <tr style=\"text-align: right;\">\n",
       "      <th></th>\n",
       "      <th>userID</th>\n",
       "      <th>Timestamp</th>\n",
       "      <th>Current_Task</th>\n",
       "      <th>Task_amount</th>\n",
       "      <th>TaskID</th>\n",
       "      <th>VersionID</th>\n",
       "      <th>RepetitionID</th>\n",
       "      <th>Actual_Data</th>\n",
       "      <th>Is_Pause</th>\n",
       "      <th>Image</th>\n",
       "      <th>BlobCount</th>\n",
       "      <th>Blobs</th>\n",
       "    </tr>\n",
       "  </thead>\n",
       "  <tbody>\n",
       "    <tr>\n",
       "      <th>10000</th>\n",
       "      <td>3</td>\n",
       "      <td>1545216480595</td>\n",
       "      <td>1</td>\n",
       "      <td>680</td>\n",
       "      <td>10</td>\n",
       "      <td>2</td>\n",
       "      <td>0</td>\n",
       "      <td>True</td>\n",
       "      <td>False</td>\n",
       "      <td>[0, 227, 191, 0, 0, 0, 0, 0, 0, 0, 1, 0, 0, 0,...</td>\n",
       "      <td>1</td>\n",
       "      <td>[[[3.0, 2.0, 8.0, 8.0, 3.0, 0.0, 0.0, 0.0, 0.0...</td>\n",
       "    </tr>\n",
       "    <tr>\n",
       "      <th>10004</th>\n",
       "      <td>3</td>\n",
       "      <td>1545216480764</td>\n",
       "      <td>1</td>\n",
       "      <td>680</td>\n",
       "      <td>10</td>\n",
       "      <td>2</td>\n",
       "      <td>0</td>\n",
       "      <td>True</td>\n",
       "      <td>False</td>\n",
       "      <td>[0, 227, 191, 0, 0, 0, 0, 0, 0, 0, 1, 0, 0, 0,...</td>\n",
       "      <td>1</td>\n",
       "      <td>[[[0.0, 0.0, 4.0, 6.0, 1.0, 0.0, 0.0, 0.0, 0.0...</td>\n",
       "    </tr>\n",
       "    <tr>\n",
       "      <th>10005</th>\n",
       "      <td>3</td>\n",
       "      <td>1545216480809</td>\n",
       "      <td>1</td>\n",
       "      <td>680</td>\n",
       "      <td>10</td>\n",
       "      <td>2</td>\n",
       "      <td>0</td>\n",
       "      <td>True</td>\n",
       "      <td>False</td>\n",
       "      <td>[0, 227, 191, 0, 0, 0, 0, 0, 0, 0, 1, 0, 0, 0,...</td>\n",
       "      <td>1</td>\n",
       "      <td>[[[0.0, 4.0, 6.0, 1.0, 1.0, 0.0, 0.0, 0.0, 0.0...</td>\n",
       "    </tr>\n",
       "    <tr>\n",
       "      <th>10006</th>\n",
       "      <td>3</td>\n",
       "      <td>1545216480845</td>\n",
       "      <td>1</td>\n",
       "      <td>680</td>\n",
       "      <td>10</td>\n",
       "      <td>2</td>\n",
       "      <td>0</td>\n",
       "      <td>True</td>\n",
       "      <td>False</td>\n",
       "      <td>[0, 227, 191, 0, 0, 0, 0, 0, 0, 0, 1, 0, 0, 0,...</td>\n",
       "      <td>1</td>\n",
       "      <td>[[[0.0, 4.0, 6.0, 1.0, 1.0, 0.0, 0.0, 0.0, 0.0...</td>\n",
       "    </tr>\n",
       "    <tr>\n",
       "      <th>10007</th>\n",
       "      <td>3</td>\n",
       "      <td>1545216480886</td>\n",
       "      <td>1</td>\n",
       "      <td>680</td>\n",
       "      <td>10</td>\n",
       "      <td>2</td>\n",
       "      <td>0</td>\n",
       "      <td>True</td>\n",
       "      <td>False</td>\n",
       "      <td>[0, 227, 191, 0, 0, 0, 0, 0, 0, 0, 1, 0, 0, 0,...</td>\n",
       "      <td>1</td>\n",
       "      <td>[[[0.0, 4.0, 6.0, 1.0, 1.0, 0.0, 0.0, 0.0, 0.0...</td>\n",
       "    </tr>\n",
       "  </tbody>\n",
       "</table>\n",
       "</div>"
      ],
      "text/plain": [
       "       userID      Timestamp  Current_Task  Task_amount  TaskID  VersionID  \\\n",
       "10000       3  1545216480595             1          680      10          2   \n",
       "10004       3  1545216480764             1          680      10          2   \n",
       "10005       3  1545216480809             1          680      10          2   \n",
       "10006       3  1545216480845             1          680      10          2   \n",
       "10007       3  1545216480886             1          680      10          2   \n",
       "\n",
       "       RepetitionID  Actual_Data  Is_Pause  \\\n",
       "10000             0         True     False   \n",
       "10004             0         True     False   \n",
       "10005             0         True     False   \n",
       "10006             0         True     False   \n",
       "10007             0         True     False   \n",
       "\n",
       "                                                   Image  BlobCount  \\\n",
       "10000  [0, 227, 191, 0, 0, 0, 0, 0, 0, 0, 1, 0, 0, 0,...          1   \n",
       "10004  [0, 227, 191, 0, 0, 0, 0, 0, 0, 0, 1, 0, 0, 0,...          1   \n",
       "10005  [0, 227, 191, 0, 0, 0, 0, 0, 0, 0, 1, 0, 0, 0,...          1   \n",
       "10006  [0, 227, 191, 0, 0, 0, 0, 0, 0, 0, 1, 0, 0, 0,...          1   \n",
       "10007  [0, 227, 191, 0, 0, 0, 0, 0, 0, 0, 1, 0, 0, 0,...          1   \n",
       "\n",
       "                                                   Blobs  \n",
       "10000  [[[3.0, 2.0, 8.0, 8.0, 3.0, 0.0, 0.0, 0.0, 0.0...  \n",
       "10004  [[[0.0, 0.0, 4.0, 6.0, 1.0, 0.0, 0.0, 0.0, 0.0...  \n",
       "10005  [[[0.0, 4.0, 6.0, 1.0, 1.0, 0.0, 0.0, 0.0, 0.0...  \n",
       "10006  [[[0.0, 4.0, 6.0, 1.0, 1.0, 0.0, 0.0, 0.0, 0.0...  \n",
       "10007  [[[0.0, 4.0, 6.0, 1.0, 1.0, 0.0, 0.0, 0.0, 0.0...  "
      ]
     },
     "execution_count": 12,
     "metadata": {},
     "output_type": "execute_result"
    }
   ],
   "source": [
    "df_blobs = df_croped[df_croped.BlobCount >= 1]\n",
    "print(\"detected blobs: %s\" % len(df_blobs))\n",
    "df_blobs.head()"
   ]
  },
  {
   "cell_type": "code",
   "execution_count": 13,
   "metadata": {},
   "outputs": [],
   "source": [
    "df_blobs.to_pickle(\"PklData/df_blobs_gestures.pkl\")"
   ]
  },
  {
   "cell_type": "markdown",
   "metadata": {},
   "source": [
    "# Build Gestures"
   ]
  },
  {
   "cell_type": "code",
   "execution_count": 17,
   "metadata": {},
   "outputs": [],
   "source": [
    "def detect_and_return_blobs(row):\n",
    "    image = row[1].Image\n",
    "    image = image.reshape(27, 15)\n",
    "    temp, thresh = cv2.threshold(cv2.bitwise_not(image), 200, 255, cv2.THRESH_BINARY)\n",
    "    im2, contours, hierarchy = cv2.findContours(thresh, cv2.RETR_TREE, cv2.CHAIN_APPROX_SIMPLE)\n",
    "    contours = [a for a in contours if cv2.contourArea(a) > 5 and cv2.contourArea(a) < 255]\n",
    "    if len(contours) > 0:\n",
    "        if (row[1].TaskID not in [6, 7, 23, 24]):\n",
    "            # only one blob\n",
    "            contours.sort(key=lambda a: cv2.contourArea(a))\n",
    "            max_contour = contours[-1]\n",
    "            xmax, ymax = np.max(max_contour.reshape(len(max_contour),2), axis=0)\n",
    "            xmin, ymin = np.min(max_contour.reshape(len(max_contour),2), axis=0)\n",
    "            croped_im = np.zeros((27,15))\n",
    "            blob = image[max(ymin - 1, 0):min(ymax + 1, image.shape[0]),max(xmin - 1, 0):min(xmax + 1, image.shape[1])]\n",
    "            croped_im[max(ymin - 1, 0):min(ymax + 1, image.shape[0]),max(xmin - 1, 0):min(xmax + 1, image.shape[1])] = blob\n",
    "            return [croped_im]\n",
    "        else:\n",
    "            # two blobs\n",
    "            blobs = []\n",
    "            for i in range(1, 2):\n",
    "                contours.sort(key=lambda a: cv2.contourArea(a))\n",
    "                max_contour = contours[-1 * i]\n",
    "                xmax, ymax = np.max(max_contour.reshape(len(max_contour),2), axis=0)\n",
    "                xmin, ymin = np.min(max_contour.reshape(len(max_contour),2), axis=0)\n",
    "                croped_im = np.zeros((27,15))\n",
    "                blob = image[max(ymin - 1, 0):min(ymax + 1, image.shape[0]),max(xmin - 1, 0):min(xmax + 1, image.shape[1])]\n",
    "                croped_im[max(ymin - 1, 0):min(ymax + 1, image.shape[0]),max(xmin - 1, 0):min(xmax + 1, image.shape[1])] = blob\n",
    "                blobs.append(croped_im)\n",
    "            return blobs\n",
    "    else:\n",
    "        return np.zeros((27,15))"
   ]
  },
  {
   "cell_type": "code",
   "execution_count": 18,
   "metadata": {},
   "outputs": [
    {
     "name": "stdout",
     "output_type": "stream",
     "text": [
      "3\n",
      "7\n",
      "5\n",
      "6\n",
      "2\n",
      "4\n",
      "1\n",
      "8\n",
      "4397\n",
      "CPU times: user 1min, sys: 436 ms, total: 1min\n",
      "Wall time: 1min\n"
     ]
    }
   ],
   "source": [
    "%%time\n",
    "data_points = []\n",
    "\n",
    "for UserID in df_blobs.userID.unique():\n",
    "    print(UserID)\n",
    "    for TaskID in df_blobs[df_blobs.userID == UserID].TaskID.unique():\n",
    "        for VersionID in df_blobs[(df_blobs.userID == UserID) & (df_blobs.TaskID == TaskID)].VersionID.unique():\n",
    "            for RepetitionID in df_blobs[(df_blobs.userID == UserID) & (df_blobs.TaskID == TaskID) & (df_blobs.VersionID == VersionID)].RepetitionID.unique():\n",
    "                data = df_blobs[(df_blobs.userID == UserID) & (df_blobs.TaskID == TaskID) & (df_blobs.VersionID == VersionID) & (df_blobs.RepetitionID == RepetitionID)]\n",
    "                gesture_im = np.zeros((27,15))\n",
    "                for row in data.iterrows():\n",
    "                    blobs = detect_and_return_blobs(row)\n",
    "                    for blob in blobs:\n",
    "                        gesture_im = gesture_im + blob\n",
    "                #gesture_im = np.clip(gesture_im, 0, 255)\n",
    "                data_points.append([UserID, TaskID, VersionID, RepetitionID, gesture_im])\n",
    "\n",
    "print(len(data_points))"
   ]
  },
  {
   "cell_type": "code",
   "execution_count": 19,
   "metadata": {},
   "outputs": [
    {
     "data": {
      "text/html": [
       "<div>\n",
       "<style scoped>\n",
       "    .dataframe tbody tr th:only-of-type {\n",
       "        vertical-align: middle;\n",
       "    }\n",
       "\n",
       "    .dataframe tbody tr th {\n",
       "        vertical-align: top;\n",
       "    }\n",
       "\n",
       "    .dataframe thead th {\n",
       "        text-align: right;\n",
       "    }\n",
       "</style>\n",
       "<table border=\"1\" class=\"dataframe\">\n",
       "  <thead>\n",
       "    <tr style=\"text-align: right;\">\n",
       "      <th></th>\n",
       "      <th>userID</th>\n",
       "      <th>TaskID</th>\n",
       "      <th>VersionID</th>\n",
       "      <th>RepetitionID</th>\n",
       "      <th>Gesture</th>\n",
       "    </tr>\n",
       "  </thead>\n",
       "  <tbody>\n",
       "    <tr>\n",
       "      <th>0</th>\n",
       "      <td>3</td>\n",
       "      <td>10</td>\n",
       "      <td>2</td>\n",
       "      <td>0</td>\n",
       "      <td>[[0.0, 0.0, 0.0, 0.0, 0.0, 0.0, 0.0, 0.0, 0.0,...</td>\n",
       "    </tr>\n",
       "    <tr>\n",
       "      <th>1</th>\n",
       "      <td>3</td>\n",
       "      <td>10</td>\n",
       "      <td>3</td>\n",
       "      <td>0</td>\n",
       "      <td>[[0.0, 0.0, 0.0, 0.0, 0.0, 0.0, 0.0, 0.0, 0.0,...</td>\n",
       "    </tr>\n",
       "    <tr>\n",
       "      <th>2</th>\n",
       "      <td>3</td>\n",
       "      <td>10</td>\n",
       "      <td>4</td>\n",
       "      <td>0</td>\n",
       "      <td>[[0.0, 0.0, 0.0, 0.0, 0.0, 0.0, 0.0, 0.0, 0.0,...</td>\n",
       "    </tr>\n",
       "    <tr>\n",
       "      <th>3</th>\n",
       "      <td>3</td>\n",
       "      <td>10</td>\n",
       "      <td>5</td>\n",
       "      <td>0</td>\n",
       "      <td>[[0.0, 0.0, 0.0, 0.0, 0.0, 0.0, 0.0, 0.0, 0.0,...</td>\n",
       "    </tr>\n",
       "    <tr>\n",
       "      <th>4</th>\n",
       "      <td>3</td>\n",
       "      <td>10</td>\n",
       "      <td>6</td>\n",
       "      <td>0</td>\n",
       "      <td>[[0.0, 0.0, 0.0, 0.0, 0.0, 0.0, 0.0, 0.0, 0.0,...</td>\n",
       "    </tr>\n",
       "  </tbody>\n",
       "</table>\n",
       "</div>"
      ],
      "text/plain": [
       "   userID  TaskID  VersionID  RepetitionID  \\\n",
       "0       3      10          2             0   \n",
       "1       3      10          3             0   \n",
       "2       3      10          4             0   \n",
       "3       3      10          5             0   \n",
       "4       3      10          6             0   \n",
       "\n",
       "                                             Gesture  \n",
       "0  [[0.0, 0.0, 0.0, 0.0, 0.0, 0.0, 0.0, 0.0, 0.0,...  \n",
       "1  [[0.0, 0.0, 0.0, 0.0, 0.0, 0.0, 0.0, 0.0, 0.0,...  \n",
       "2  [[0.0, 0.0, 0.0, 0.0, 0.0, 0.0, 0.0, 0.0, 0.0,...  \n",
       "3  [[0.0, 0.0, 0.0, 0.0, 0.0, 0.0, 0.0, 0.0, 0.0,...  \n",
       "4  [[0.0, 0.0, 0.0, 0.0, 0.0, 0.0, 0.0, 0.0, 0.0,...  "
      ]
     },
     "execution_count": 19,
     "metadata": {},
     "output_type": "execute_result"
    }
   ],
   "source": [
    "df_gestures = pd.DataFrame(data_points)\n",
    "df_gestures.columns = [\"userID\", \"TaskID\", \"VersionID\", \"RepetitionID\", \"Gesture\"]\n",
    "df_gestures.head()"
   ]
  },
  {
   "cell_type": "code",
   "execution_count": 20,
   "metadata": {},
   "outputs": [],
   "source": [
    "df_gestures.to_pickle(\"PklData/df_gestures.pkl\")"
   ]
  },
  {
   "cell_type": "markdown",
   "metadata": {},
   "source": [
    "# display Gesture"
   ]
  },
  {
   "cell_type": "code",
   "execution_count": 21,
   "metadata": {},
   "outputs": [
    {
     "data": {
      "text/plain": [
       "<Figure size 432x288 with 0 Axes>"
      ]
     },
     "metadata": {},
     "output_type": "display_data"
    },
    {
     "data": {
      "image/png": "[encoded data removed]",
      "text/plain": [
       "<Figure size 432x432 with 1 Axes>"
      ]
     },
     "metadata": {
      "needs_background": "light"
     },
     "output_type": "display_data"
    }
   ],
   "source": [
    "plt.clf()\n",
    "plt.figure(figsize=(6, 6))\n",
    "ax = plt.gca()\n",
    "data_point = 2500\n",
    "data = df_gestures.Gesture.iloc[data_point]\n",
    "plt.imshow(data, cmap='gray', vmin=0, vmax=255)\n",
    "# Loop over data dimensions and create text annotations.\n",
    "for i in range(0, data.shape[0]):\n",
    "    for j in range(0, data.shape[1]):\n",
    "        text = ax.text(j, i, int(data[i, j]),\n",
    "                       ha=\"center\", va=\"center\", color=\"cyan\", fontsize=1)\n",
    "# plt.savefig(\"input.png\", bbox_inches='tight')\n",
    "plt.show()"
   ]
  },
  {
   "cell_type": "code",
   "execution_count": null,
   "metadata": {},
   "outputs": [],
   "source": []
  }
 ],
 "metadata": {
  "kernelspec": {
   "display_name": "Python 3",
   "language": "python",
   "name": "python3"
  },
  "language_info": {
   "codemirror_mode": {
    "name": "ipython",
    "version": 3
   },
   "file_extension": ".py",
   "mimetype": "text/x-python",
   "name": "python",
   "nbconvert_exporter": "python",
   "pygments_lexer": "ipython3",
   "version": "3.6.7"
  }
 },
 "nbformat": 4,
 "nbformat_minor": 2
}
