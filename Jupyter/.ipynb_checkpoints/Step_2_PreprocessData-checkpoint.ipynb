{
 "cells": [
  {
   "cell_type": "code",
   "execution_count": null,
   "metadata": {},
   "outputs": [],
   "source": [
    "%matplotlib inline\n",
    "\n",
    "from scipy.odr import *\n",
    "from scipy.stats import *\n",
    "import numpy as np\n",
    "import pandas as pd\n",
    "import os\n",
    "import time\n",
    "import matplotlib.pyplot as plt\n",
    "import ast\n",
    "from multiprocessing import Pool\n",
    "\n",
    "import scipy\n",
    "\n",
    "from IPython import display\n",
    "from matplotlib.patches import Rectangle\n",
    "\n",
    "from sklearn.metrics import mean_squared_error\n",
    "import json\n",
    "\n",
    "import scipy.stats as st\n",
    "from sklearn.metrics import r2_score\n",
    "\n",
    "\n",
    "from matplotlib import cm\n",
    "from mpl_toolkits.mplot3d import axes3d\n",
    "import matplotlib.pyplot as plt\n",
    "\n",
    "import copy\n",
    "\n",
    "from sklearn.model_selection import LeaveOneOut, LeavePOut\n",
    "\n",
    "from multiprocessing import Pool\n",
    "import cv2"
   ]
  },
  {
   "cell_type": "code",
   "execution_count": null,
   "metadata": {},
   "outputs": [],
   "source": [
    "dfAll = pd.read_pickle(\"PklData/AllData.pkl\")\n",
    "dfAll.head()"
   ]
  },
  {
   "cell_type": "code",
   "execution_count": null,
   "metadata": {},
   "outputs": [],
   "source": [
    "df_actual = dfAll[(dfAll.Actual_Data == True) & (dfAll.Is_Pause == False)]\n",
    "df_actual.head()"
   ]
  },
  {
   "cell_type": "code",
   "execution_count": null,
   "metadata": {},
   "outputs": [],
   "source": [
    "print(\"all: %s, actual data: %s\" % (len(dfAll), len(df_actual)))"
   ]
  },
  {
   "cell_type": "code",
   "execution_count": null,
   "metadata": {},
   "outputs": [],
   "source": [
    "%%time\n",
    "df_filtered = df_actual.copy()\n",
    "for User in df_filtered.userID.unique():\n",
    "    print(User)\n",
    "    for Task in df_filtered.TaskID.unique():\n",
    "        for Version in df_filtered.VersionID.unique():\n",
    "            max_rep = df_filtered[(df_filtered.userID == User) & (df_filtered.TaskID == Task) & (df_filtered.VersionID == Version)].RepetitionID.max()\n",
    "            df_filtered = df_filtered.drop(df_filtered[(df_filtered.userID == User) & (df_filtered.TaskID == Task) & (df_filtered.VersionID == Version) & (df_filtered.RepetitionID != max_rep)].index)"
   ]
  },
  {
   "cell_type": "code",
   "execution_count": null,
   "metadata": {},
   "outputs": [],
   "source": [
    "crop_frame = 5\n",
    "\n",
    "def detect_blobs(image):\n",
    "    image = image.reshape(27, 15)\n",
    "    temp, thresh = cv2.threshold(cv2.bitwise_not(image), 200, 255, cv2.THRESH_BINARY)\n",
    "    im2, contours, hierarchy = cv2.findContours(thresh, cv2.RETR_TREE, cv2.CHAIN_APPROX_SIMPLE)\n",
    "    contours = [a for a in contours if cv2.contourArea(a) > 5 and cv2.contourArea(a) < 255]\n",
    "    if len(contours) > 0:\n",
    "        max_contour = max(contours, key=lambda a: cv2.contourArea(a))\n",
    "        M = cv2.moments(max_contour)\n",
    "        cx = round(M['m10'] / M['m00'])\n",
    "        cy = round(M['m01'] / M['m00'])\n",
    "        croped_im = image[max(cy - crop_frame, 0):min(cy + crop_frame, 27), max(cx - crop_frame, 0):min(cx + crop_frame, 15)].copy()\n",
    "        # pad border\n",
    "        croped_im = cv2.copyMakeBorder(croped_im, max(-1 * (cy - crop_frame), 0), max(-1 * (image.shape[0] - (cy + crop_frame)), 0), max(-1 * (cx - crop_frame), 0), max(-1 * (image.shape[1] - (cx + crop_frame)), 0), cv2.BORDER_CONSTANT, value=0)\n",
    "        return (1, [croped_im])\n",
    "    else:\n",
    "        return (0, [np.zeros((2 * crop_frame) ** 2).reshape((2 * crop_frame, 2 * crop_frame))])"
   ]
  },
  {
   "cell_type": "code",
   "execution_count": null,
   "metadata": {},
   "outputs": [],
   "source": [
    "%%time\n",
    "pool = Pool(8)\n",
    "df_croped = df_actual.copy()\n",
    "temp_blobs = pool.map(detect_blobs, df_actual.Image)\n",
    "df_croped[\"BlobCount\"] = [a[0] for a in temp_blobs]\n",
    "df_croped[\"Blobs\"] = [a[1] for a in temp_blobs]\n",
    "df_croped.head()"
   ]
  },
  {
   "cell_type": "code",
   "execution_count": null,
   "metadata": {},
   "outputs": [],
   "source": [
    "df_blobs = df_croped[df_croped.BlobCount == 1]\n",
    "print(\"detected blobs: %s\" % len(df_blobs))\n",
    "df_blobs.head()"
   ]
  },
  {
   "cell_type": "code",
   "execution_count": null,
   "metadata": {},
   "outputs": [],
   "source": [
    "df_blobs.to_pickle(\"PklData/df_blobs.pkl\")"
   ]
  },
  {
   "cell_type": "markdown",
   "metadata": {},
   "source": [
    "# display blobs"
   ]
  },
  {
   "cell_type": "code",
   "execution_count": null,
   "metadata": {},
   "outputs": [],
   "source": [
    "plt.clf()\n",
    "plt.figure(figsize=(6, 6))\n",
    "ax = plt.gca()\n",
    "data_point = 150\n",
    "data = df_blobs.Blobs.iloc[data_point][0]\n",
    "plt.imshow(data, cmap='gray', vmin=0, vmax=255)\n",
    "# Loop over data dimensions and create text annotations.\n",
    "for i in range(0, data.shape[0]):\n",
    "    for j in range(0, data.shape[1]):\n",
    "        text = ax.text(j, i, int(data[i, j]),\n",
    "                       ha=\"center\", va=\"center\", color=\"cyan\", fontsize=12)\n",
    "# plt.savefig(\"input.png\", bbox_inches='tight')\n",
    "plt.show()"
   ]
  },
  {
   "cell_type": "code",
   "execution_count": null,
   "metadata": {},
   "outputs": [],
   "source": []
  }
 ],
 "metadata": {
  "kernelspec": {
   "display_name": "Python 3",
   "language": "python",
   "name": "python3"
  },
  "language_info": {
   "codemirror_mode": {
    "name": "ipython",
    "version": 3
   },
   "file_extension": ".py",
   "mimetype": "text/x-python",
   "name": "python",
   "nbconvert_exporter": "python",
   "pygments_lexer": "ipython3",
   "version": "3.6.7"
  }
 },
 "nbformat": 4,
 "nbformat_minor": 2
}
