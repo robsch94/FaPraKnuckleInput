{
 "cells": [
  {
   "cell_type": "code",
   "execution_count": null,
   "metadata": {},
   "outputs": [],
   "source": [
    "import numpy as np\n",
    "import matplotlib.pyplot as plt\n",
    "import pandas as pd\n",
    "import math\n",
    "\n",
    "# Importing matplotlib to plot images.\n",
    "import matplotlib.pyplot as plt\n",
    "import numpy as np\n",
    "%matplotlib inline\n",
    "\n",
    "# Importing SK-learn to calculate precision and recall\n",
    "import sklearn\n",
    "from sklearn import metrics\n",
    "from sklearn.model_selection import train_test_split, cross_val_score, LeaveOneGroupOut\n",
    "from sklearn.utils import shuffle\n",
    "from sklearn.neural_network import MLPRegressor\n",
    "from sklearn.ensemble import RandomForestRegressor\n",
    "from sklearn.neighbors import KNeighborsRegressor\n",
    "from sklearn.tree import DecisionTreeRegressor\n",
    "from sklearn.model_selection import GridSearchCV\n",
    "from sklearn.metrics.pairwise import euclidean_distances\n",
    "\n",
    "import pickle as pkl\n",
    "import h5py\n",
    "\n",
    "from pathlib import Path\n",
    "import os.path\n",
    "import sys\n",
    "import datetime\n",
    "import time"
   ]
  },
  {
   "cell_type": "code",
   "execution_count": null,
   "metadata": {},
   "outputs": [],
   "source": [
    "pixel_width = {\"N5X\":1080,\"S3Mini\":480,\"S4\":1080,\"N6\":1440}\n",
    "pixel_height = {\"N5X\":1920,\"S3Mini\":800,\"S4\":1920,\"N6\":2560}\n",
    "\n",
    "def normalizeWidth(row):\n",
    "    smartphone = row.Phone\n",
    "    return row.XPress / pixel_width[smartphone]\n",
    "\n",
    "def normalizeHeight(row):\n",
    "    smartphone = row.Phone    \n",
    "    return row.YPress / pixel_height[smartphone]"
   ]
  },
  {
   "cell_type": "code",
   "execution_count": null,
   "metadata": {},
   "outputs": [],
   "source": [
    "df = pd.read_pickle(\"../../data/step03.pkl\")"
   ]
  },
  {
   "cell_type": "code",
   "execution_count": null,
   "metadata": {},
   "outputs": [],
   "source": [
    "df.XPress = df.apply(lambda x: normalizeWidth(x), axis=1)\n",
    "df.YPress = df.apply(lambda x: normalizeHeight(x), axis=1)\n",
    "\n",
    "df.Sensor = df.Sensor.apply(lambda x: x.reshape(-1, 6, 1))\n",
    "\n",
    "np.random.seed(42)\n",
    "lst = df.PId.unique()\n",
    "np.random.shuffle(lst)\n",
    "\n",
    "shape = df.Sensor.iloc[0].shape\n",
    "\n",
    "dfTrain = df[df.PId.isin(lst[:14])]\n",
    "dfTest = df[df.PId.isin(lst[14:])]\n",
    "\n",
    "train_x = np.concatenate(dfTrain.Sensor.values).reshape(-1, shape[0], shape[1], shape[2])\n",
    "train_x = train_x.reshape(-1, train_x.shape[1] * train_x.shape[2])\n",
    "train_y = dfTrain[['XPress', 'YPress']].values\n",
    "\n",
    "test_x = np.concatenate(dfTest.Sensor.values).reshape(-1, shape[0], shape[1], shape[2])\n",
    "test_x = test_x.reshape(-1, test_x.shape[1] * test_x.shape[2])\n",
    "test_y = dfTest[['XPress', 'YPress']].values"
   ]
  },
  {
   "cell_type": "markdown",
   "metadata": {},
   "source": [
    "# RandomForestRegressor"
   ]
  },
  {
   "cell_type": "code",
   "execution_count": null,
   "metadata": {},
   "outputs": [],
   "source": [
    "regressor = RandomForestRegressor()\n",
    "params = {'max_depth':range(3,12,2)}\n",
    "clf = GridSearchCV(regressor, params, cv=5, n_jobs = 7, verbose=1)\n",
    "clf.fit(train_x, train_y)"
   ]
  },
  {
   "cell_type": "code",
   "execution_count": null,
   "metadata": {},
   "outputs": [],
   "source": [
    "results = clf.best_estimator_.predict(test_x)\n",
    "print(\"RandomForestRegressor\", np.mean(euclidean_distances(test_y, results)))"
   ]
  },
  {
   "cell_type": "markdown",
   "metadata": {},
   "source": [
    "# DecisionTreeRegressor"
   ]
  },
  {
   "cell_type": "code",
   "execution_count": null,
   "metadata": {},
   "outputs": [],
   "source": [
    "regressor = DecisionTreeRegressor()\n",
    "params = {'max_depth':range(3,12,3)}\n",
    "clf = GridSearchCV(regressor, params, cv=5, n_jobs = 7, verbose=1)\n",
    "clf.fit(train_x, train_y)"
   ]
  },
  {
   "cell_type": "code",
   "execution_count": null,
   "metadata": {},
   "outputs": [],
   "source": [
    "results = clf.best_estimator_.predict(test_x)\n",
    "print(\"DecisionTreeRegressor\", np.mean(euclidean_distances(test_y, results)))"
   ]
  },
  {
   "cell_type": "markdown",
   "metadata": {},
   "source": [
    "# KNeighborsRegressor"
   ]
  },
  {
   "cell_type": "code",
   "execution_count": null,
   "metadata": {},
   "outputs": [],
   "source": [
    "regressor = KNeighborsRegressor()\n",
    "params = {'n_neighbors':range(3,6,2)}\n",
    "clf = GridSearchCV(regressor, params, cv=5, n_jobs = 7, verbose=1)\n",
    "clf.fit(train_x, train_y)"
   ]
  },
  {
   "cell_type": "code",
   "execution_count": null,
   "metadata": {},
   "outputs": [],
   "source": [
    "results = clf.best_estimator_.predict(test_x)\n",
    "print(\"KNeighborsRegressor\", np.mean(euclidean_distances(test_y, results)))"
   ]
  },
  {
   "cell_type": "markdown",
   "metadata": {},
   "source": [
    "# MLPRegressor"
   ]
  },
  {
   "cell_type": "code",
   "execution_count": null,
   "metadata": {},
   "outputs": [],
   "source": [
    "regressor = MLPRegressor(hidden_layer_sizes = (40,20))\n",
    "params = {'hidden_layer_sizes':range(10,150,20)}\n",
    "clf = GridSearchCV(regressor, params, cv=5, n_jobs = 7, verbose=1)\n",
    "clf.fit(train_x, train_y)"
   ]
  },
  {
   "cell_type": "code",
   "execution_count": null,
   "metadata": {},
   "outputs": [],
   "source": [
    "results = clf.best_estimator_.predict(test_x)\n",
    "print(\"MLPRegressor\", np.mean(euclidean_distances(test_y, results)))"
   ]
  },
  {
   "cell_type": "markdown",
   "metadata": {},
   "source": [
    "# single phones"
   ]
  },
  {
   "cell_type": "code",
   "execution_count": null,
   "metadata": {},
   "outputs": [],
   "source": [
    "for smartphone, constant_pixels in zip([\"S3Mini\", \"S4\", \"N5X\", \"N6\"], [0.1089, 0.0577, 0.06, 0.05109]):\n",
    "    df = pd.read_pickle(\"../../data/step03.pkl\")\n",
    "    \n",
    "    df = df[(df.Phone == smartphone) ]\n",
    "    df.Sensor = df.Sensor.apply(lambda x: x.reshape(-1, 6, 1))\n",
    "\n",
    "    np.random.seed(42)\n",
    "    lst = df.PId.unique()\n",
    "    np.random.shuffle(lst)\n",
    "\n",
    "    shape = df.Sensor.iloc[0].shape\n",
    "\n",
    "    dfTrain = df[df.PId.isin(lst[:14])]\n",
    "    dfTest = df[df.PId.isin(lst[14:])]\n",
    "\n",
    "    train_x = np.concatenate(dfTrain.Sensor.values).reshape(-1, shape[0], shape[1], shape[2])\n",
    "    train_x = train_x.reshape(-1, train_x.shape[1] * train_x.shape[2])\n",
    "    train_y = dfTrain[['XPress', 'YPress']].values\n",
    "\n",
    "    test_x = np.concatenate(dfTest.Sensor.values).reshape(-1, shape[0], shape[1], shape[2])\n",
    "    test_x = test_x.reshape(-1, test_x.shape[1] * test_x.shape[2])\n",
    "    test_y = dfTest[['XPress', 'YPress']].values\n",
    "    \n",
    "    regressor = RandomForestRegressor()\n",
    "    params = {'max_depth':range(3,12,2)}\n",
    "    clf = GridSearchCV(regressor, params, cv=5, n_jobs = 7, verbose=1)\n",
    "    clf.fit(train_x, train_y)\n",
    "    results = clf.best_estimator_.predict(test_x)\n",
    "    print(smartphone, \"RandomForestRegressor\", np.mean(euclidean_distances(test_y, results)) * constant_pixels, \"mm\")\n",
    "    \n",
    "    regressor = DecisionTreeRegressor()\n",
    "    params = {'max_depth':range(3,12,3)}\n",
    "    clf = GridSearchCV(regressor, params, cv=5, n_jobs = 7, verbose=1)\n",
    "    clf.fit(train_x, train_y)\n",
    "    results = clf.best_estimator_.predict(test_x)\n",
    "    print(smartphone, \"DecisionTreeRegressor\", np.mean(euclidean_distances(test_y, results)) * constant_pixels, \"mm\")\n",
    "    \n",
    "    regressor = KNeighborsRegressor()\n",
    "    params = {'n_neighbors':range(3,6,2)}\n",
    "    clf = GridSearchCV(regressor, params, cv=5, n_jobs = 7, verbose=1)\n",
    "    clf.fit(train_x, train_y)\n",
    "    results = clf.best_estimator_.predict(test_x)\n",
    "    print(smartphone, \"KNeighborsRegressor\", np.mean(euclidean_distances(test_y, results)) * constant_pixels, \"mm\")\n",
    "    \n",
    "    regressor = MLPRegressor(hidden_layer_sizes = (40,20))\n",
    "    params = {'hidden_layer_sizes':range(10,150,20)}\n",
    "    clf = GridSearchCV(regressor, params, cv=5, n_jobs = 7, verbose=1)\n",
    "    clf.fit(train_x, train_y)\n",
    "    results = clf.best_estimator_.predict(test_x)\n",
    "    print(smartphone, \"MLPRegressor\", np.mean(euclidean_distances(test_y, results)) * constant_pixels, \"mm\")"
   ]
  },
  {
   "cell_type": "markdown",
   "metadata": {},
   "source": [
    "# Plotting"
   ]
  },
  {
   "cell_type": "code",
   "execution_count": null,
   "metadata": {},
   "outputs": [],
   "source": [
    "fig,ax = plt.subplots(figsize = (3,6))\n",
    "ax.set_xlim(0,1080)\n",
    "ax.set_ylim(1920,0)\n",
    "ax.scatter(test_y[:,0],test_y[:,1],alpha = 0.3)\n",
    "ax.scatter(results[:,0],results[:,1],alpha = 0.3)"
   ]
  },
  {
   "cell_type": "code",
   "execution_count": null,
   "metadata": {},
   "outputs": [],
   "source": []
  }
 ],
 "metadata": {
  "kernelspec": {
   "display_name": "Python 3",
   "language": "python",
   "name": "python3"
  },
  "language_info": {
   "codemirror_mode": {
    "name": "ipython",
    "version": 3
   },
   "file_extension": ".py",
   "mimetype": "text/x-python",
   "name": "python",
   "nbconvert_exporter": "python",
   "pygments_lexer": "ipython3",
   "version": "3.6.7"
  }
 },
 "nbformat": 4,
 "nbformat_minor": 2
}
