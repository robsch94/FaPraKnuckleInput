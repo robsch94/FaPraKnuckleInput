{
 "cells": [
  {
   "cell_type": "code",
   "execution_count": null,
   "metadata": {},
   "outputs": [],
   "source": [
    "%matplotlib inline\n",
    "\n",
    "from scipy.odr import *\n",
    "from scipy.stats import *\n",
    "import numpy as np\n",
    "import pandas as pd\n",
    "import os\n",
    "import time\n",
    "import matplotlib.pyplot as plt\n",
    "import ast\n",
    "from multiprocessing import Pool\n",
    "\n",
    "import scipy\n",
    "\n",
    "from IPython import display\n",
    "from matplotlib.patches import Rectangle\n",
    "\n",
    "from sklearn.metrics import mean_squared_error\n",
    "import json\n",
    "\n",
    "import scipy.stats as st\n",
    "from sklearn.metrics import r2_score\n",
    "\n",
    "\n",
    "from matplotlib import cm\n",
    "from mpl_toolkits.mplot3d import axes3d\n",
    "import matplotlib.pyplot as plt\n",
    "\n",
    "import copy\n",
    "\n",
    "from sklearn.model_selection import LeaveOneOut, LeavePOut\n",
    "\n",
    "from multiprocessing import Pool, cpu_count\n",
    "import cv2"
   ]
  },
  {
   "cell_type": "code",
   "execution_count": null,
   "metadata": {},
   "outputs": [],
   "source": [
    "dfAll = pd.read_pickle(\"PklData/AllData.pkl\")\n",
    "dfAll.head()"
   ]
  },
  {
   "cell_type": "code",
   "execution_count": null,
   "metadata": {},
   "outputs": [],
   "source": [
    "df_actual = dfAll[(dfAll.Actual_Data == True) & (dfAll.Is_Pause == False)]\n",
    "df_actual.head()"
   ]
  },
  {
   "cell_type": "code",
   "execution_count": null,
   "metadata": {},
   "outputs": [],
   "source": [
    "print(\"all: %s, actual data: %s\" % (len(dfAll), len(df_actual)))"
   ]
  },
  {
   "cell_type": "code",
   "execution_count": null,
   "metadata": {},
   "outputs": [],
   "source": [
    "\"\"\"%%time\n",
    "# this will be the faster repetition check\n",
    "def is_max(row):\n",
    "    return row.RepetitionID == df_filtered[(df_filtered.userID == row.userID) & (df_filtered.TaskID == row.TaskID) & (df_filtered.VersionID == row.VersionID)].RepetitionID.max()\n",
    "\n",
    "pool = Pool(8)\n",
    "df_filtered = df_actual.copy(deep=True)\n",
    "\n",
    "max_vals = pool.map(is_max, [row for index, row in df_filtered.iterrows()])\n",
    "df_filtered[\"IsMax\"] = max_vals\n",
    "print(df_filtered.head())\n",
    "pool.close()\"\"\""
   ]
  },
  {
   "cell_type": "code",
   "execution_count": null,
   "metadata": {},
   "outputs": [],
   "source": [
    "%%time\n",
    "df_filtered = df_actual.copy(deep=True)\n",
    "for User in df_filtered.userID.unique():\n",
    "    print(User)\n",
    "    for Task in df_filtered.TaskID.unique():\n",
    "        for Version in df_filtered.VersionID.unique():\n",
    "            max_rep = df_filtered[(df_filtered.userID == User) & (df_filtered.TaskID == Task) & (df_filtered.VersionID == Version)].RepetitionID.max()\n",
    "            df_filtered = df_filtered.drop(df_filtered[(df_filtered.userID == User) & (df_filtered.TaskID == Task) & (df_filtered.VersionID == Version) & (df_filtered.RepetitionID != max_rep)].index)"
   ]
  },
  {
   "cell_type": "code",
   "execution_count": null,
   "metadata": {},
   "outputs": [],
   "source": [
    "df_filtered.to_pickle(\"PklData/dfFiltered.pkl\")"
   ]
  },
  {
   "cell_type": "code",
   "execution_count": null,
   "metadata": {},
   "outputs": [],
   "source": [
    "df_filtered = pd.read_pickle(\"PklData/dfFiltered.pkl\")"
   ]
  },
  {
   "cell_type": "code",
   "execution_count": null,
   "metadata": {},
   "outputs": [],
   "source": [
    "print(\"actual: %s, filtered data: %s\" % (len(df_actual), len(df_filtered)))"
   ]
  },
  {
   "cell_type": "code",
   "execution_count": null,
   "metadata": {},
   "outputs": [],
   "source": [
    "def detect_blobs(index, row):\n",
    "    image = row.Image\n",
    "    image = image.reshape(27, 15)\n",
    "    temp, thresh = cv2.threshold(cv2.bitwise_not(image), 200, 255, cv2.THRESH_BINARY)\n",
    "    im2, contours, hierarchy = cv2.findContours(thresh, cv2.RETR_TREE, cv2.CHAIN_APPROX_SIMPLE)\n",
    "    contours = [a for a in contours if cv2.contourArea(a) > 5 and cv2.contourArea(a) < 255]\n",
    "    if len(contours) > 0:\n",
    "        if (row.TaskID not in [6, 7, 23, 24]):\n",
    "            # only one blob\n",
    "            contours.sort(key=lambda a: cv2.contourArea(a))\n",
    "            max_contour = contours[-1]\n",
    "            xmax, ymax = np.max(max_contour.reshape(len(max_contour),2), axis=0)\n",
    "            xmin, ymin = np.min(max_contour.reshape(len(max_contour),2), axis=0)\n",
    "            croped_im = np.zeros((27,15))\n",
    "            blob = image[max(ymin - 1, 0):min(ymax + 1, image.shape[0]),max(xmin - 1, 0):min(xmax + 1, image.shape[1])]\n",
    "            croped_im[0:blob.shape[0],0:blob.shape[1]] = blob\n",
    "            return (1, [croped_im])\n",
    "        else:\n",
    "            # two blobs\n",
    "            blobs = []\n",
    "            for i in range(1, 2):\n",
    "                contours.sort(key=lambda a: cv2.contourArea(a))\n",
    "                max_contour = contours[-1 * i]\n",
    "                xmax, ymax = np.max(max_contour.reshape(len(max_contour),2), axis=0)\n",
    "                xmin, ymin = np.min(max_contour.reshape(len(max_contour),2), axis=0)\n",
    "                croped_im = np.zeros((27,15))\n",
    "                blob = image[max(ymin - 1, 0):min(ymax + 1, image.shape[0]),max(xmin - 1, 0):min(xmax + 1, image.shape[1])]\n",
    "                croped_im[0:blob.shape[0],0:blob.shape[1]] = blob\n",
    "                blobs.append(blobs)\n",
    "            return (2, blobs)\n",
    "    else:\n",
    "        return (0, np.zeros((27,15)))"
   ]
  },
  {
   "cell_type": "code",
   "execution_count": null,
   "metadata": {},
   "outputs": [],
   "source": [
    "%%time\n",
    "pool = Pool(cpu_count())\n",
    "df_croped = df_filtered.copy()\n",
    "temp_blobs = pool.starmap(detect_blobs, df_filtered.iterrows())\n",
    "df_croped[\"BlobCount\"] = [a[0] for a in temp_blobs]\n",
    "df_croped[\"Blobs\"] = [a[1] for a in temp_blobs]\n",
    "df_croped.head()"
   ]
  },
  {
   "cell_type": "code",
   "execution_count": null,
   "metadata": {},
   "outputs": [],
   "source": [
    "df_blobs = df_croped[df_croped.BlobCount >= 1]\n",
    "print(\"detected blobs: %s\" % len(df_blobs))\n",
    "df_blobs.head()"
   ]
  },
  {
   "cell_type": "code",
   "execution_count": null,
   "metadata": {},
   "outputs": [],
   "source": [
    "df_blobs.to_pickle(\"PklData/df_blobs_gestures.pkl\")"
   ]
  },
  {
   "cell_type": "markdown",
   "metadata": {},
   "source": [
    "# Build Gestures"
   ]
  },
  {
   "cell_type": "code",
   "execution_count": null,
   "metadata": {},
   "outputs": [],
   "source": [
    "def detect_and_return_blobs(row):\n",
    "    image = row[1].Image\n",
    "    image = image.reshape(27, 15)\n",
    "    temp, thresh = cv2.threshold(cv2.bitwise_not(image), 200, 255, cv2.THRESH_BINARY)\n",
    "    im2, contours, hierarchy = cv2.findContours(thresh, cv2.RETR_TREE, cv2.CHAIN_APPROX_SIMPLE)\n",
    "    contours = [a for a in contours if cv2.contourArea(a) > 5 and cv2.contourArea(a) < 255]\n",
    "    if len(contours) > 0:\n",
    "        if (row[1].TaskID not in [6, 7, 23, 24]):\n",
    "            # only one blob\n",
    "            contours.sort(key=lambda a: cv2.contourArea(a))\n",
    "            max_contour = contours[-1]\n",
    "            xmax, ymax = np.max(max_contour.reshape(len(max_contour),2), axis=0)\n",
    "            xmin, ymin = np.min(max_contour.reshape(len(max_contour),2), axis=0)\n",
    "            croped_im = np.zeros((27,15))\n",
    "            blob = image[max(ymin - 1, 0):min(ymax + 1, image.shape[0]),max(xmin - 1, 0):min(xmax + 1, image.shape[1])]\n",
    "            croped_im[max(ymin - 1, 0):min(ymax + 1, image.shape[0]),max(xmin - 1, 0):min(xmax + 1, image.shape[1])] = blob\n",
    "            return [croped_im]\n",
    "        else:\n",
    "            # two blobs\n",
    "            blobs = []\n",
    "            for i in range(1, 2):\n",
    "                contours.sort(key=lambda a: cv2.contourArea(a))\n",
    "                max_contour = contours[-1 * i]\n",
    "                xmax, ymax = np.max(max_contour.reshape(len(max_contour),2), axis=0)\n",
    "                xmin, ymin = np.min(max_contour.reshape(len(max_contour),2), axis=0)\n",
    "                croped_im = np.zeros((27,15))\n",
    "                blob = image[max(ymin - 1, 0):min(ymax + 1, image.shape[0]),max(xmin - 1, 0):min(xmax + 1, image.shape[1])]\n",
    "                croped_im[max(ymin - 1, 0):min(ymax + 1, image.shape[0]),max(xmin - 1, 0):min(xmax + 1, image.shape[1])] = blob\n",
    "                blobs.append(croped_im)\n",
    "            return blobs\n",
    "    else:\n",
    "        return np.zeros((27,15))"
   ]
  },
  {
   "cell_type": "code",
   "execution_count": null,
   "metadata": {},
   "outputs": [],
   "source": [
    "%%time\n",
    "data_points = []\n",
    "\n",
    "for UserID in df_blobs.userID.unique():\n",
    "    print(UserID)\n",
    "    for TaskID in df_blobs[df_blobs.userID == UserID].TaskID.unique():\n",
    "        for VersionID in df_blobs[(df_blobs.userID == UserID) & (df_blobs.TaskID == TaskID)].VersionID.unique():\n",
    "            for RepetitionID in df_blobs[(df_blobs.userID == UserID) & (df_blobs.TaskID == TaskID) & (df_blobs.VersionID == VersionID)].RepetitionID.unique():\n",
    "                data = df_blobs[(df_blobs.userID == UserID) & (df_blobs.TaskID == TaskID) & (df_blobs.VersionID == VersionID) & (df_blobs.RepetitionID == RepetitionID)]\n",
    "                gesture_im = np.zeros((27,15))\n",
    "                for row in data.iterrows():\n",
    "                    blobs = detect_and_return_blobs(row)\n",
    "                    for blob in blobs:\n",
    "                        gesture_im = gesture_im + blob\n",
    "                #gesture_im = np.clip(gesture_im, 0, 255)\n",
    "                data_points.append([UserID, TaskID, VersionID, RepetitionID, gesture_im])\n",
    "\n",
    "print(len(data_points))"
   ]
  },
  {
   "cell_type": "code",
   "execution_count": null,
   "metadata": {},
   "outputs": [],
   "source": [
    "df_gestures = pd.DataFrame(data_points)\n",
    "df_gestures.columns = [\"userID\", \"TaskID\", \"VersionID\", \"RepetitionID\", \"Gesture\"]\n",
    "df_gestures.head()"
   ]
  },
  {
   "cell_type": "code",
   "execution_count": null,
   "metadata": {},
   "outputs": [],
   "source": [
    "df_gestures.to_pickle(\"PklData/df_gestures.pkl\")"
   ]
  },
  {
   "cell_type": "markdown",
   "metadata": {},
   "source": [
    "# display Gesture"
   ]
  },
  {
   "cell_type": "code",
   "execution_count": null,
   "metadata": {},
   "outputs": [],
   "source": [
    "user_id = 4\n",
    "len(df_gestures[(df_gestures.userID == user_id) & (df_gestures.TaskID == 15)])\n"
   ]
  },
  {
   "cell_type": "code",
   "execution_count": null,
   "metadata": {},
   "outputs": [],
   "source": [
    "user_id = 4\n",
    "task_id = 15\n",
    "plt.clf()\n",
    "for k in range(0, len(df_gestures[(df_gestures.userID == user_id) & (df_gestures.TaskID == task_id)])):\n",
    "    data = df_gestures[(df_gestures.userID == user_id) & (df_gestures.TaskID == task_id)].Gesture.iloc[k]\n",
    "    plt.figure(figsize=(6, 6))\n",
    "    ax = plt.gca()\n",
    "    plt.imshow(data, cmap='gray', vmin=0, vmax=255)\n",
    "    # Loop over data dimensions and create text annotations.\n",
    "    for i in range(0, data.shape[0]):\n",
    "        for j in range(0, data.shape[1]):\n",
    "            text = ax.text(j, i, int(data[i, j]),\n",
    "                           ha=\"center\", va=\"center\", color=\"cyan\", fontsize=1)\n",
    "    plt.savefig(\"./GestureImages/gesture_%s_%s_%s.png\" % (task_id, user_id, k), bbox_inches='tight')\n",
    "    plt.show()"
   ]
  },
  {
   "cell_type": "code",
   "execution_count": null,
   "metadata": {},
   "outputs": [],
   "source": []
  }
 ],
 "metadata": {
  "kernelspec": {
   "display_name": "Python 3",
   "language": "python",
   "name": "python3"
  },
  "language_info": {
   "codemirror_mode": {
    "name": "ipython",
    "version": 3
   },
   "file_extension": ".py",
   "mimetype": "text/x-python",
   "name": "python",
   "nbconvert_exporter": "python",
   "pygments_lexer": "ipython3",
   "version": "3.6.7"
  }
 },
 "nbformat": 4,
 "nbformat_minor": 2
}
