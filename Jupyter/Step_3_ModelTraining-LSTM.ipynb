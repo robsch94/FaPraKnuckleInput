{
 "cells": [
  {
   "cell_type": "code",
   "execution_count": 1,
   "metadata": {},
   "outputs": [
    {
     "name": "stderr",
     "output_type": "stream",
     "text": [
      "Using TensorFlow backend.\n"
     ]
    }
   ],
   "source": [
    "from keras.models import Sequential, load_model\n",
    "from keras.layers import *\n",
    "from keras import optimizers\n",
    "from keras import utils\n",
    "from keras.callbacks import TensorBoard, ModelCheckpoint, ReduceLROnPlateau\n",
    "import keras\n",
    "\n",
    "import numpy as np\n",
    "import matplotlib.pyplot as plt\n",
    "import pandas as pd\n",
    "import math\n",
    "\n",
    "import tensorflow as tf\n",
    "\n",
    "# Importing matplotlib to plot images.\n",
    "import matplotlib.pyplot as plt\n",
    "import numpy as np\n",
    "%matplotlib inline\n",
    "\n",
    "# Importing SK-learn to calculate precision and recall\n",
    "import sklearn\n",
    "from sklearn import metrics\n",
    "from sklearn.model_selection import train_test_split, cross_val_score, LeaveOneGroupOut\n",
    "from sklearn.utils import shuffle \n",
    "\n",
    "# Used for graph export\n",
    "from tensorflow.python.framework import graph_util\n",
    "from tensorflow.python.framework import graph_io\n",
    "from keras import backend as K\n",
    "\n",
    "import pickle as pkl\n",
    "import h5py\n",
    "\n",
    "from pathlib import Path\n",
    "import os.path\n",
    "import sys\n",
    "import datetime\n",
    "import time\n",
    "\n"
   ]
  },
  {
   "cell_type": "code",
   "execution_count": 2,
   "metadata": {},
   "outputs": [],
   "source": [
    "import telegram\n",
    "from keras.callbacks import Callback\n",
    "from callbacks import TelegramCallback\n",
    "from callbacks.TelegramData import TelegramData\n",
    "\n",
    "\n",
    "# create callback\n",
    "config = {\n",
    "    'token': TelegramData.Token,   # paste your bot token\n",
    "    'telegram_id': TelegramData.ID,                                   # paste your telegram_id\n",
    "}\n",
    "\n",
    "tg_callback = TelegramCallback(config)"
   ]
  },
  {
   "cell_type": "code",
   "execution_count": 3,
   "metadata": {},
   "outputs": [],
   "source": [
    "class LoggingTensorBoard(TensorBoard):    \n",
    "\n",
    "    def __init__(self, log_dir, settings_str_to_log, **kwargs):\n",
    "        super(LoggingTensorBoard, self).__init__(log_dir, **kwargs)\n",
    "\n",
    "        self.settings_str = settings_str_to_log\n",
    "\n",
    "    def on_train_begin(self, logs=None):\n",
    "        TensorBoard.on_train_begin(self, logs=logs)\n",
    "\n",
    "        tensor =  tf.convert_to_tensor(self.settings_str)\n",
    "        summary = tf.summary.text (\"Run_Settings\", tensor)\n",
    "\n",
    "        with  tf.Session() as sess:\n",
    "            s = sess.run(summary)\n",
    "            self.writer.add_summary(s)"
   ]
  },
  {
   "cell_type": "code",
   "execution_count": 4,
   "metadata": {},
   "outputs": [],
   "source": [
    "train_ids = [1,2,3, 7, 8, 9, 10,12,13,14,15,16]\n",
    "test_ids = [4,5,6,11,17]"
   ]
  },
  {
   "cell_type": "code",
   "execution_count": 5,
   "metadata": {},
   "outputs": [],
   "source": [
    "dfAll = pd.read_pickle(\"PklData/df_lstm.pkl\")"
   ]
  },
  {
   "cell_type": "code",
   "execution_count": 8,
   "metadata": {},
   "outputs": [],
   "source": [
    "df_train = dfAll[dfAll.userID.isin(train_ids)]\n",
    "df_test = dfAll[dfAll.userID.isin(test_ids)]\n",
    "\n",
    "df_train2 = df_train[['Blobs', 'TaskID']].copy()\n",
    "df_test2 = df_test[['Blobs', 'TaskID']].copy()"
   ]
  },
  {
   "cell_type": "code",
   "execution_count": 10,
   "metadata": {},
   "outputs": [
    {
     "ename": "ValueError",
     "evalue": "all the input array dimensions except for the concatenation axis must match exactly",
     "output_type": "error",
     "traceback": [
      "\u001b[0;31m---------------------------------------------------------------------------\u001b[0m",
      "\u001b[0;31mValueError\u001b[0m                                Traceback (most recent call last)",
      "\u001b[0;32m<ipython-input-10-d563c0c0fc8a>\u001b[0m in \u001b[0;36m<module>\u001b[0;34m()\u001b[0m\n\u001b[0;32m----> 1\u001b[0;31m \u001b[0mx_train\u001b[0m \u001b[0;34m=\u001b[0m \u001b[0mnp\u001b[0m\u001b[0;34m.\u001b[0m\u001b[0mvstack\u001b[0m\u001b[0;34m(\u001b[0m\u001b[0mdf_train2\u001b[0m\u001b[0;34m.\u001b[0m\u001b[0mBlobs\u001b[0m\u001b[0;34m)\u001b[0m\u001b[0;34m\u001b[0m\u001b[0;34m\u001b[0m\u001b[0m\n\u001b[0m\u001b[1;32m      2\u001b[0m \u001b[0mx_test\u001b[0m \u001b[0;34m=\u001b[0m \u001b[0mnp\u001b[0m\u001b[0;34m.\u001b[0m\u001b[0mvstack\u001b[0m\u001b[0;34m(\u001b[0m\u001b[0mdf_test2\u001b[0m\u001b[0;34m.\u001b[0m\u001b[0mBlobs\u001b[0m\u001b[0;34m)\u001b[0m\u001b[0;34m\u001b[0m\u001b[0;34m\u001b[0m\u001b[0m\n\u001b[1;32m      3\u001b[0m \u001b[0my_train\u001b[0m \u001b[0;34m=\u001b[0m \u001b[0mdf_train2\u001b[0m\u001b[0;34m.\u001b[0m\u001b[0mTaskID\u001b[0m\u001b[0;34m.\u001b[0m\u001b[0mvalues\u001b[0m\u001b[0;34m\u001b[0m\u001b[0;34m\u001b[0m\u001b[0m\n\u001b[1;32m      4\u001b[0m \u001b[0my_test\u001b[0m \u001b[0;34m=\u001b[0m \u001b[0mdf_test2\u001b[0m\u001b[0;34m.\u001b[0m\u001b[0mTaskID\u001b[0m\u001b[0;34m.\u001b[0m\u001b[0mvalues\u001b[0m\u001b[0;34m\u001b[0m\u001b[0;34m\u001b[0m\u001b[0m\n\u001b[1;32m      5\u001b[0m \u001b[0;34m\u001b[0m\u001b[0m\n",
      "\u001b[0;32m/usr/local/lib/python3.6/dist-packages/numpy/core/shape_base.py\u001b[0m in \u001b[0;36mvstack\u001b[0;34m(tup)\u001b[0m\n\u001b[1;32m    232\u001b[0m \u001b[0;34m\u001b[0m\u001b[0m\n\u001b[1;32m    233\u001b[0m     \"\"\"\n\u001b[0;32m--> 234\u001b[0;31m     \u001b[0;32mreturn\u001b[0m \u001b[0m_nx\u001b[0m\u001b[0;34m.\u001b[0m\u001b[0mconcatenate\u001b[0m\u001b[0;34m(\u001b[0m\u001b[0;34m[\u001b[0m\u001b[0matleast_2d\u001b[0m\u001b[0;34m(\u001b[0m\u001b[0m_m\u001b[0m\u001b[0;34m)\u001b[0m \u001b[0;32mfor\u001b[0m \u001b[0m_m\u001b[0m \u001b[0;32min\u001b[0m \u001b[0mtup\u001b[0m\u001b[0;34m]\u001b[0m\u001b[0;34m,\u001b[0m \u001b[0;36m0\u001b[0m\u001b[0;34m)\u001b[0m\u001b[0;34m\u001b[0m\u001b[0;34m\u001b[0m\u001b[0m\n\u001b[0m\u001b[1;32m    235\u001b[0m \u001b[0;34m\u001b[0m\u001b[0m\n\u001b[1;32m    236\u001b[0m \u001b[0;32mdef\u001b[0m \u001b[0mhstack\u001b[0m\u001b[0;34m(\u001b[0m\u001b[0mtup\u001b[0m\u001b[0;34m)\u001b[0m\u001b[0;34m:\u001b[0m\u001b[0;34m\u001b[0m\u001b[0;34m\u001b[0m\u001b[0m\n",
      "\u001b[0;31mValueError\u001b[0m: all the input array dimensions except for the concatenation axis must match exactly"
     ]
    }
   ],
   "source": [
    "x_train = np.vstack(df_train2.Blobs)\n",
    "x_test = np.vstack(df_test2.Blobs)\n",
    "y_train = df_train2.TaskID.values\n",
    "y_test = df_test2.TaskID.values\n",
    "\n",
    "x_train = x_train.reshape(-1, 27, 15, 1)\n",
    "x_test = x_test.reshape(-1, 27, 15, 1)"
   ]
  },
  {
   "cell_type": "code",
   "execution_count": 11,
   "metadata": {},
   "outputs": [
    {
     "data": {
      "text/plain": [
       "0       [[[0, 224, 1, 0, 0, 161, 4, 2, 4, 3, 4, 0, 182...\n",
       "1       [[[1, 224, 0, 0, 0, 0, 0, 0, 1, 0, 0, 0, 0, 0,...\n",
       "2       [[[1, 0, 0, 0, 0, 0, 3, 0, 0, 0, 0, 4, 2, 0, 0...\n",
       "3       [[[0, 0, 0, 0, 1, 0, 0, 2, 0, 0, 0, 0, 0, 0, 0...\n",
       "4       [[[0, 0, 0, 1, 1, 1, 5, 3, 0, 0, 0, 0, 0, 0, 0...\n",
       "5       [[[0, 0, 0, 0, 0, 0, 0, 0, 0, 0, 0, 0, 4, 0, 0...\n",
       "6       [[[1, 0, 0, 0, 2, 1, 0, 0, 1, 1, 2, 0, 0, 0, 0...\n",
       "7       [[[0, 0, 0, 1, 0, 0, 0, 0, 161, 0, 2, 7, 4, 1,...\n",
       "8       [[[0, 0, 0, 182, 0, 0, 0, 0, 0, 0, 0, 0, 1, 3,...\n",
       "9       [[[0, 225, 1, 2, 0, 4, 5, 7, 1, 1, 0, 0, 0, 0,...\n",
       "10      [[[2, 0, 0, 4, 1, 0, 1, 2, 1, 2, 1, 4, 5, 1, 0...\n",
       "11      [[[0, 0, 0, 0, 0, 0, 0, 148, 0, 0, 174, 0, 0, ...\n",
       "12      [[[0, 0, 0, 0, 165, 0, 0, 0, 163, 153, 6, 4, 2...\n",
       "13      [[[0, 0, 0, 0, 0, 0, 0, 0, 0, 0, 0, 0, 1, 0, 0...\n",
       "14      [[[0, 2, 0, 2, 0, 1, 0, 1, 0, 0, 0, 0, 0, 2, 0...\n",
       "15      [[[0, 0, 0, 0, 2, 0, 0, 0, 0, 0, 174, 0, 0, 0,...\n",
       "16      [[[3, 0, 1, 2, 0, 2, 1, 0, 0, 1, 171, 4, 2, 2,...\n",
       "17      [[[178, 223, 0, 0, 0, 0, 0, 0, 0, 0, 1, 1, 3, ...\n",
       "18      [[[1, 0, 0, 1, 0, 0, 0, 0, 1, 2, 1, 2, 0, 1, 0...\n",
       "19      [[[0, 0, 0, 0, 0, 0, 150, 0, 0, 0, 0, 0, 0, 0,...\n",
       "20      [[[0, 1, 0, 0, 0, 1, 0, 0, 0, 0, 1, 0, 0, 0, 0...\n",
       "21      [[[0, 0, 0, 0, 0, 0, 0, 0, 0, 0, 174, 0, 0, 0,...\n",
       "22      [[[0, 0, 0, 0, 0, 0, 0, 0, 0, 0, 0, 1, 0, 0, 0...\n",
       "23      [[[0, 0, 0, 0, 0, 0, 0, 148, 0, 0, 0, 2, 0, 0,...\n",
       "24      [[[177, 0, 0, 1, 0, 0, 0, 0, 0, 0, 0, 0, 0, 0,...\n",
       "25      [[[3, 3, 3, 3, 1, 4, 4, 5, 4, 2, 5, 7, 4, 5, 2...\n",
       "26      [[[0, 0, 0, 2, 0, 0, 2, 4, 0, 160, 1, 0, 0, 0,...\n",
       "27      [[[0, 0, 0, 0, 0, 0, 0, 0, 0, 0, 0, 0, 2, 0, 1...\n",
       "28      [[[0, 0, 0, 0, 0, 0, 0, 0, 0, 1, 0, 0, 1, 0, 0...\n",
       "29      [[[2, 0, 0, 0, 1, 0, 0, 1, 1, 0, 0, 0, 0, 0, 0...\n",
       "                              ...                        \n",
       "6606    [[[0, 0, 191, 0, 1, 0, 1, 1, 0, 181, 0, 0, 0, ...\n",
       "6607    [[[0, 0, 2, 0, 2, 0, 0, 0, 0, 0, 0, 0, 1, 0, 1...\n",
       "6608    [[[0, 227, 2, 1, 2, 2, 1, 2, 0, 1, 1, 2, 4, 1,...\n",
       "6609    [[[0, 0, 0, 0, 1, 1, 0, 0, 1, 0, 0, 0, 1, 0, 1...\n",
       "6610    [[[0, 0, 0, 0, 0, 0, 0, 0, 0, 0, 0, 0, 0, 0, 0...\n",
       "6611    [[[0, 0, 1, 197, 0, 1, 0, 1, 1, 0, 0, 0, 1, 0,...\n",
       "6612    [[[199, 2, 0, 2, 1, 2, 1, 0, 0, 0, 0, 0, 0, 0,...\n",
       "6613    [[[0, 0, 0, 0, 1, 0, 0, 0, 155, 0, 0, 0, 0, 0,...\n",
       "6614    [[[0, 0, 0, 0, 0, 0, 0, 0, 0, 0, 0, 0, 0, 0, 0...\n",
       "6615    [[[0, 228, 0, 0, 0, 0, 0, 0, 3, 0, 0, 2, 2, 0,...\n",
       "6616    [[[0, 0, 0, 0, 0, 0, 0, 0, 0, 0, 0, 0, 221, 1,...\n",
       "6617    [[[0, 0, 0, 0, 0, 3, 0, 0, 1, 1, 0, 0, 0, 241,...\n",
       "6618    [[[0, 227, 0, 1, 0, 1, 0, 175, 0, 0, 0, 0, 1, ...\n",
       "6619    [[[200, 0, 0, 0, 163, 0, 0, 0, 0, 1, 1, 224, 2...\n",
       "6620    [[[2, 1, 0, 0, 1, 0, 2, 0, 4, 2, 2, 0, 0, 241,...\n",
       "6621    [[[0, 2, 0, 1, 0, 0, 0, 0, 1, 0, 1, 0, 1, 1, 0...\n",
       "6622    [[[0, 0, 1, 1, 2, 0, 0, 0, 0, 0, 1, 0, 1, 0, 0...\n",
       "6623    [[[200, 0, 1, 0, 0, 0, 1, 0, 0, 0, 0, 1, 0, 0,...\n",
       "6624    [[[0, 0, 1, 0, 0, 0, 0, 1, 1, 0, 0, 1, 221, 1,...\n",
       "6625    [[[0, 0, 0, 0, 0, 4, 2, 0, 0, 0, 2, 0, 220, 2,...\n",
       "6626    [[[0, 1, 0, 0, 0, 0, 0, 0, 0, 0, 0, 1, 0, 0, 0...\n",
       "6627    [[[199, 0, 1, 2, 1, 0, 1, 1, 0, 0, 0, 1, 4, 0,...\n",
       "6628    [[[2, 0, 0, 198, 0, 0, 0, 0, 0, 2, 1, 3, 0, 0,...\n",
       "6629    [[[0, 1, 0, 0, 0, 0, 0, 0, 0, 0, 0, 0, 0, 0, 0...\n",
       "6630    [[[0, 0, 0, 0, 1, 0, 0, 0, 0, 0, 0, 0, 0, 0, 0...\n",
       "6631    [[[0, 0, 2, 0, 0, 0, 1, 0, 1, 0, 0, 0, 0, 0, 1...\n",
       "6632    [[[0, 228, 0, 199, 164, 0, 0, 0, 0, 0, 0, 1, 0...\n",
       "6633    [[[1, 2, 0, 0, 1, 1, 158, 0, 1, 0, 0, 0, 0, 0,...\n",
       "6634    [[[0, 2, 0, 1, 2, 0, 0, 175, 2, 2, 4, 2, 0, 3,...\n",
       "6635    [[[0, 0, 0, 0, 0, 0, 1, 2, 3, 2, 1, 2, 0, 0, 0...\n",
       "Name: Blobs, Length: 4913, dtype: object"
      ]
     },
     "execution_count": 11,
     "metadata": {},
     "output_type": "execute_result"
    }
   ],
   "source": [
    "df_train2.Blobs"
   ]
  },
  {
   "cell_type": "code",
   "execution_count": null,
   "metadata": {},
   "outputs": [],
   "source": []
  },
  {
   "cell_type": "code",
   "execution_count": null,
   "metadata": {},
   "outputs": [],
   "source": [
    "# If GPU is not available: \n",
    "# GPU_USE = '/cpu:0'\n",
    "# config = tf.ConfigProto(device_count = {\"GPU\": 0})\n",
    "\n",
    "\n",
    "# If GPU is available: \n",
    "config = tf.ConfigProto()\n",
    "config.log_device_placement = True\n",
    "config.allow_soft_placement = True\n",
    "config.gpu_options.allocator_type = 'BFC'\n",
    "\n",
    "# Limit the maximum memory used\n",
    "config.gpu_options.per_process_gpu_memory_fraction = 0.1\n",
    "\n",
    "# set session config\n",
    "tf.keras.backend.set_session(tf.Session(config=config))"
   ]
  },
  {
   "cell_type": "markdown",
   "metadata": {},
   "source": [
    "#Config for ConvLSTM"
   ]
  },
  {
   "cell_type": "code",
   "execution_count": null,
   "metadata": {},
   "outputs": [],
   "source": [
    "tf.get_default_graph()\n",
    "model = Sequential()\n",
    "model.add(TimeDistributed(Conv2D(filters = 32, kernel_size = (3,3),padding = 'Same', \n",
    "                 activation ='relu'), input_shape=(None, train_x.shape[1], train_x.shape[2], 1)))\n",
    "model.add(TimeDistributed(Conv2D(filters = 32, kernel_size = (3,3),padding = 'Same', \n",
    "                 activation ='relu')))\n",
    "model.add(TimeDistributed(MaxPool2D(pool_size=(2,2))))\n",
    "model.add(TimeDistributed(Dropout(0.5)))\n",
    "\n",
    "model.add(TimeDistributed(Conv2D(filters = 64, kernel_size = (3,3),padding = 'Same', \n",
    "                 activation ='relu')))\n",
    "model.add(TimeDistributed(Conv2D(filters = 64, kernel_size = (3,3),padding = 'Same', \n",
    "                 activation ='relu')))\n",
    "model.add(TimeDistributed(MaxPool2D(pool_size=(2,2))))\n",
    "model.add(TimeDistributed(Dropout(0.5)))\n",
    "\n",
    "model.add(TimeDistributed(Flatten()))\n",
    "\n",
    "model.add(LSTM(75, return_sequences=True))\n",
    "model.add(LSTM(75))\n",
    "model.add(Dense(2))\n",
    "\n",
    "optimizer = optimizers.Adam(lr = 0.001, decay=1e-6)\n",
    "#optimizer = optimizers.RMSprop(lr=0.001, rho=0.9, epsilon=1e-08, decay=0.1)\n",
    "model.compile(loss='categorical_crossentropy',\n",
    "                  optimizer=optimizer,\n",
    "                  metrics=['accuracy'])\n",
    "\n",
    "# Broadcast progress to the tensorboard.\n",
    "readable_timestamp = datetime.datetime.fromtimestamp(time.time()).strftime('%Y%m%d_%H%M%S')\n",
    "tensorflowfolder = \"/srv/share/tensorboardfiles/KnuckleFinger_LSTM_Jan_\" + readable_timestamp\n",
    "\n",
    "config = \"\"\n",
    "for layer in model.layers:\n",
    "    config += str(layer.output).split('\\\"')[1].split(\"/\")[0] + str(layer.output_shape) + \"\\n\\n\"\n",
    "config += \"batchsize: \" + str(batch_size) + \"\\n\\n\" + \"epochs: \" + str(epochs) + \"\\n\\n\"\n",
    "\n",
    "model.summary()\n",
    "\n",
    "readable_timestamp = datetime.datetime.fromtimestamp(time.time()).strftime('%Y%m%d_%H%M%S')\n",
    "tensorflowfolder = \"/srv/share/tensorboardfiles/KnuckleFinger_LSTM_Jan_\" + readable_timestamp\n",
    "print(\"KnuckleFinger_LSTM_Jan_\" + readable_timestamp)\n",
    "logger = LoggingTensorBoard(settings_str_to_log = config, log_dir=tensorflowfolder, histogram_freq=0,\n",
    "                            write_graph=True, write_images=True, update_freq = 'epoch')\n",
    "storer = ModelCheckpoint(\"./ModelSnapshots/KnuckleFinger_LSTM_Jan_\" + readable_timestamp + \".h5\", monitor='val_loss', verbose=0,\n",
    "                         save_best_only=True, save_weights_only=False, mode='auto', period=1)\n",
    "learning_rate_reduction = ReduceLROnPlateau(monitor='val_loss', \n",
    "                                            patience=10, \n",
    "                                            verbose=1, \n",
    "                                            factor=0.95, \n",
    "                                            min_lr=0.00001)\n",
    "\n",
    "history = model.fit(x_train, y_train_one_hot,\n",
    "                        batch_size=batch_size,\n",
    "                        epochs=epochs,\n",
    "                        verbose=1,\n",
    "                        validation_data=(x_test, y_test_one_hot),\n",
    "                        callbacks=[storer,tg_callback, learning_rate_reduction])\n"
   ]
  },
  {
   "cell_type": "code",
   "execution_count": null,
   "metadata": {},
   "outputs": [],
   "source": []
  },
  {
   "cell_type": "code",
   "execution_count": null,
   "metadata": {},
   "outputs": [],
   "source": []
  },
  {
   "cell_type": "code",
   "execution_count": null,
   "metadata": {},
   "outputs": [],
   "source": []
  },
  {
   "cell_type": "code",
   "execution_count": null,
   "metadata": {},
   "outputs": [],
   "source": []
  },
  {
   "cell_type": "code",
   "execution_count": null,
   "metadata": {},
   "outputs": [],
   "source": []
  },
  {
   "cell_type": "code",
   "execution_count": null,
   "metadata": {},
   "outputs": [],
   "source": []
  }
 ],
 "metadata": {
  "kernelspec": {
   "display_name": "Python 3",
   "language": "python",
   "name": "python3"
  },
  "language_info": {
   "codemirror_mode": {
    "name": "ipython",
    "version": 3
   },
   "file_extension": ".py",
   "mimetype": "text/x-python",
   "name": "python",
   "nbconvert_exporter": "python",
   "pygments_lexer": "ipython3",
   "version": "3.6.7"
  }
 },
 "nbformat": 4,
 "nbformat_minor": 2
}
